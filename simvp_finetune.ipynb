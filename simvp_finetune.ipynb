{
 "cells": [
  {
   "cell_type": "code",
   "execution_count": 1,
   "metadata": {},
   "outputs": [],
   "source": [
    "import os\n",
    "import torch\n",
    "import torch.nn as nn\n",
    "import torch.nn.functional as F\n",
    "import torch.optim as optim\n",
    "from tqdm.notebook import tqdm\n",
    "import numpy as np\n",
    "from PIL import Image\n",
    "from torch.utils.data import Dataset, DataLoader\n",
    "from torchvision import models\n",
    "from torchvision import transforms\n",
    "from datetime import datetime\n",
    "import math\n",
    "from video_dataset import VideoFrameDataset\n",
    "from simvp import SimVP\n",
    "import matplotlib.pyplot as plt"
   ]
  },
  {
   "cell_type": "markdown",
   "metadata": {},
   "source": [
    "### Load Data"
   ]
  },
  {
   "cell_type": "code",
   "execution_count": 2,
   "metadata": {},
   "outputs": [],
   "source": [
    "transform = transforms.Compose([\n",
    "    transforms.Pad(padding=(0, 40), padding_mode='edge'),  # Only pad width\n",
    "    # transforms.Resize((256, 256)),  # Resize the now square image to 256x256\n",
    "    transforms.ToTensor(),\n",
    "    transforms.Normalize(mean=[0.5002, 0.4976, 0.4945], std=[0.0555, 0.0547, 0.0566])  # Standard normalization\n",
    "])\n",
    "\n",
    "root_dir = '/home/yibin/workspace/dl/final_completion/dataset_student/dataset' # Change this to your dataset directory\n",
    "train_set = VideoFrameDataset(root_dir, 'train', transform)\n",
    "val_set = VideoFrameDataset(root_dir, 'val', transform)\n",
    "unlabeled_set = VideoFrameDataset(root_dir, 'unlabeled', transform)\n",
    "batch_size = 1\n",
    "train_loader = DataLoader(train_set, batch_size=batch_size, shuffle=True, num_workers=4)\n",
    "val_loader = DataLoader(val_set, batch_size=batch_size, shuffle=True, num_workers=4)\n",
    "unlabeled_loader = DataLoader(unlabeled_set, batch_size=batch_size, shuffle=True, num_workers=4)"
   ]
  },
  {
   "cell_type": "markdown",
   "metadata": {},
   "source": [
    "### Load Model from Checkpoint file for Finetuning"
   ]
  },
  {
   "cell_type": "code",
   "execution_count": 3,
   "metadata": {},
   "outputs": [
    {
     "data": {
      "text/plain": [
       "SimVP(\n",
       "  (enc): Encoder(\n",
       "    (enc): Sequential(\n",
       "      (0): ConvSC(\n",
       "        (conv): BasicConv2d(\n",
       "          (conv): Conv2d(1, 16, kernel_size=(3, 3), stride=(1, 1), padding=(1, 1))\n",
       "          (norm): GroupNorm(2, 16, eps=1e-05, affine=True)\n",
       "          (act): LeakyReLU(negative_slope=0.2, inplace=True)\n",
       "        )\n",
       "      )\n",
       "      (1): ConvSC(\n",
       "        (conv): BasicConv2d(\n",
       "          (conv): Conv2d(16, 16, kernel_size=(3, 3), stride=(2, 2), padding=(1, 1))\n",
       "          (norm): GroupNorm(2, 16, eps=1e-05, affine=True)\n",
       "          (act): LeakyReLU(negative_slope=0.2, inplace=True)\n",
       "        )\n",
       "      )\n",
       "      (2): ConvSC(\n",
       "        (conv): BasicConv2d(\n",
       "          (conv): Conv2d(16, 16, kernel_size=(3, 3), stride=(1, 1), padding=(1, 1))\n",
       "          (norm): GroupNorm(2, 16, eps=1e-05, affine=True)\n",
       "          (act): LeakyReLU(negative_slope=0.2, inplace=True)\n",
       "        )\n",
       "      )\n",
       "      (3): ConvSC(\n",
       "        (conv): BasicConv2d(\n",
       "          (conv): Conv2d(16, 16, kernel_size=(3, 3), stride=(2, 2), padding=(1, 1))\n",
       "          (norm): GroupNorm(2, 16, eps=1e-05, affine=True)\n",
       "          (act): LeakyReLU(negative_slope=0.2, inplace=True)\n",
       "        )\n",
       "      )\n",
       "    )\n",
       "  )\n",
       "  (hid): Mid_Xnet(\n",
       "    (enc): Sequential(\n",
       "      (0): Inception(\n",
       "        (conv1): Conv2d(176, 128, kernel_size=(1, 1), stride=(1, 1))\n",
       "        (layers): Sequential(\n",
       "          (0): GroupConv2d(\n",
       "            (conv): Conv2d(128, 256, kernel_size=(3, 3), stride=(1, 1), padding=(1, 1), groups=8)\n",
       "            (norm): GroupNorm(8, 256, eps=1e-05, affine=True)\n",
       "            (activate): LeakyReLU(negative_slope=0.2, inplace=True)\n",
       "          )\n",
       "          (1): GroupConv2d(\n",
       "            (conv): Conv2d(128, 256, kernel_size=(5, 5), stride=(1, 1), padding=(2, 2), groups=8)\n",
       "            (norm): GroupNorm(8, 256, eps=1e-05, affine=True)\n",
       "            (activate): LeakyReLU(negative_slope=0.2, inplace=True)\n",
       "          )\n",
       "          (2): GroupConv2d(\n",
       "            (conv): Conv2d(128, 256, kernel_size=(7, 7), stride=(1, 1), padding=(3, 3), groups=8)\n",
       "            (norm): GroupNorm(8, 256, eps=1e-05, affine=True)\n",
       "            (activate): LeakyReLU(negative_slope=0.2, inplace=True)\n",
       "          )\n",
       "          (3): GroupConv2d(\n",
       "            (conv): Conv2d(128, 256, kernel_size=(11, 11), stride=(1, 1), padding=(5, 5), groups=8)\n",
       "            (norm): GroupNorm(8, 256, eps=1e-05, affine=True)\n",
       "            (activate): LeakyReLU(negative_slope=0.2, inplace=True)\n",
       "          )\n",
       "        )\n",
       "      )\n",
       "      (1): Inception(\n",
       "        (conv1): Conv2d(256, 128, kernel_size=(1, 1), stride=(1, 1))\n",
       "        (layers): Sequential(\n",
       "          (0): GroupConv2d(\n",
       "            (conv): Conv2d(128, 256, kernel_size=(3, 3), stride=(1, 1), padding=(1, 1), groups=8)\n",
       "            (norm): GroupNorm(8, 256, eps=1e-05, affine=True)\n",
       "            (activate): LeakyReLU(negative_slope=0.2, inplace=True)\n",
       "          )\n",
       "          (1): GroupConv2d(\n",
       "            (conv): Conv2d(128, 256, kernel_size=(5, 5), stride=(1, 1), padding=(2, 2), groups=8)\n",
       "            (norm): GroupNorm(8, 256, eps=1e-05, affine=True)\n",
       "            (activate): LeakyReLU(negative_slope=0.2, inplace=True)\n",
       "          )\n",
       "          (2): GroupConv2d(\n",
       "            (conv): Conv2d(128, 256, kernel_size=(7, 7), stride=(1, 1), padding=(3, 3), groups=8)\n",
       "            (norm): GroupNorm(8, 256, eps=1e-05, affine=True)\n",
       "            (activate): LeakyReLU(negative_slope=0.2, inplace=True)\n",
       "          )\n",
       "          (3): GroupConv2d(\n",
       "            (conv): Conv2d(128, 256, kernel_size=(11, 11), stride=(1, 1), padding=(5, 5), groups=8)\n",
       "            (norm): GroupNorm(8, 256, eps=1e-05, affine=True)\n",
       "            (activate): LeakyReLU(negative_slope=0.2, inplace=True)\n",
       "          )\n",
       "        )\n",
       "      )\n",
       "      (2): Inception(\n",
       "        (conv1): Conv2d(256, 128, kernel_size=(1, 1), stride=(1, 1))\n",
       "        (layers): Sequential(\n",
       "          (0): GroupConv2d(\n",
       "            (conv): Conv2d(128, 256, kernel_size=(3, 3), stride=(1, 1), padding=(1, 1), groups=8)\n",
       "            (norm): GroupNorm(8, 256, eps=1e-05, affine=True)\n",
       "            (activate): LeakyReLU(negative_slope=0.2, inplace=True)\n",
       "          )\n",
       "          (1): GroupConv2d(\n",
       "            (conv): Conv2d(128, 256, kernel_size=(5, 5), stride=(1, 1), padding=(2, 2), groups=8)\n",
       "            (norm): GroupNorm(8, 256, eps=1e-05, affine=True)\n",
       "            (activate): LeakyReLU(negative_slope=0.2, inplace=True)\n",
       "          )\n",
       "          (2): GroupConv2d(\n",
       "            (conv): Conv2d(128, 256, kernel_size=(7, 7), stride=(1, 1), padding=(3, 3), groups=8)\n",
       "            (norm): GroupNorm(8, 256, eps=1e-05, affine=True)\n",
       "            (activate): LeakyReLU(negative_slope=0.2, inplace=True)\n",
       "          )\n",
       "          (3): GroupConv2d(\n",
       "            (conv): Conv2d(128, 256, kernel_size=(11, 11), stride=(1, 1), padding=(5, 5), groups=8)\n",
       "            (norm): GroupNorm(8, 256, eps=1e-05, affine=True)\n",
       "            (activate): LeakyReLU(negative_slope=0.2, inplace=True)\n",
       "          )\n",
       "        )\n",
       "      )\n",
       "      (3): Inception(\n",
       "        (conv1): Conv2d(256, 128, kernel_size=(1, 1), stride=(1, 1))\n",
       "        (layers): Sequential(\n",
       "          (0): GroupConv2d(\n",
       "            (conv): Conv2d(128, 256, kernel_size=(3, 3), stride=(1, 1), padding=(1, 1), groups=8)\n",
       "            (norm): GroupNorm(8, 256, eps=1e-05, affine=True)\n",
       "            (activate): LeakyReLU(negative_slope=0.2, inplace=True)\n",
       "          )\n",
       "          (1): GroupConv2d(\n",
       "            (conv): Conv2d(128, 256, kernel_size=(5, 5), stride=(1, 1), padding=(2, 2), groups=8)\n",
       "            (norm): GroupNorm(8, 256, eps=1e-05, affine=True)\n",
       "            (activate): LeakyReLU(negative_slope=0.2, inplace=True)\n",
       "          )\n",
       "          (2): GroupConv2d(\n",
       "            (conv): Conv2d(128, 256, kernel_size=(7, 7), stride=(1, 1), padding=(3, 3), groups=8)\n",
       "            (norm): GroupNorm(8, 256, eps=1e-05, affine=True)\n",
       "            (activate): LeakyReLU(negative_slope=0.2, inplace=True)\n",
       "          )\n",
       "          (3): GroupConv2d(\n",
       "            (conv): Conv2d(128, 256, kernel_size=(11, 11), stride=(1, 1), padding=(5, 5), groups=8)\n",
       "            (norm): GroupNorm(8, 256, eps=1e-05, affine=True)\n",
       "            (activate): LeakyReLU(negative_slope=0.2, inplace=True)\n",
       "          )\n",
       "        )\n",
       "      )\n",
       "      (4): Inception(\n",
       "        (conv1): Conv2d(256, 128, kernel_size=(1, 1), stride=(1, 1))\n",
       "        (layers): Sequential(\n",
       "          (0): GroupConv2d(\n",
       "            (conv): Conv2d(128, 256, kernel_size=(3, 3), stride=(1, 1), padding=(1, 1), groups=8)\n",
       "            (norm): GroupNorm(8, 256, eps=1e-05, affine=True)\n",
       "            (activate): LeakyReLU(negative_slope=0.2, inplace=True)\n",
       "          )\n",
       "          (1): GroupConv2d(\n",
       "            (conv): Conv2d(128, 256, kernel_size=(5, 5), stride=(1, 1), padding=(2, 2), groups=8)\n",
       "            (norm): GroupNorm(8, 256, eps=1e-05, affine=True)\n",
       "            (activate): LeakyReLU(negative_slope=0.2, inplace=True)\n",
       "          )\n",
       "          (2): GroupConv2d(\n",
       "            (conv): Conv2d(128, 256, kernel_size=(7, 7), stride=(1, 1), padding=(3, 3), groups=8)\n",
       "            (norm): GroupNorm(8, 256, eps=1e-05, affine=True)\n",
       "            (activate): LeakyReLU(negative_slope=0.2, inplace=True)\n",
       "          )\n",
       "          (3): GroupConv2d(\n",
       "            (conv): Conv2d(128, 256, kernel_size=(11, 11), stride=(1, 1), padding=(5, 5), groups=8)\n",
       "            (norm): GroupNorm(8, 256, eps=1e-05, affine=True)\n",
       "            (activate): LeakyReLU(negative_slope=0.2, inplace=True)\n",
       "          )\n",
       "        )\n",
       "      )\n",
       "      (5): Inception(\n",
       "        (conv1): Conv2d(256, 128, kernel_size=(1, 1), stride=(1, 1))\n",
       "        (layers): Sequential(\n",
       "          (0): GroupConv2d(\n",
       "            (conv): Conv2d(128, 256, kernel_size=(3, 3), stride=(1, 1), padding=(1, 1), groups=8)\n",
       "            (norm): GroupNorm(8, 256, eps=1e-05, affine=True)\n",
       "            (activate): LeakyReLU(negative_slope=0.2, inplace=True)\n",
       "          )\n",
       "          (1): GroupConv2d(\n",
       "            (conv): Conv2d(128, 256, kernel_size=(5, 5), stride=(1, 1), padding=(2, 2), groups=8)\n",
       "            (norm): GroupNorm(8, 256, eps=1e-05, affine=True)\n",
       "            (activate): LeakyReLU(negative_slope=0.2, inplace=True)\n",
       "          )\n",
       "          (2): GroupConv2d(\n",
       "            (conv): Conv2d(128, 256, kernel_size=(7, 7), stride=(1, 1), padding=(3, 3), groups=8)\n",
       "            (norm): GroupNorm(8, 256, eps=1e-05, affine=True)\n",
       "            (activate): LeakyReLU(negative_slope=0.2, inplace=True)\n",
       "          )\n",
       "          (3): GroupConv2d(\n",
       "            (conv): Conv2d(128, 256, kernel_size=(11, 11), stride=(1, 1), padding=(5, 5), groups=8)\n",
       "            (norm): GroupNorm(8, 256, eps=1e-05, affine=True)\n",
       "            (activate): LeakyReLU(negative_slope=0.2, inplace=True)\n",
       "          )\n",
       "        )\n",
       "      )\n",
       "      (6): Inception(\n",
       "        (conv1): Conv2d(256, 128, kernel_size=(1, 1), stride=(1, 1))\n",
       "        (layers): Sequential(\n",
       "          (0): GroupConv2d(\n",
       "            (conv): Conv2d(128, 256, kernel_size=(3, 3), stride=(1, 1), padding=(1, 1), groups=8)\n",
       "            (norm): GroupNorm(8, 256, eps=1e-05, affine=True)\n",
       "            (activate): LeakyReLU(negative_slope=0.2, inplace=True)\n",
       "          )\n",
       "          (1): GroupConv2d(\n",
       "            (conv): Conv2d(128, 256, kernel_size=(5, 5), stride=(1, 1), padding=(2, 2), groups=8)\n",
       "            (norm): GroupNorm(8, 256, eps=1e-05, affine=True)\n",
       "            (activate): LeakyReLU(negative_slope=0.2, inplace=True)\n",
       "          )\n",
       "          (2): GroupConv2d(\n",
       "            (conv): Conv2d(128, 256, kernel_size=(7, 7), stride=(1, 1), padding=(3, 3), groups=8)\n",
       "            (norm): GroupNorm(8, 256, eps=1e-05, affine=True)\n",
       "            (activate): LeakyReLU(negative_slope=0.2, inplace=True)\n",
       "          )\n",
       "          (3): GroupConv2d(\n",
       "            (conv): Conv2d(128, 256, kernel_size=(11, 11), stride=(1, 1), padding=(5, 5), groups=8)\n",
       "            (norm): GroupNorm(8, 256, eps=1e-05, affine=True)\n",
       "            (activate): LeakyReLU(negative_slope=0.2, inplace=True)\n",
       "          )\n",
       "        )\n",
       "      )\n",
       "      (7): Inception(\n",
       "        (conv1): Conv2d(256, 128, kernel_size=(1, 1), stride=(1, 1))\n",
       "        (layers): Sequential(\n",
       "          (0): GroupConv2d(\n",
       "            (conv): Conv2d(128, 256, kernel_size=(3, 3), stride=(1, 1), padding=(1, 1), groups=8)\n",
       "            (norm): GroupNorm(8, 256, eps=1e-05, affine=True)\n",
       "            (activate): LeakyReLU(negative_slope=0.2, inplace=True)\n",
       "          )\n",
       "          (1): GroupConv2d(\n",
       "            (conv): Conv2d(128, 256, kernel_size=(5, 5), stride=(1, 1), padding=(2, 2), groups=8)\n",
       "            (norm): GroupNorm(8, 256, eps=1e-05, affine=True)\n",
       "            (activate): LeakyReLU(negative_slope=0.2, inplace=True)\n",
       "          )\n",
       "          (2): GroupConv2d(\n",
       "            (conv): Conv2d(128, 256, kernel_size=(7, 7), stride=(1, 1), padding=(3, 3), groups=8)\n",
       "            (norm): GroupNorm(8, 256, eps=1e-05, affine=True)\n",
       "            (activate): LeakyReLU(negative_slope=0.2, inplace=True)\n",
       "          )\n",
       "          (3): GroupConv2d(\n",
       "            (conv): Conv2d(128, 256, kernel_size=(11, 11), stride=(1, 1), padding=(5, 5), groups=8)\n",
       "            (norm): GroupNorm(8, 256, eps=1e-05, affine=True)\n",
       "            (activate): LeakyReLU(negative_slope=0.2, inplace=True)\n",
       "          )\n",
       "        )\n",
       "      )\n",
       "    )\n",
       "    (dec): Sequential(\n",
       "      (0): Inception(\n",
       "        (conv1): Conv2d(256, 128, kernel_size=(1, 1), stride=(1, 1))\n",
       "        (layers): Sequential(\n",
       "          (0): GroupConv2d(\n",
       "            (conv): Conv2d(128, 256, kernel_size=(3, 3), stride=(1, 1), padding=(1, 1), groups=8)\n",
       "            (norm): GroupNorm(8, 256, eps=1e-05, affine=True)\n",
       "            (activate): LeakyReLU(negative_slope=0.2, inplace=True)\n",
       "          )\n",
       "          (1): GroupConv2d(\n",
       "            (conv): Conv2d(128, 256, kernel_size=(5, 5), stride=(1, 1), padding=(2, 2), groups=8)\n",
       "            (norm): GroupNorm(8, 256, eps=1e-05, affine=True)\n",
       "            (activate): LeakyReLU(negative_slope=0.2, inplace=True)\n",
       "          )\n",
       "          (2): GroupConv2d(\n",
       "            (conv): Conv2d(128, 256, kernel_size=(7, 7), stride=(1, 1), padding=(3, 3), groups=8)\n",
       "            (norm): GroupNorm(8, 256, eps=1e-05, affine=True)\n",
       "            (activate): LeakyReLU(negative_slope=0.2, inplace=True)\n",
       "          )\n",
       "          (3): GroupConv2d(\n",
       "            (conv): Conv2d(128, 256, kernel_size=(11, 11), stride=(1, 1), padding=(5, 5), groups=8)\n",
       "            (norm): GroupNorm(8, 256, eps=1e-05, affine=True)\n",
       "            (activate): LeakyReLU(negative_slope=0.2, inplace=True)\n",
       "          )\n",
       "        )\n",
       "      )\n",
       "      (1): Inception(\n",
       "        (conv1): Conv2d(512, 128, kernel_size=(1, 1), stride=(1, 1))\n",
       "        (layers): Sequential(\n",
       "          (0): GroupConv2d(\n",
       "            (conv): Conv2d(128, 256, kernel_size=(3, 3), stride=(1, 1), padding=(1, 1), groups=8)\n",
       "            (norm): GroupNorm(8, 256, eps=1e-05, affine=True)\n",
       "            (activate): LeakyReLU(negative_slope=0.2, inplace=True)\n",
       "          )\n",
       "          (1): GroupConv2d(\n",
       "            (conv): Conv2d(128, 256, kernel_size=(5, 5), stride=(1, 1), padding=(2, 2), groups=8)\n",
       "            (norm): GroupNorm(8, 256, eps=1e-05, affine=True)\n",
       "            (activate): LeakyReLU(negative_slope=0.2, inplace=True)\n",
       "          )\n",
       "          (2): GroupConv2d(\n",
       "            (conv): Conv2d(128, 256, kernel_size=(7, 7), stride=(1, 1), padding=(3, 3), groups=8)\n",
       "            (norm): GroupNorm(8, 256, eps=1e-05, affine=True)\n",
       "            (activate): LeakyReLU(negative_slope=0.2, inplace=True)\n",
       "          )\n",
       "          (3): GroupConv2d(\n",
       "            (conv): Conv2d(128, 256, kernel_size=(11, 11), stride=(1, 1), padding=(5, 5), groups=8)\n",
       "            (norm): GroupNorm(8, 256, eps=1e-05, affine=True)\n",
       "            (activate): LeakyReLU(negative_slope=0.2, inplace=True)\n",
       "          )\n",
       "        )\n",
       "      )\n",
       "      (2): Inception(\n",
       "        (conv1): Conv2d(512, 128, kernel_size=(1, 1), stride=(1, 1))\n",
       "        (layers): Sequential(\n",
       "          (0): GroupConv2d(\n",
       "            (conv): Conv2d(128, 256, kernel_size=(3, 3), stride=(1, 1), padding=(1, 1), groups=8)\n",
       "            (norm): GroupNorm(8, 256, eps=1e-05, affine=True)\n",
       "            (activate): LeakyReLU(negative_slope=0.2, inplace=True)\n",
       "          )\n",
       "          (1): GroupConv2d(\n",
       "            (conv): Conv2d(128, 256, kernel_size=(5, 5), stride=(1, 1), padding=(2, 2), groups=8)\n",
       "            (norm): GroupNorm(8, 256, eps=1e-05, affine=True)\n",
       "            (activate): LeakyReLU(negative_slope=0.2, inplace=True)\n",
       "          )\n",
       "          (2): GroupConv2d(\n",
       "            (conv): Conv2d(128, 256, kernel_size=(7, 7), stride=(1, 1), padding=(3, 3), groups=8)\n",
       "            (norm): GroupNorm(8, 256, eps=1e-05, affine=True)\n",
       "            (activate): LeakyReLU(negative_slope=0.2, inplace=True)\n",
       "          )\n",
       "          (3): GroupConv2d(\n",
       "            (conv): Conv2d(128, 256, kernel_size=(11, 11), stride=(1, 1), padding=(5, 5), groups=8)\n",
       "            (norm): GroupNorm(8, 256, eps=1e-05, affine=True)\n",
       "            (activate): LeakyReLU(negative_slope=0.2, inplace=True)\n",
       "          )\n",
       "        )\n",
       "      )\n",
       "      (3): Inception(\n",
       "        (conv1): Conv2d(512, 128, kernel_size=(1, 1), stride=(1, 1))\n",
       "        (layers): Sequential(\n",
       "          (0): GroupConv2d(\n",
       "            (conv): Conv2d(128, 256, kernel_size=(3, 3), stride=(1, 1), padding=(1, 1), groups=8)\n",
       "            (norm): GroupNorm(8, 256, eps=1e-05, affine=True)\n",
       "            (activate): LeakyReLU(negative_slope=0.2, inplace=True)\n",
       "          )\n",
       "          (1): GroupConv2d(\n",
       "            (conv): Conv2d(128, 256, kernel_size=(5, 5), stride=(1, 1), padding=(2, 2), groups=8)\n",
       "            (norm): GroupNorm(8, 256, eps=1e-05, affine=True)\n",
       "            (activate): LeakyReLU(negative_slope=0.2, inplace=True)\n",
       "          )\n",
       "          (2): GroupConv2d(\n",
       "            (conv): Conv2d(128, 256, kernel_size=(7, 7), stride=(1, 1), padding=(3, 3), groups=8)\n",
       "            (norm): GroupNorm(8, 256, eps=1e-05, affine=True)\n",
       "            (activate): LeakyReLU(negative_slope=0.2, inplace=True)\n",
       "          )\n",
       "          (3): GroupConv2d(\n",
       "            (conv): Conv2d(128, 256, kernel_size=(11, 11), stride=(1, 1), padding=(5, 5), groups=8)\n",
       "            (norm): GroupNorm(8, 256, eps=1e-05, affine=True)\n",
       "            (activate): LeakyReLU(negative_slope=0.2, inplace=True)\n",
       "          )\n",
       "        )\n",
       "      )\n",
       "      (4): Inception(\n",
       "        (conv1): Conv2d(512, 128, kernel_size=(1, 1), stride=(1, 1))\n",
       "        (layers): Sequential(\n",
       "          (0): GroupConv2d(\n",
       "            (conv): Conv2d(128, 256, kernel_size=(3, 3), stride=(1, 1), padding=(1, 1), groups=8)\n",
       "            (norm): GroupNorm(8, 256, eps=1e-05, affine=True)\n",
       "            (activate): LeakyReLU(negative_slope=0.2, inplace=True)\n",
       "          )\n",
       "          (1): GroupConv2d(\n",
       "            (conv): Conv2d(128, 256, kernel_size=(5, 5), stride=(1, 1), padding=(2, 2), groups=8)\n",
       "            (norm): GroupNorm(8, 256, eps=1e-05, affine=True)\n",
       "            (activate): LeakyReLU(negative_slope=0.2, inplace=True)\n",
       "          )\n",
       "          (2): GroupConv2d(\n",
       "            (conv): Conv2d(128, 256, kernel_size=(7, 7), stride=(1, 1), padding=(3, 3), groups=8)\n",
       "            (norm): GroupNorm(8, 256, eps=1e-05, affine=True)\n",
       "            (activate): LeakyReLU(negative_slope=0.2, inplace=True)\n",
       "          )\n",
       "          (3): GroupConv2d(\n",
       "            (conv): Conv2d(128, 256, kernel_size=(11, 11), stride=(1, 1), padding=(5, 5), groups=8)\n",
       "            (norm): GroupNorm(8, 256, eps=1e-05, affine=True)\n",
       "            (activate): LeakyReLU(negative_slope=0.2, inplace=True)\n",
       "          )\n",
       "        )\n",
       "      )\n",
       "      (5): Inception(\n",
       "        (conv1): Conv2d(512, 128, kernel_size=(1, 1), stride=(1, 1))\n",
       "        (layers): Sequential(\n",
       "          (0): GroupConv2d(\n",
       "            (conv): Conv2d(128, 256, kernel_size=(3, 3), stride=(1, 1), padding=(1, 1), groups=8)\n",
       "            (norm): GroupNorm(8, 256, eps=1e-05, affine=True)\n",
       "            (activate): LeakyReLU(negative_slope=0.2, inplace=True)\n",
       "          )\n",
       "          (1): GroupConv2d(\n",
       "            (conv): Conv2d(128, 256, kernel_size=(5, 5), stride=(1, 1), padding=(2, 2), groups=8)\n",
       "            (norm): GroupNorm(8, 256, eps=1e-05, affine=True)\n",
       "            (activate): LeakyReLU(negative_slope=0.2, inplace=True)\n",
       "          )\n",
       "          (2): GroupConv2d(\n",
       "            (conv): Conv2d(128, 256, kernel_size=(7, 7), stride=(1, 1), padding=(3, 3), groups=8)\n",
       "            (norm): GroupNorm(8, 256, eps=1e-05, affine=True)\n",
       "            (activate): LeakyReLU(negative_slope=0.2, inplace=True)\n",
       "          )\n",
       "          (3): GroupConv2d(\n",
       "            (conv): Conv2d(128, 256, kernel_size=(11, 11), stride=(1, 1), padding=(5, 5), groups=8)\n",
       "            (norm): GroupNorm(8, 256, eps=1e-05, affine=True)\n",
       "            (activate): LeakyReLU(negative_slope=0.2, inplace=True)\n",
       "          )\n",
       "        )\n",
       "      )\n",
       "      (6): Inception(\n",
       "        (conv1): Conv2d(512, 128, kernel_size=(1, 1), stride=(1, 1))\n",
       "        (layers): Sequential(\n",
       "          (0): GroupConv2d(\n",
       "            (conv): Conv2d(128, 256, kernel_size=(3, 3), stride=(1, 1), padding=(1, 1), groups=8)\n",
       "            (norm): GroupNorm(8, 256, eps=1e-05, affine=True)\n",
       "            (activate): LeakyReLU(negative_slope=0.2, inplace=True)\n",
       "          )\n",
       "          (1): GroupConv2d(\n",
       "            (conv): Conv2d(128, 256, kernel_size=(5, 5), stride=(1, 1), padding=(2, 2), groups=8)\n",
       "            (norm): GroupNorm(8, 256, eps=1e-05, affine=True)\n",
       "            (activate): LeakyReLU(negative_slope=0.2, inplace=True)\n",
       "          )\n",
       "          (2): GroupConv2d(\n",
       "            (conv): Conv2d(128, 256, kernel_size=(7, 7), stride=(1, 1), padding=(3, 3), groups=8)\n",
       "            (norm): GroupNorm(8, 256, eps=1e-05, affine=True)\n",
       "            (activate): LeakyReLU(negative_slope=0.2, inplace=True)\n",
       "          )\n",
       "          (3): GroupConv2d(\n",
       "            (conv): Conv2d(128, 256, kernel_size=(11, 11), stride=(1, 1), padding=(5, 5), groups=8)\n",
       "            (norm): GroupNorm(8, 256, eps=1e-05, affine=True)\n",
       "            (activate): LeakyReLU(negative_slope=0.2, inplace=True)\n",
       "          )\n",
       "        )\n",
       "      )\n",
       "      (7): Inception(\n",
       "        (conv1): Conv2d(512, 128, kernel_size=(1, 1), stride=(1, 1))\n",
       "        (layers): Sequential(\n",
       "          (0): GroupConv2d(\n",
       "            (conv): Conv2d(128, 176, kernel_size=(3, 3), stride=(1, 1), padding=(1, 1), groups=8)\n",
       "            (norm): GroupNorm(8, 176, eps=1e-05, affine=True)\n",
       "            (activate): LeakyReLU(negative_slope=0.2, inplace=True)\n",
       "          )\n",
       "          (1): GroupConv2d(\n",
       "            (conv): Conv2d(128, 176, kernel_size=(5, 5), stride=(1, 1), padding=(2, 2), groups=8)\n",
       "            (norm): GroupNorm(8, 176, eps=1e-05, affine=True)\n",
       "            (activate): LeakyReLU(negative_slope=0.2, inplace=True)\n",
       "          )\n",
       "          (2): GroupConv2d(\n",
       "            (conv): Conv2d(128, 176, kernel_size=(7, 7), stride=(1, 1), padding=(3, 3), groups=8)\n",
       "            (norm): GroupNorm(8, 176, eps=1e-05, affine=True)\n",
       "            (activate): LeakyReLU(negative_slope=0.2, inplace=True)\n",
       "          )\n",
       "          (3): GroupConv2d(\n",
       "            (conv): Conv2d(128, 176, kernel_size=(11, 11), stride=(1, 1), padding=(5, 5), groups=8)\n",
       "            (norm): GroupNorm(8, 176, eps=1e-05, affine=True)\n",
       "            (activate): LeakyReLU(negative_slope=0.2, inplace=True)\n",
       "          )\n",
       "        )\n",
       "      )\n",
       "    )\n",
       "  )\n",
       "  (dec): Decoder(\n",
       "    (dec): Sequential(\n",
       "      (0): ConvSC(\n",
       "        (conv): BasicConv2d(\n",
       "          (conv): ConvTranspose2d(16, 16, kernel_size=(3, 3), stride=(2, 2), padding=(1, 1), output_padding=(1, 1))\n",
       "          (norm): GroupNorm(2, 16, eps=1e-05, affine=True)\n",
       "          (act): LeakyReLU(negative_slope=0.2, inplace=True)\n",
       "        )\n",
       "      )\n",
       "      (1): ConvSC(\n",
       "        (conv): BasicConv2d(\n",
       "          (conv): Conv2d(16, 16, kernel_size=(3, 3), stride=(1, 1), padding=(1, 1))\n",
       "          (norm): GroupNorm(2, 16, eps=1e-05, affine=True)\n",
       "          (act): LeakyReLU(negative_slope=0.2, inplace=True)\n",
       "        )\n",
       "      )\n",
       "      (2): ConvSC(\n",
       "        (conv): BasicConv2d(\n",
       "          (conv): ConvTranspose2d(16, 16, kernel_size=(3, 3), stride=(2, 2), padding=(1, 1), output_padding=(1, 1))\n",
       "          (norm): GroupNorm(2, 16, eps=1e-05, affine=True)\n",
       "          (act): LeakyReLU(negative_slope=0.2, inplace=True)\n",
       "        )\n",
       "      )\n",
       "      (3): ConvSC(\n",
       "        (conv): BasicConv2d(\n",
       "          (conv): Conv2d(32, 16, kernel_size=(3, 3), stride=(1, 1), padding=(1, 1))\n",
       "          (norm): GroupNorm(2, 16, eps=1e-05, affine=True)\n",
       "          (act): LeakyReLU(negative_slope=0.2, inplace=True)\n",
       "        )\n",
       "      )\n",
       "    )\n",
       "    (readout): Conv2d(16, 49, kernel_size=(1, 1), stride=(1, 1))\n",
       "  )\n",
       ")"
      ]
     },
     "execution_count": 3,
     "metadata": {},
     "output_type": "execute_result"
    }
   ],
   "source": [
    "device = torch.device(\"cuda:0\" if torch.cuda.is_available() else \"cpu\")\n",
    "model = SimVP(shape_in=[11,1,160,240], out_channel=49)\n",
    "model = torch.load('/home/yibin/workspace/dl/final_completion/simvp-mask-seq-frame_pre-model-04_28_2024_021454/checkpoint_50.pt')  # load model\n",
    "lr = 1e-4\n",
    "criterion = nn.CrossEntropyLoss()\n",
    "optimizer = optim.Adam(model.parameters(), lr=lr)\n",
    "num_epochs = 30\n",
    "model.to(device)"
   ]
  },
  {
   "cell_type": "code",
   "execution_count": 4,
   "metadata": {},
   "outputs": [
    {
     "data": {
      "application/vnd.jupyter.widget-view+json": {
       "model_id": "561b2e71f18b4d95bdc55cbdc378b125",
       "version_major": 2,
       "version_minor": 0
      },
      "text/plain": [
       "  0%|          | 0/30 [00:00<?, ?it/s]"
      ]
     },
     "metadata": {},
     "output_type": "display_data"
    },
    {
     "data": {
      "application/vnd.jupyter.widget-view+json": {
       "model_id": "0c2e87730e2148a1bc7b4107ddf92ffb",
       "version_major": 2,
       "version_minor": 0
      },
      "text/plain": [
       "Training Labeled:   0%|          | 0/1000 [00:00<?, ?it/s]"
      ]
     },
     "metadata": {},
     "output_type": "display_data"
    },
    {
     "data": {
      "application/vnd.jupyter.widget-view+json": {
       "model_id": "9732463fe8e54280bed00b9e94a4b2c0",
       "version_major": 2,
       "version_minor": 0
      },
      "text/plain": [
       "Training Unlabeled:   0%|          | 0/13000 [00:00<?, ?it/s]"
      ]
     },
     "metadata": {},
     "output_type": "display_data"
    },
    {
     "data": {
      "application/vnd.jupyter.widget-view+json": {
       "model_id": "f086a5f82793418d875b302220cb92b5",
       "version_major": 2,
       "version_minor": 0
      },
      "text/plain": [
       "Validating:   0%|          | 0/1000 [00:00<?, ?it/s]"
      ]
     },
     "metadata": {},
     "output_type": "display_data"
    },
    {
     "name": "stdout",
     "output_type": "stream",
     "text": [
      "Epoch 1, Train Loss: 0.1026439194389885, Val Loss: 0.15144102624617517\n"
     ]
    },
    {
     "data": {
      "application/vnd.jupyter.widget-view+json": {
       "model_id": "9742d131ead4493e8a09ef1bcc3c5b39",
       "version_major": 2,
       "version_minor": 0
      },
      "text/plain": [
       "Training Labeled:   0%|          | 0/1000 [00:00<?, ?it/s]"
      ]
     },
     "metadata": {},
     "output_type": "display_data"
    },
    {
     "data": {
      "application/vnd.jupyter.widget-view+json": {
       "model_id": "8efe3289c534447d9fd2fc60a0d7f262",
       "version_major": 2,
       "version_minor": 0
      },
      "text/plain": [
       "Training Unlabeled:   0%|          | 0/13000 [00:00<?, ?it/s]"
      ]
     },
     "metadata": {},
     "output_type": "display_data"
    },
    {
     "data": {
      "application/vnd.jupyter.widget-view+json": {
       "model_id": "f52aa125a3a645c788938668e2bf7f25",
       "version_major": 2,
       "version_minor": 0
      },
      "text/plain": [
       "Validating:   0%|          | 0/1000 [00:00<?, ?it/s]"
      ]
     },
     "metadata": {},
     "output_type": "display_data"
    },
    {
     "name": "stdout",
     "output_type": "stream",
     "text": [
      "Epoch 2, Train Loss: 0.10176128060357378, Val Loss: 0.14752679034881294\n"
     ]
    },
    {
     "data": {
      "application/vnd.jupyter.widget-view+json": {
       "model_id": "9725495f596b47b8bbe6047e5439f33e",
       "version_major": 2,
       "version_minor": 0
      },
      "text/plain": [
       "Training Labeled:   0%|          | 0/1000 [00:00<?, ?it/s]"
      ]
     },
     "metadata": {},
     "output_type": "display_data"
    },
    {
     "data": {
      "application/vnd.jupyter.widget-view+json": {
       "model_id": "b3bad768d4a84b14ab3e3b872e5391d8",
       "version_major": 2,
       "version_minor": 0
      },
      "text/plain": [
       "Training Unlabeled:   0%|          | 0/13000 [00:00<?, ?it/s]"
      ]
     },
     "metadata": {},
     "output_type": "display_data"
    },
    {
     "data": {
      "application/vnd.jupyter.widget-view+json": {
       "model_id": "5161e66211b24ba8b6826e192717c63d",
       "version_major": 2,
       "version_minor": 0
      },
      "text/plain": [
       "Validating:   0%|          | 0/1000 [00:00<?, ?it/s]"
      ]
     },
     "metadata": {},
     "output_type": "display_data"
    },
    {
     "name": "stdout",
     "output_type": "stream",
     "text": [
      "Epoch 3, Train Loss: 0.10056504226329603, Val Loss: 0.14616467710025607\n"
     ]
    },
    {
     "data": {
      "application/vnd.jupyter.widget-view+json": {
       "model_id": "90ebca69a9444651baaa548c3ddcf471",
       "version_major": 2,
       "version_minor": 0
      },
      "text/plain": [
       "Training Labeled:   0%|          | 0/1000 [00:00<?, ?it/s]"
      ]
     },
     "metadata": {},
     "output_type": "display_data"
    },
    {
     "data": {
      "application/vnd.jupyter.widget-view+json": {
       "model_id": "135e21ca0ebd493fbce48def12ae985d",
       "version_major": 2,
       "version_minor": 0
      },
      "text/plain": [
       "Training Unlabeled:   0%|          | 0/13000 [00:00<?, ?it/s]"
      ]
     },
     "metadata": {},
     "output_type": "display_data"
    },
    {
     "data": {
      "application/vnd.jupyter.widget-view+json": {
       "model_id": "f994bd50cc6a41e1af1a525c216c02f1",
       "version_major": 2,
       "version_minor": 0
      },
      "text/plain": [
       "Validating:   0%|          | 0/1000 [00:00<?, ?it/s]"
      ]
     },
     "metadata": {},
     "output_type": "display_data"
    },
    {
     "name": "stdout",
     "output_type": "stream",
     "text": [
      "Epoch 4, Train Loss: 0.09910384574080153, Val Loss: 0.1516297556012869\n"
     ]
    },
    {
     "data": {
      "application/vnd.jupyter.widget-view+json": {
       "model_id": "7debfe9e079241ca9b6ef46a4b61c5df",
       "version_major": 2,
       "version_minor": 0
      },
      "text/plain": [
       "Training Labeled:   0%|          | 0/1000 [00:00<?, ?it/s]"
      ]
     },
     "metadata": {},
     "output_type": "display_data"
    },
    {
     "data": {
      "application/vnd.jupyter.widget-view+json": {
       "model_id": "78d7ee914e5c4c25991a2aeaed402fe8",
       "version_major": 2,
       "version_minor": 0
      },
      "text/plain": [
       "Training Unlabeled:   0%|          | 0/13000 [00:00<?, ?it/s]"
      ]
     },
     "metadata": {},
     "output_type": "display_data"
    },
    {
     "data": {
      "application/vnd.jupyter.widget-view+json": {
       "model_id": "6d80b7b1c46c4c34837aba936c41963b",
       "version_major": 2,
       "version_minor": 0
      },
      "text/plain": [
       "Validating:   0%|          | 0/1000 [00:00<?, ?it/s]"
      ]
     },
     "metadata": {},
     "output_type": "display_data"
    },
    {
     "name": "stdout",
     "output_type": "stream",
     "text": [
      "Epoch 5, Train Loss: 0.09886616687024279, Val Loss: 0.15777933384478093\n"
     ]
    },
    {
     "data": {
      "application/vnd.jupyter.widget-view+json": {
       "model_id": "5fa5f5804a304218bc65399fd08d6969",
       "version_major": 2,
       "version_minor": 0
      },
      "text/plain": [
       "Training Labeled:   0%|          | 0/1000 [00:00<?, ?it/s]"
      ]
     },
     "metadata": {},
     "output_type": "display_data"
    },
    {
     "data": {
      "application/vnd.jupyter.widget-view+json": {
       "model_id": "02a7e9a7004d411f909c14d57b3412aa",
       "version_major": 2,
       "version_minor": 0
      },
      "text/plain": [
       "Training Unlabeled:   0%|          | 0/13000 [00:00<?, ?it/s]"
      ]
     },
     "metadata": {},
     "output_type": "display_data"
    },
    {
     "data": {
      "application/vnd.jupyter.widget-view+json": {
       "model_id": "ad417f4a28f2466393470c7ef4cecdbf",
       "version_major": 2,
       "version_minor": 0
      },
      "text/plain": [
       "Validating:   0%|          | 0/1000 [00:00<?, ?it/s]"
      ]
     },
     "metadata": {},
     "output_type": "display_data"
    },
    {
     "name": "stdout",
     "output_type": "stream",
     "text": [
      "Epoch 6, Train Loss: 0.09754754394366007, Val Loss: 0.14761701986007392\n"
     ]
    },
    {
     "data": {
      "application/vnd.jupyter.widget-view+json": {
       "model_id": "86ffef8421e94cbb85e5ac59a7eecc90",
       "version_major": 2,
       "version_minor": 0
      },
      "text/plain": [
       "Training Labeled:   0%|          | 0/1000 [00:00<?, ?it/s]"
      ]
     },
     "metadata": {},
     "output_type": "display_data"
    },
    {
     "data": {
      "application/vnd.jupyter.widget-view+json": {
       "model_id": "80991a35a99b4d538edff0e1f4682ba3",
       "version_major": 2,
       "version_minor": 0
      },
      "text/plain": [
       "Training Unlabeled:   0%|          | 0/13000 [00:00<?, ?it/s]"
      ]
     },
     "metadata": {},
     "output_type": "display_data"
    },
    {
     "data": {
      "application/vnd.jupyter.widget-view+json": {
       "model_id": "f0c2e53b2fc04892ba460cd75d0eb603",
       "version_major": 2,
       "version_minor": 0
      },
      "text/plain": [
       "Validating:   0%|          | 0/1000 [00:00<?, ?it/s]"
      ]
     },
     "metadata": {},
     "output_type": "display_data"
    },
    {
     "name": "stdout",
     "output_type": "stream",
     "text": [
      "Epoch 7, Train Loss: 0.09638103784042011, Val Loss: 0.14707299498654902\n"
     ]
    },
    {
     "data": {
      "application/vnd.jupyter.widget-view+json": {
       "model_id": "930a373b46ae480b8933d8f6f7ff1f55",
       "version_major": 2,
       "version_minor": 0
      },
      "text/plain": [
       "Training Labeled:   0%|          | 0/1000 [00:00<?, ?it/s]"
      ]
     },
     "metadata": {},
     "output_type": "display_data"
    },
    {
     "data": {
      "application/vnd.jupyter.widget-view+json": {
       "model_id": "1acd32402a684eac84d9ab20a2078768",
       "version_major": 2,
       "version_minor": 0
      },
      "text/plain": [
       "Training Unlabeled:   0%|          | 0/13000 [00:00<?, ?it/s]"
      ]
     },
     "metadata": {},
     "output_type": "display_data"
    },
    {
     "data": {
      "application/vnd.jupyter.widget-view+json": {
       "model_id": "8790faa2aae2484ab17e7bc7beba919f",
       "version_major": 2,
       "version_minor": 0
      },
      "text/plain": [
       "Validating:   0%|          | 0/1000 [00:00<?, ?it/s]"
      ]
     },
     "metadata": {},
     "output_type": "display_data"
    },
    {
     "name": "stdout",
     "output_type": "stream",
     "text": [
      "Epoch 8, Train Loss: 0.0959430756162453, Val Loss: 0.14830209611915052\n"
     ]
    },
    {
     "data": {
      "application/vnd.jupyter.widget-view+json": {
       "model_id": "568e149c8bf4470f810d410430487fb5",
       "version_major": 2,
       "version_minor": 0
      },
      "text/plain": [
       "Training Labeled:   0%|          | 0/1000 [00:00<?, ?it/s]"
      ]
     },
     "metadata": {},
     "output_type": "display_data"
    },
    {
     "data": {
      "application/vnd.jupyter.widget-view+json": {
       "model_id": "f419a70779e240118ca2272e724aa170",
       "version_major": 2,
       "version_minor": 0
      },
      "text/plain": [
       "Training Unlabeled:   0%|          | 0/13000 [00:00<?, ?it/s]"
      ]
     },
     "metadata": {},
     "output_type": "display_data"
    },
    {
     "data": {
      "application/vnd.jupyter.widget-view+json": {
       "model_id": "895b9e1c62ce43c8951bd6dbcac8ef93",
       "version_major": 2,
       "version_minor": 0
      },
      "text/plain": [
       "Validating:   0%|          | 0/1000 [00:00<?, ?it/s]"
      ]
     },
     "metadata": {},
     "output_type": "display_data"
    },
    {
     "name": "stdout",
     "output_type": "stream",
     "text": [
      "Epoch 9, Train Loss: 0.09475355125125498, Val Loss: 0.1492004097364843\n"
     ]
    },
    {
     "data": {
      "application/vnd.jupyter.widget-view+json": {
       "model_id": "19364d2d4997439ea3d228fcbbc7a534",
       "version_major": 2,
       "version_minor": 0
      },
      "text/plain": [
       "Training Labeled:   0%|          | 0/1000 [00:00<?, ?it/s]"
      ]
     },
     "metadata": {},
     "output_type": "display_data"
    },
    {
     "data": {
      "application/vnd.jupyter.widget-view+json": {
       "model_id": "60cbf03849a34d45b9027e35c791995e",
       "version_major": 2,
       "version_minor": 0
      },
      "text/plain": [
       "Training Unlabeled:   0%|          | 0/13000 [00:00<?, ?it/s]"
      ]
     },
     "metadata": {},
     "output_type": "display_data"
    },
    {
     "data": {
      "application/vnd.jupyter.widget-view+json": {
       "model_id": "5f51b4effbc24cfb9a09da90e609e77a",
       "version_major": 2,
       "version_minor": 0
      },
      "text/plain": [
       "Validating:   0%|          | 0/1000 [00:00<?, ?it/s]"
      ]
     },
     "metadata": {},
     "output_type": "display_data"
    },
    {
     "name": "stdout",
     "output_type": "stream",
     "text": [
      "Epoch 10, Train Loss: 0.09416958971760635, Val Loss: 0.1531870095450431\n"
     ]
    },
    {
     "data": {
      "application/vnd.jupyter.widget-view+json": {
       "model_id": "832fdd1f941642b797cf48fc62a2ae68",
       "version_major": 2,
       "version_minor": 0
      },
      "text/plain": [
       "Training Labeled:   0%|          | 0/1000 [00:00<?, ?it/s]"
      ]
     },
     "metadata": {},
     "output_type": "display_data"
    },
    {
     "data": {
      "application/vnd.jupyter.widget-view+json": {
       "model_id": "b02d74c593174c3ba28770c860dbb143",
       "version_major": 2,
       "version_minor": 0
      },
      "text/plain": [
       "Training Unlabeled:   0%|          | 0/13000 [00:00<?, ?it/s]"
      ]
     },
     "metadata": {},
     "output_type": "display_data"
    },
    {
     "data": {
      "application/vnd.jupyter.widget-view+json": {
       "model_id": "8fbc5106703a40f28ebb513f03c5caf3",
       "version_major": 2,
       "version_minor": 0
      },
      "text/plain": [
       "Validating:   0%|          | 0/1000 [00:00<?, ?it/s]"
      ]
     },
     "metadata": {},
     "output_type": "display_data"
    },
    {
     "name": "stdout",
     "output_type": "stream",
     "text": [
      "Epoch 11, Train Loss: 0.09304617171974054, Val Loss: 0.151640041237697\n"
     ]
    },
    {
     "data": {
      "application/vnd.jupyter.widget-view+json": {
       "model_id": "097bdde2cbb642fe801ca48a0c23b2a2",
       "version_major": 2,
       "version_minor": 0
      },
      "text/plain": [
       "Training Labeled:   0%|          | 0/1000 [00:00<?, ?it/s]"
      ]
     },
     "metadata": {},
     "output_type": "display_data"
    },
    {
     "data": {
      "application/vnd.jupyter.widget-view+json": {
       "model_id": "10af02d4a4434f79814730ab541e9233",
       "version_major": 2,
       "version_minor": 0
      },
      "text/plain": [
       "Training Unlabeled:   0%|          | 0/13000 [00:00<?, ?it/s]"
      ]
     },
     "metadata": {},
     "output_type": "display_data"
    },
    {
     "data": {
      "application/vnd.jupyter.widget-view+json": {
       "model_id": "a049821e14e04d84a49ef556c5bcdf77",
       "version_major": 2,
       "version_minor": 0
      },
      "text/plain": [
       "Validating:   0%|          | 0/1000 [00:00<?, ?it/s]"
      ]
     },
     "metadata": {},
     "output_type": "display_data"
    },
    {
     "name": "stdout",
     "output_type": "stream",
     "text": [
      "Epoch 12, Train Loss: 0.09206763306087148, Val Loss: 0.1530368351303041\n"
     ]
    },
    {
     "data": {
      "application/vnd.jupyter.widget-view+json": {
       "model_id": "291b358c5ca04f038820106278ac6c74",
       "version_major": 2,
       "version_minor": 0
      },
      "text/plain": [
       "Training Labeled:   0%|          | 0/1000 [00:00<?, ?it/s]"
      ]
     },
     "metadata": {},
     "output_type": "display_data"
    },
    {
     "data": {
      "application/vnd.jupyter.widget-view+json": {
       "model_id": "3493029a976b4c6c9b3b96d4b04a5ac1",
       "version_major": 2,
       "version_minor": 0
      },
      "text/plain": [
       "Training Unlabeled:   0%|          | 0/13000 [00:00<?, ?it/s]"
      ]
     },
     "metadata": {},
     "output_type": "display_data"
    },
    {
     "data": {
      "application/vnd.jupyter.widget-view+json": {
       "model_id": "19fb501d50df41e49524259823beaa73",
       "version_major": 2,
       "version_minor": 0
      },
      "text/plain": [
       "Validating:   0%|          | 0/1000 [00:00<?, ?it/s]"
      ]
     },
     "metadata": {},
     "output_type": "display_data"
    },
    {
     "name": "stdout",
     "output_type": "stream",
     "text": [
      "Epoch 13, Train Loss: 0.09157715303450822, Val Loss: 0.15767399591580034\n"
     ]
    },
    {
     "data": {
      "application/vnd.jupyter.widget-view+json": {
       "model_id": "f743e31359e44211ac4129f9ac851e7c",
       "version_major": 2,
       "version_minor": 0
      },
      "text/plain": [
       "Training Labeled:   0%|          | 0/1000 [00:00<?, ?it/s]"
      ]
     },
     "metadata": {},
     "output_type": "display_data"
    },
    {
     "data": {
      "application/vnd.jupyter.widget-view+json": {
       "model_id": "a7f1fa146e504d95a51b3263bfc31876",
       "version_major": 2,
       "version_minor": 0
      },
      "text/plain": [
       "Training Unlabeled:   0%|          | 0/13000 [00:00<?, ?it/s]"
      ]
     },
     "metadata": {},
     "output_type": "display_data"
    },
    {
     "data": {
      "application/vnd.jupyter.widget-view+json": {
       "model_id": "9e9377f6667b449f975ebfda17acdcfb",
       "version_major": 2,
       "version_minor": 0
      },
      "text/plain": [
       "Validating:   0%|          | 0/1000 [00:00<?, ?it/s]"
      ]
     },
     "metadata": {},
     "output_type": "display_data"
    },
    {
     "name": "stdout",
     "output_type": "stream",
     "text": [
      "Epoch 14, Train Loss: 0.09074841507584122, Val Loss: 0.15135933156125247\n"
     ]
    },
    {
     "data": {
      "application/vnd.jupyter.widget-view+json": {
       "model_id": "67b1d9d82a6849e298c5c3e7996b92b2",
       "version_major": 2,
       "version_minor": 0
      },
      "text/plain": [
       "Training Labeled:   0%|          | 0/1000 [00:00<?, ?it/s]"
      ]
     },
     "metadata": {},
     "output_type": "display_data"
    },
    {
     "data": {
      "application/vnd.jupyter.widget-view+json": {
       "model_id": "002c32024b4443398b21214d64c7d771",
       "version_major": 2,
       "version_minor": 0
      },
      "text/plain": [
       "Training Unlabeled:   0%|          | 0/13000 [00:00<?, ?it/s]"
      ]
     },
     "metadata": {},
     "output_type": "display_data"
    },
    {
     "data": {
      "application/vnd.jupyter.widget-view+json": {
       "model_id": "6ade2738e47e4f5997e9997f5434eded",
       "version_major": 2,
       "version_minor": 0
      },
      "text/plain": [
       "Validating:   0%|          | 0/1000 [00:00<?, ?it/s]"
      ]
     },
     "metadata": {},
     "output_type": "display_data"
    },
    {
     "name": "stdout",
     "output_type": "stream",
     "text": [
      "Epoch 15, Train Loss: 0.09000086164900235, Val Loss: 0.15303962475061417\n"
     ]
    },
    {
     "data": {
      "application/vnd.jupyter.widget-view+json": {
       "model_id": "3f721244adae46569bcb6aa62845685e",
       "version_major": 2,
       "version_minor": 0
      },
      "text/plain": [
       "Training Labeled:   0%|          | 0/1000 [00:00<?, ?it/s]"
      ]
     },
     "metadata": {},
     "output_type": "display_data"
    },
    {
     "data": {
      "application/vnd.jupyter.widget-view+json": {
       "model_id": "98e4a7f9720a4c0eac88b03e770d17ce",
       "version_major": 2,
       "version_minor": 0
      },
      "text/plain": [
       "Training Unlabeled:   0%|          | 0/13000 [00:00<?, ?it/s]"
      ]
     },
     "metadata": {},
     "output_type": "display_data"
    },
    {
     "data": {
      "application/vnd.jupyter.widget-view+json": {
       "model_id": "84146cd398af441aaed0de8f7b1e7f3e",
       "version_major": 2,
       "version_minor": 0
      },
      "text/plain": [
       "Validating:   0%|          | 0/1000 [00:00<?, ?it/s]"
      ]
     },
     "metadata": {},
     "output_type": "display_data"
    },
    {
     "name": "stdout",
     "output_type": "stream",
     "text": [
      "Epoch 16, Train Loss: 0.08950559901213273, Val Loss: 0.17711160145513713\n"
     ]
    },
    {
     "data": {
      "application/vnd.jupyter.widget-view+json": {
       "model_id": "b1fa86a81a7b42ae953ffc2543b4e788",
       "version_major": 2,
       "version_minor": 0
      },
      "text/plain": [
       "Training Labeled:   0%|          | 0/1000 [00:00<?, ?it/s]"
      ]
     },
     "metadata": {},
     "output_type": "display_data"
    },
    {
     "data": {
      "application/vnd.jupyter.widget-view+json": {
       "model_id": "32f37a2254a64f51873e11a4b027a518",
       "version_major": 2,
       "version_minor": 0
      },
      "text/plain": [
       "Training Unlabeled:   0%|          | 0/13000 [00:00<?, ?it/s]"
      ]
     },
     "metadata": {},
     "output_type": "display_data"
    },
    {
     "data": {
      "application/vnd.jupyter.widget-view+json": {
       "model_id": "6aa5a3396db14db08b0e4be4c7c26b68",
       "version_major": 2,
       "version_minor": 0
      },
      "text/plain": [
       "Validating:   0%|          | 0/1000 [00:00<?, ?it/s]"
      ]
     },
     "metadata": {},
     "output_type": "display_data"
    },
    {
     "name": "stdout",
     "output_type": "stream",
     "text": [
      "Epoch 17, Train Loss: 0.08819304752210155, Val Loss: 0.16237602986395358\n"
     ]
    },
    {
     "data": {
      "application/vnd.jupyter.widget-view+json": {
       "model_id": "79e3e682b98c40028ded768e7b1bbb89",
       "version_major": 2,
       "version_minor": 0
      },
      "text/plain": [
       "Training Labeled:   0%|          | 0/1000 [00:00<?, ?it/s]"
      ]
     },
     "metadata": {},
     "output_type": "display_data"
    },
    {
     "data": {
      "application/vnd.jupyter.widget-view+json": {
       "model_id": "cb3134aefca543c78561abe4ce3dda83",
       "version_major": 2,
       "version_minor": 0
      },
      "text/plain": [
       "Training Unlabeled:   0%|          | 0/13000 [00:00<?, ?it/s]"
      ]
     },
     "metadata": {},
     "output_type": "display_data"
    },
    {
     "data": {
      "application/vnd.jupyter.widget-view+json": {
       "model_id": "bf91651c2f154dad9b7bfae04861e707",
       "version_major": 2,
       "version_minor": 0
      },
      "text/plain": [
       "Validating:   0%|          | 0/1000 [00:00<?, ?it/s]"
      ]
     },
     "metadata": {},
     "output_type": "display_data"
    },
    {
     "name": "stdout",
     "output_type": "stream",
     "text": [
      "Epoch 18, Train Loss: 0.08805275041483608, Val Loss: 0.15288936710171402\n"
     ]
    },
    {
     "data": {
      "application/vnd.jupyter.widget-view+json": {
       "model_id": "37937029798f425ebb738d970f546ee4",
       "version_major": 2,
       "version_minor": 0
      },
      "text/plain": [
       "Training Labeled:   0%|          | 0/1000 [00:00<?, ?it/s]"
      ]
     },
     "metadata": {},
     "output_type": "display_data"
    },
    {
     "data": {
      "application/vnd.jupyter.widget-view+json": {
       "model_id": "aaf3d35faa2f42529881e8e2b6b12a65",
       "version_major": 2,
       "version_minor": 0
      },
      "text/plain": [
       "Training Unlabeled:   0%|          | 0/13000 [00:00<?, ?it/s]"
      ]
     },
     "metadata": {},
     "output_type": "display_data"
    },
    {
     "data": {
      "application/vnd.jupyter.widget-view+json": {
       "model_id": "44e6c87da98d4746ac1f8d2a12db00dc",
       "version_major": 2,
       "version_minor": 0
      },
      "text/plain": [
       "Validating:   0%|          | 0/1000 [00:00<?, ?it/s]"
      ]
     },
     "metadata": {},
     "output_type": "display_data"
    },
    {
     "name": "stdout",
     "output_type": "stream",
     "text": [
      "Epoch 19, Train Loss: 0.0871585836755777, Val Loss: 0.1505330786295235\n"
     ]
    },
    {
     "data": {
      "application/vnd.jupyter.widget-view+json": {
       "model_id": "1ade8ec16c234c8fa0c5edc8a066244e",
       "version_major": 2,
       "version_minor": 0
      },
      "text/plain": [
       "Training Labeled:   0%|          | 0/1000 [00:00<?, ?it/s]"
      ]
     },
     "metadata": {},
     "output_type": "display_data"
    },
    {
     "data": {
      "application/vnd.jupyter.widget-view+json": {
       "model_id": "35b000a452734a988a8394335068a809",
       "version_major": 2,
       "version_minor": 0
      },
      "text/plain": [
       "Training Unlabeled:   0%|          | 0/13000 [00:00<?, ?it/s]"
      ]
     },
     "metadata": {},
     "output_type": "display_data"
    },
    {
     "data": {
      "application/vnd.jupyter.widget-view+json": {
       "model_id": "bc04a42105fe446196a108b51c9b70d9",
       "version_major": 2,
       "version_minor": 0
      },
      "text/plain": [
       "Validating:   0%|          | 0/1000 [00:00<?, ?it/s]"
      ]
     },
     "metadata": {},
     "output_type": "display_data"
    },
    {
     "name": "stdout",
     "output_type": "stream",
     "text": [
      "Epoch 20, Train Loss: 0.08619177270341398, Val Loss: 0.15794297190196813\n"
     ]
    },
    {
     "data": {
      "application/vnd.jupyter.widget-view+json": {
       "model_id": "a967f14682df435091a4f80cbcecb512",
       "version_major": 2,
       "version_minor": 0
      },
      "text/plain": [
       "Training Labeled:   0%|          | 0/1000 [00:00<?, ?it/s]"
      ]
     },
     "metadata": {},
     "output_type": "display_data"
    },
    {
     "data": {
      "application/vnd.jupyter.widget-view+json": {
       "model_id": "d62ecd0f89bd4e6c95623aec5f7c027d",
       "version_major": 2,
       "version_minor": 0
      },
      "text/plain": [
       "Training Unlabeled:   0%|          | 0/13000 [00:00<?, ?it/s]"
      ]
     },
     "metadata": {},
     "output_type": "display_data"
    },
    {
     "data": {
      "application/vnd.jupyter.widget-view+json": {
       "model_id": "8ab2436ae3e9410e9dee200f8954cd99",
       "version_major": 2,
       "version_minor": 0
      },
      "text/plain": [
       "Validating:   0%|          | 0/1000 [00:00<?, ?it/s]"
      ]
     },
     "metadata": {},
     "output_type": "display_data"
    },
    {
     "name": "stdout",
     "output_type": "stream",
     "text": [
      "Epoch 21, Train Loss: 0.08545666496661891, Val Loss: 0.1532036942951381\n"
     ]
    },
    {
     "data": {
      "application/vnd.jupyter.widget-view+json": {
       "model_id": "9d4141125ef04e20b19b495d089e7ed6",
       "version_major": 2,
       "version_minor": 0
      },
      "text/plain": [
       "Training Labeled:   0%|          | 0/1000 [00:00<?, ?it/s]"
      ]
     },
     "metadata": {},
     "output_type": "display_data"
    },
    {
     "data": {
      "application/vnd.jupyter.widget-view+json": {
       "model_id": "f4b79daa2ce5428fb77d90eb484a1600",
       "version_major": 2,
       "version_minor": 0
      },
      "text/plain": [
       "Training Unlabeled:   0%|          | 0/13000 [00:00<?, ?it/s]"
      ]
     },
     "metadata": {},
     "output_type": "display_data"
    },
    {
     "data": {
      "application/vnd.jupyter.widget-view+json": {
       "model_id": "573035cda60b40e0a86a19664d49f0cc",
       "version_major": 2,
       "version_minor": 0
      },
      "text/plain": [
       "Validating:   0%|          | 0/1000 [00:00<?, ?it/s]"
      ]
     },
     "metadata": {},
     "output_type": "display_data"
    },
    {
     "name": "stdout",
     "output_type": "stream",
     "text": [
      "Epoch 22, Train Loss: 0.08523308551610846, Val Loss: 0.15821152083203197\n"
     ]
    },
    {
     "data": {
      "application/vnd.jupyter.widget-view+json": {
       "model_id": "bf7267cda6d3492bb72e29085c36b7e6",
       "version_major": 2,
       "version_minor": 0
      },
      "text/plain": [
       "Training Labeled:   0%|          | 0/1000 [00:00<?, ?it/s]"
      ]
     },
     "metadata": {},
     "output_type": "display_data"
    },
    {
     "data": {
      "application/vnd.jupyter.widget-view+json": {
       "model_id": "73d9fbf4072940288b6cdba15cb02477",
       "version_major": 2,
       "version_minor": 0
      },
      "text/plain": [
       "Training Unlabeled:   0%|          | 0/13000 [00:00<?, ?it/s]"
      ]
     },
     "metadata": {},
     "output_type": "display_data"
    },
    {
     "data": {
      "application/vnd.jupyter.widget-view+json": {
       "model_id": "4361cb9822ee4184847c815d59113bb0",
       "version_major": 2,
       "version_minor": 0
      },
      "text/plain": [
       "Validating:   0%|          | 0/1000 [00:00<?, ?it/s]"
      ]
     },
     "metadata": {},
     "output_type": "display_data"
    },
    {
     "name": "stdout",
     "output_type": "stream",
     "text": [
      "Epoch 23, Train Loss: 0.08432850363717548, Val Loss: 0.15621741967089475\n"
     ]
    },
    {
     "data": {
      "application/vnd.jupyter.widget-view+json": {
       "model_id": "ce93d35e9472497cae67b109b40f5083",
       "version_major": 2,
       "version_minor": 0
      },
      "text/plain": [
       "Training Labeled:   0%|          | 0/1000 [00:00<?, ?it/s]"
      ]
     },
     "metadata": {},
     "output_type": "display_data"
    },
    {
     "data": {
      "application/vnd.jupyter.widget-view+json": {
       "model_id": "0c26ab1e045444b69fa44ffc8d22bd3b",
       "version_major": 2,
       "version_minor": 0
      },
      "text/plain": [
       "Training Unlabeled:   0%|          | 0/13000 [00:00<?, ?it/s]"
      ]
     },
     "metadata": {},
     "output_type": "display_data"
    },
    {
     "data": {
      "application/vnd.jupyter.widget-view+json": {
       "model_id": "25fb5cd7a0234ff5b4d3fd00ce9690bc",
       "version_major": 2,
       "version_minor": 0
      },
      "text/plain": [
       "Validating:   0%|          | 0/1000 [00:00<?, ?it/s]"
      ]
     },
     "metadata": {},
     "output_type": "display_data"
    },
    {
     "name": "stdout",
     "output_type": "stream",
     "text": [
      "Epoch 24, Train Loss: 0.08355662046612373, Val Loss: 0.159844073086977\n"
     ]
    },
    {
     "data": {
      "application/vnd.jupyter.widget-view+json": {
       "model_id": "96bf0679f3d947708ac6604c2b37fa4e",
       "version_major": 2,
       "version_minor": 0
      },
      "text/plain": [
       "Training Labeled:   0%|          | 0/1000 [00:00<?, ?it/s]"
      ]
     },
     "metadata": {},
     "output_type": "display_data"
    },
    {
     "data": {
      "application/vnd.jupyter.widget-view+json": {
       "model_id": "7dcf86c008f544839892b9c1c3cd7d37",
       "version_major": 2,
       "version_minor": 0
      },
      "text/plain": [
       "Training Unlabeled:   0%|          | 0/13000 [00:00<?, ?it/s]"
      ]
     },
     "metadata": {},
     "output_type": "display_data"
    },
    {
     "data": {
      "application/vnd.jupyter.widget-view+json": {
       "model_id": "475cea92b3f14b94ae3fd99bfbd53c80",
       "version_major": 2,
       "version_minor": 0
      },
      "text/plain": [
       "Validating:   0%|          | 0/1000 [00:00<?, ?it/s]"
      ]
     },
     "metadata": {},
     "output_type": "display_data"
    },
    {
     "name": "stdout",
     "output_type": "stream",
     "text": [
      "Epoch 25, Train Loss: 0.08348378300886335, Val Loss: 0.15389517914503814\n"
     ]
    },
    {
     "data": {
      "application/vnd.jupyter.widget-view+json": {
       "model_id": "e15a24b8d7324b939348ae6268a7b3f4",
       "version_major": 2,
       "version_minor": 0
      },
      "text/plain": [
       "Training Labeled:   0%|          | 0/1000 [00:00<?, ?it/s]"
      ]
     },
     "metadata": {},
     "output_type": "display_data"
    },
    {
     "data": {
      "application/vnd.jupyter.widget-view+json": {
       "model_id": "2c7f54992aba46b097c2733526ae9275",
       "version_major": 2,
       "version_minor": 0
      },
      "text/plain": [
       "Training Unlabeled:   0%|          | 0/13000 [00:00<?, ?it/s]"
      ]
     },
     "metadata": {},
     "output_type": "display_data"
    },
    {
     "data": {
      "application/vnd.jupyter.widget-view+json": {
       "model_id": "9f96255d6e42483b994d03d1bad4971e",
       "version_major": 2,
       "version_minor": 0
      },
      "text/plain": [
       "Validating:   0%|          | 0/1000 [00:00<?, ?it/s]"
      ]
     },
     "metadata": {},
     "output_type": "display_data"
    },
    {
     "name": "stdout",
     "output_type": "stream",
     "text": [
      "Epoch 26, Train Loss: 0.08194351728806006, Val Loss: 0.16354979468509556\n"
     ]
    },
    {
     "data": {
      "application/vnd.jupyter.widget-view+json": {
       "model_id": "68e29e99b99f4deda6dc4d37c2bd4765",
       "version_major": 2,
       "version_minor": 0
      },
      "text/plain": [
       "Training Labeled:   0%|          | 0/1000 [00:00<?, ?it/s]"
      ]
     },
     "metadata": {},
     "output_type": "display_data"
    },
    {
     "data": {
      "application/vnd.jupyter.widget-view+json": {
       "model_id": "5e5d1b743d0c4af4ba4cabe69cc7c6ad",
       "version_major": 2,
       "version_minor": 0
      },
      "text/plain": [
       "Training Unlabeled:   0%|          | 0/13000 [00:00<?, ?it/s]"
      ]
     },
     "metadata": {},
     "output_type": "display_data"
    },
    {
     "data": {
      "application/vnd.jupyter.widget-view+json": {
       "model_id": "9f7d2a71f85a4ba68f97871833b99b52",
       "version_major": 2,
       "version_minor": 0
      },
      "text/plain": [
       "Validating:   0%|          | 0/1000 [00:00<?, ?it/s]"
      ]
     },
     "metadata": {},
     "output_type": "display_data"
    },
    {
     "name": "stdout",
     "output_type": "stream",
     "text": [
      "Epoch 27, Train Loss: 0.08176201155163082, Val Loss: 0.1586887248121202\n"
     ]
    },
    {
     "data": {
      "application/vnd.jupyter.widget-view+json": {
       "model_id": "7820b3c122534fa1852889badff6282e",
       "version_major": 2,
       "version_minor": 0
      },
      "text/plain": [
       "Training Labeled:   0%|          | 0/1000 [00:00<?, ?it/s]"
      ]
     },
     "metadata": {},
     "output_type": "display_data"
    },
    {
     "data": {
      "application/vnd.jupyter.widget-view+json": {
       "model_id": "a5c7dbd3818e4a6ab768fe08a3c3d2ad",
       "version_major": 2,
       "version_minor": 0
      },
      "text/plain": [
       "Training Unlabeled:   0%|          | 0/13000 [00:00<?, ?it/s]"
      ]
     },
     "metadata": {},
     "output_type": "display_data"
    },
    {
     "data": {
      "application/vnd.jupyter.widget-view+json": {
       "model_id": "cf34f0c4b61f44c483220b46f3ffcbd9",
       "version_major": 2,
       "version_minor": 0
      },
      "text/plain": [
       "Validating:   0%|          | 0/1000 [00:00<?, ?it/s]"
      ]
     },
     "metadata": {},
     "output_type": "display_data"
    },
    {
     "name": "stdout",
     "output_type": "stream",
     "text": [
      "Epoch 28, Train Loss: 0.08128033912827128, Val Loss: 0.16109806932881474\n"
     ]
    },
    {
     "data": {
      "application/vnd.jupyter.widget-view+json": {
       "model_id": "d1a03545b66b47f1aa61a27a57a35996",
       "version_major": 2,
       "version_minor": 0
      },
      "text/plain": [
       "Training Labeled:   0%|          | 0/1000 [00:00<?, ?it/s]"
      ]
     },
     "metadata": {},
     "output_type": "display_data"
    },
    {
     "data": {
      "application/vnd.jupyter.widget-view+json": {
       "model_id": "3931251433904d12a125fb91816d901d",
       "version_major": 2,
       "version_minor": 0
      },
      "text/plain": [
       "Training Unlabeled:   0%|          | 0/13000 [00:00<?, ?it/s]"
      ]
     },
     "metadata": {},
     "output_type": "display_data"
    },
    {
     "data": {
      "application/vnd.jupyter.widget-view+json": {
       "model_id": "ce9c77bbd1444052b68f25abcb7a39ce",
       "version_major": 2,
       "version_minor": 0
      },
      "text/plain": [
       "Validating:   0%|          | 0/1000 [00:00<?, ?it/s]"
      ]
     },
     "metadata": {},
     "output_type": "display_data"
    },
    {
     "name": "stdout",
     "output_type": "stream",
     "text": [
      "Epoch 29, Train Loss: 0.08056218759283157, Val Loss: 0.16088575402833521\n"
     ]
    },
    {
     "data": {
      "application/vnd.jupyter.widget-view+json": {
       "model_id": "2fcea91896e845249fa35e52bb07b320",
       "version_major": 2,
       "version_minor": 0
      },
      "text/plain": [
       "Training Labeled:   0%|          | 0/1000 [00:00<?, ?it/s]"
      ]
     },
     "metadata": {},
     "output_type": "display_data"
    },
    {
     "data": {
      "application/vnd.jupyter.widget-view+json": {
       "model_id": "047826099cea4bb2afd7a2a3ea5ca8dd",
       "version_major": 2,
       "version_minor": 0
      },
      "text/plain": [
       "Training Unlabeled:   0%|          | 0/13000 [00:00<?, ?it/s]"
      ]
     },
     "metadata": {},
     "output_type": "display_data"
    },
    {
     "data": {
      "application/vnd.jupyter.widget-view+json": {
       "model_id": "8bad729b1dbc411d8500491cc6eefa05",
       "version_major": 2,
       "version_minor": 0
      },
      "text/plain": [
       "Validating:   0%|          | 0/1000 [00:00<?, ?it/s]"
      ]
     },
     "metadata": {},
     "output_type": "display_data"
    },
    {
     "name": "stdout",
     "output_type": "stream",
     "text": [
      "Epoch 30, Train Loss: 0.07984545307200668, Val Loss: 0.1594256909210235\n"
     ]
    }
   ],
   "source": [
    "now = datetime.now()\n",
    "formatted_time = now.strftime(\"%m_%d_%Y_%H%M%S\")\n",
    "dir_name = f'finetune-simvp-mask-seq-frame_pre-model-{formatted_time}'\n",
    "os.makedirs(dir_name, exist_ok=True)\n",
    "train_loss, valid_loss = [], []\n",
    "for epoch in tqdm(range(num_epochs)):\n",
    "    model.train()\n",
    "    running_loss = 0.0\n",
    "    # train with labeled data\n",
    "    train_labeled_loop = tqdm(train_loader, desc='Training Labeled', leave=True)\n",
    "    for _, first_eleven_frames, last_frame, masks, last_mask, _ in train_labeled_loop:\n",
    "\n",
    "        first_eleven_masks = masks[:, :11].unsqueeze(2).to(device)\n",
    "        last_eleven_masks = masks.squeeze(0)[11:].to(torch.long).to(device)\n",
    "        # Zero the parameter gradients\n",
    "        optimizer.zero_grad()\n",
    "\n",
    "        # Forward pass\n",
    "        outputs = model(first_eleven_masks)\n",
    "        loss = criterion(outputs, last_eleven_masks)\n",
    "        # Backward and optimize\n",
    "        loss.backward()\n",
    "        optimizer.step()\n",
    "        # print(loss.item())\n",
    "        running_loss += loss.item()\n",
    "    # train with unlabeled data\n",
    "    train_unlabeled_loop = tqdm(unlabeled_loader, desc='Training Unlabeled', leave=True)\n",
    "    for  _, first_eleven_frames, last_frame, masks, last_mask, _ in train_unlabeled_loop:\n",
    "        first_eleven_masks = masks[:, :11].unsqueeze(2).to(device)\n",
    "        # last_mask = last_mask.to(torch.long).to(device)\n",
    "        last_eleven_masks = masks.squeeze(0)[11:].to(torch.long).to(device)\n",
    "        # Zero the parameter gradients\n",
    "        optimizer.zero_grad()\n",
    "        # Forward pass\n",
    "        outputs = model(first_eleven_masks)\n",
    "        loss = criterion(outputs, last_eleven_masks)\n",
    "        # Backward and optimize\n",
    "        loss.backward()\n",
    "        optimizer.step()\n",
    "        running_loss += loss.item()\n",
    "    train_epoch_loss = running_loss / (len(train_loader) + len(unlabeled_loader))\n",
    "    train_loss.append(train_epoch_loss)\n",
    "    model.eval()\n",
    "    with torch.no_grad():\n",
    "        val_loss = 0.0\n",
    "        val_loop = tqdm(val_loader, desc='Validating', leave=True)\n",
    "        for  _, first_eleven_frames, last_frame, masks, last_mask, _  in val_loop:\n",
    "            first_eleven_masks = masks[:, :11].unsqueeze(2).to(device)\n",
    "            last_eleven_masks = masks.squeeze(0)[11:].to(torch.long).to(device)\n",
    "            outputs = model(first_eleven_masks)\n",
    "            loss = criterion(outputs, last_eleven_masks)\n",
    "            val_loss += loss.item()\n",
    "    val_epoch_loss = val_loss / len(val_loader)\n",
    "    valid_loss.append(val_epoch_loss)\n",
    "\n",
    "    if epoch % 5 == 0:\n",
    "        path = dir_name + f'/checkpoint_{epoch+51}.pt'\n",
    "        torch.save(model, path)\n",
    "    print(f'Epoch {epoch+1}, Train Loss: {train_epoch_loss}, Val Loss: {val_epoch_loss}')"
   ]
  },
  {
   "cell_type": "code",
   "execution_count": 5,
   "metadata": {},
   "outputs": [
    {
     "data": {
      "image/png": "[encoded data removed]",
      "text/plain": [
       "<Figure size 1000x800 with 1 Axes>"
      ]
     },
     "metadata": {},
     "output_type": "display_data"
    }
   ],
   "source": [
    "plt.figure(figsize=(10,8))\n",
    "plt.plot(train_loss, label='Train loss')\n",
    "plt.legend()\n",
    "plt.show()"
   ]
  },
  {
   "cell_type": "code",
   "execution_count": 6,
   "metadata": {},
   "outputs": [
    {
     "data": {
      "image/png": "[encoded data removed]",
      "text/plain": [
       "<Figure size 1000x800 with 1 Axes>"
      ]
     },
     "metadata": {},
     "output_type": "display_data"
    }
   ],
   "source": [
    "plt.figure(figsize=(10,8))\n",
    "plt.plot(valid_loss, label='Validation loss')\n",
    "plt.legend()\n",
    "plt.show()"
   ]
  },
  {
   "cell_type": "code",
   "execution_count": 7,
   "metadata": {},
   "outputs": [],
   "source": [
    "path = dir_name + f'/checkpoint.pt'\n",
    "torch.save(model, path)"
   ]
  }
 ],
 "metadata": {
  "kernelspec": {
   "display_name": "dl-final",
   "language": "python",
   "name": "python3"
  },
  "language_info": {
   "codemirror_mode": {
    "name": "ipython",
    "version": 3
   },
   "file_extension": ".py",
   "mimetype": "text/x-python",
   "name": "python",
   "nbconvert_exporter": "python",
   "pygments_lexer": "ipython3",
   "version": "3.12.2"
  }
 },
 "nbformat": 4,
 "nbformat_minor": 2
}
