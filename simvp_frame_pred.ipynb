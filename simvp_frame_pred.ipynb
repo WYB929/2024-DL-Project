{
 "cells": [
  {
   "cell_type": "code",
   "execution_count": 1,
   "metadata": {},
   "outputs": [],
   "source": [
    "import os\n",
    "import torch\n",
    "import torch.nn as nn\n",
    "import torch.nn.functional as F\n",
    "import torch.optim as optim\n",
    "from tqdm.notebook import tqdm\n",
    "import numpy as np\n",
    "from PIL import Image\n",
    "from torch.utils.data import Dataset, DataLoader\n",
    "from torchvision import models\n",
    "from torchvision import transforms\n",
    "from datetime import datetime\n",
    "import math\n",
    "from video_dataset import VideoFrameDataset\n",
    "from simvp import SimVP\n",
    "import matplotlib.pyplot as plt"
   ]
  },
  {
   "cell_type": "markdown",
   "metadata": {},
   "source": [
    "### Load Data"
   ]
  },
  {
   "cell_type": "code",
   "execution_count": 2,
   "metadata": {},
   "outputs": [],
   "source": [
    "transform = transforms.Compose([\n",
    "    transforms.Pad(padding=(0, 40), padding_mode='edge'),  # Only pad width\n",
    "    # transforms.Resize((256, 256)),  # Resize the now square image to 256x256\n",
    "    transforms.ToTensor(),\n",
    "    transforms.Normalize(mean=[0.5002, 0.4976, 0.4945], std=[0.0555, 0.0547, 0.0566])  # Standard normalization\n",
    "])\n",
    "\n",
    "root_dir = '/home/yibin/workspace/dl/final_completion/dataset_student/dataset' # Change this to your dataset directory\n",
    "train_set = VideoFrameDataset(root_dir, 'train', transform)\n",
    "val_set = VideoFrameDataset(root_dir, 'val', transform)\n",
    "unlabeled_set = VideoFrameDataset(root_dir, 'unlabeled', transform)\n",
    "batch_size = 1\n",
    "train_loader = DataLoader(train_set, batch_size=batch_size, shuffle=True, num_workers=4)\n",
    "val_loader = DataLoader(val_set, batch_size=batch_size, shuffle=True, num_workers=4)\n",
    "unlabeled_loader = DataLoader(unlabeled_set, batch_size=batch_size, shuffle=True, num_workers=4)"
   ]
  },
  {
   "cell_type": "markdown",
   "metadata": {},
   "source": [
    "### Initialize and Train SimVP"
   ]
  },
  {
   "cell_type": "code",
   "execution_count": 3,
   "metadata": {},
   "outputs": [
    {
     "data": {
      "text/plain": [
       "SimVP(\n",
       "  (enc): Encoder(\n",
       "    (enc): Sequential(\n",
       "      (0): ConvSC(\n",
       "        (conv): BasicConv2d(\n",
       "          (conv): Conv2d(1, 16, kernel_size=(3, 3), stride=(1, 1), padding=(1, 1))\n",
       "          (norm): GroupNorm(2, 16, eps=1e-05, affine=True)\n",
       "          (act): LeakyReLU(negative_slope=0.2, inplace=True)\n",
       "        )\n",
       "      )\n",
       "      (1): ConvSC(\n",
       "        (conv): BasicConv2d(\n",
       "          (conv): Conv2d(16, 16, kernel_size=(3, 3), stride=(2, 2), padding=(1, 1))\n",
       "          (norm): GroupNorm(2, 16, eps=1e-05, affine=True)\n",
       "          (act): LeakyReLU(negative_slope=0.2, inplace=True)\n",
       "        )\n",
       "      )\n",
       "      (2): ConvSC(\n",
       "        (conv): BasicConv2d(\n",
       "          (conv): Conv2d(16, 16, kernel_size=(3, 3), stride=(1, 1), padding=(1, 1))\n",
       "          (norm): GroupNorm(2, 16, eps=1e-05, affine=True)\n",
       "          (act): LeakyReLU(negative_slope=0.2, inplace=True)\n",
       "        )\n",
       "      )\n",
       "      (3): ConvSC(\n",
       "        (conv): BasicConv2d(\n",
       "          (conv): Conv2d(16, 16, kernel_size=(3, 3), stride=(2, 2), padding=(1, 1))\n",
       "          (norm): GroupNorm(2, 16, eps=1e-05, affine=True)\n",
       "          (act): LeakyReLU(negative_slope=0.2, inplace=True)\n",
       "        )\n",
       "      )\n",
       "    )\n",
       "  )\n",
       "  (hid): Mid_Xnet(\n",
       "    (enc): Sequential(\n",
       "      (0): Inception(\n",
       "        (conv1): Conv2d(176, 128, kernel_size=(1, 1), stride=(1, 1))\n",
       "        (layers): Sequential(\n",
       "          (0): GroupConv2d(\n",
       "            (conv): Conv2d(128, 256, kernel_size=(3, 3), stride=(1, 1), padding=(1, 1), groups=8)\n",
       "            (norm): GroupNorm(8, 256, eps=1e-05, affine=True)\n",
       "            (activate): LeakyReLU(negative_slope=0.2, inplace=True)\n",
       "          )\n",
       "          (1): GroupConv2d(\n",
       "            (conv): Conv2d(128, 256, kernel_size=(5, 5), stride=(1, 1), padding=(2, 2), groups=8)\n",
       "            (norm): GroupNorm(8, 256, eps=1e-05, affine=True)\n",
       "            (activate): LeakyReLU(negative_slope=0.2, inplace=True)\n",
       "          )\n",
       "          (2): GroupConv2d(\n",
       "            (conv): Conv2d(128, 256, kernel_size=(7, 7), stride=(1, 1), padding=(3, 3), groups=8)\n",
       "            (norm): GroupNorm(8, 256, eps=1e-05, affine=True)\n",
       "            (activate): LeakyReLU(negative_slope=0.2, inplace=True)\n",
       "          )\n",
       "          (3): GroupConv2d(\n",
       "            (conv): Conv2d(128, 256, kernel_size=(11, 11), stride=(1, 1), padding=(5, 5), groups=8)\n",
       "            (norm): GroupNorm(8, 256, eps=1e-05, affine=True)\n",
       "            (activate): LeakyReLU(negative_slope=0.2, inplace=True)\n",
       "          )\n",
       "        )\n",
       "      )\n",
       "      (1): Inception(\n",
       "        (conv1): Conv2d(256, 128, kernel_size=(1, 1), stride=(1, 1))\n",
       "        (layers): Sequential(\n",
       "          (0): GroupConv2d(\n",
       "            (conv): Conv2d(128, 256, kernel_size=(3, 3), stride=(1, 1), padding=(1, 1), groups=8)\n",
       "            (norm): GroupNorm(8, 256, eps=1e-05, affine=True)\n",
       "            (activate): LeakyReLU(negative_slope=0.2, inplace=True)\n",
       "          )\n",
       "          (1): GroupConv2d(\n",
       "            (conv): Conv2d(128, 256, kernel_size=(5, 5), stride=(1, 1), padding=(2, 2), groups=8)\n",
       "            (norm): GroupNorm(8, 256, eps=1e-05, affine=True)\n",
       "            (activate): LeakyReLU(negative_slope=0.2, inplace=True)\n",
       "          )\n",
       "          (2): GroupConv2d(\n",
       "            (conv): Conv2d(128, 256, kernel_size=(7, 7), stride=(1, 1), padding=(3, 3), groups=8)\n",
       "            (norm): GroupNorm(8, 256, eps=1e-05, affine=True)\n",
       "            (activate): LeakyReLU(negative_slope=0.2, inplace=True)\n",
       "          )\n",
       "          (3): GroupConv2d(\n",
       "            (conv): Conv2d(128, 256, kernel_size=(11, 11), stride=(1, 1), padding=(5, 5), groups=8)\n",
       "            (norm): GroupNorm(8, 256, eps=1e-05, affine=True)\n",
       "            (activate): LeakyReLU(negative_slope=0.2, inplace=True)\n",
       "          )\n",
       "        )\n",
       "      )\n",
       "      (2): Inception(\n",
       "        (conv1): Conv2d(256, 128, kernel_size=(1, 1), stride=(1, 1))\n",
       "        (layers): Sequential(\n",
       "          (0): GroupConv2d(\n",
       "            (conv): Conv2d(128, 256, kernel_size=(3, 3), stride=(1, 1), padding=(1, 1), groups=8)\n",
       "            (norm): GroupNorm(8, 256, eps=1e-05, affine=True)\n",
       "            (activate): LeakyReLU(negative_slope=0.2, inplace=True)\n",
       "          )\n",
       "          (1): GroupConv2d(\n",
       "            (conv): Conv2d(128, 256, kernel_size=(5, 5), stride=(1, 1), padding=(2, 2), groups=8)\n",
       "            (norm): GroupNorm(8, 256, eps=1e-05, affine=True)\n",
       "            (activate): LeakyReLU(negative_slope=0.2, inplace=True)\n",
       "          )\n",
       "          (2): GroupConv2d(\n",
       "            (conv): Conv2d(128, 256, kernel_size=(7, 7), stride=(1, 1), padding=(3, 3), groups=8)\n",
       "            (norm): GroupNorm(8, 256, eps=1e-05, affine=True)\n",
       "            (activate): LeakyReLU(negative_slope=0.2, inplace=True)\n",
       "          )\n",
       "          (3): GroupConv2d(\n",
       "            (conv): Conv2d(128, 256, kernel_size=(11, 11), stride=(1, 1), padding=(5, 5), groups=8)\n",
       "            (norm): GroupNorm(8, 256, eps=1e-05, affine=True)\n",
       "            (activate): LeakyReLU(negative_slope=0.2, inplace=True)\n",
       "          )\n",
       "        )\n",
       "      )\n",
       "      (3): Inception(\n",
       "        (conv1): Conv2d(256, 128, kernel_size=(1, 1), stride=(1, 1))\n",
       "        (layers): Sequential(\n",
       "          (0): GroupConv2d(\n",
       "            (conv): Conv2d(128, 256, kernel_size=(3, 3), stride=(1, 1), padding=(1, 1), groups=8)\n",
       "            (norm): GroupNorm(8, 256, eps=1e-05, affine=True)\n",
       "            (activate): LeakyReLU(negative_slope=0.2, inplace=True)\n",
       "          )\n",
       "          (1): GroupConv2d(\n",
       "            (conv): Conv2d(128, 256, kernel_size=(5, 5), stride=(1, 1), padding=(2, 2), groups=8)\n",
       "            (norm): GroupNorm(8, 256, eps=1e-05, affine=True)\n",
       "            (activate): LeakyReLU(negative_slope=0.2, inplace=True)\n",
       "          )\n",
       "          (2): GroupConv2d(\n",
       "            (conv): Conv2d(128, 256, kernel_size=(7, 7), stride=(1, 1), padding=(3, 3), groups=8)\n",
       "            (norm): GroupNorm(8, 256, eps=1e-05, affine=True)\n",
       "            (activate): LeakyReLU(negative_slope=0.2, inplace=True)\n",
       "          )\n",
       "          (3): GroupConv2d(\n",
       "            (conv): Conv2d(128, 256, kernel_size=(11, 11), stride=(1, 1), padding=(5, 5), groups=8)\n",
       "            (norm): GroupNorm(8, 256, eps=1e-05, affine=True)\n",
       "            (activate): LeakyReLU(negative_slope=0.2, inplace=True)\n",
       "          )\n",
       "        )\n",
       "      )\n",
       "      (4): Inception(\n",
       "        (conv1): Conv2d(256, 128, kernel_size=(1, 1), stride=(1, 1))\n",
       "        (layers): Sequential(\n",
       "          (0): GroupConv2d(\n",
       "            (conv): Conv2d(128, 256, kernel_size=(3, 3), stride=(1, 1), padding=(1, 1), groups=8)\n",
       "            (norm): GroupNorm(8, 256, eps=1e-05, affine=True)\n",
       "            (activate): LeakyReLU(negative_slope=0.2, inplace=True)\n",
       "          )\n",
       "          (1): GroupConv2d(\n",
       "            (conv): Conv2d(128, 256, kernel_size=(5, 5), stride=(1, 1), padding=(2, 2), groups=8)\n",
       "            (norm): GroupNorm(8, 256, eps=1e-05, affine=True)\n",
       "            (activate): LeakyReLU(negative_slope=0.2, inplace=True)\n",
       "          )\n",
       "          (2): GroupConv2d(\n",
       "            (conv): Conv2d(128, 256, kernel_size=(7, 7), stride=(1, 1), padding=(3, 3), groups=8)\n",
       "            (norm): GroupNorm(8, 256, eps=1e-05, affine=True)\n",
       "            (activate): LeakyReLU(negative_slope=0.2, inplace=True)\n",
       "          )\n",
       "          (3): GroupConv2d(\n",
       "            (conv): Conv2d(128, 256, kernel_size=(11, 11), stride=(1, 1), padding=(5, 5), groups=8)\n",
       "            (norm): GroupNorm(8, 256, eps=1e-05, affine=True)\n",
       "            (activate): LeakyReLU(negative_slope=0.2, inplace=True)\n",
       "          )\n",
       "        )\n",
       "      )\n",
       "      (5): Inception(\n",
       "        (conv1): Conv2d(256, 128, kernel_size=(1, 1), stride=(1, 1))\n",
       "        (layers): Sequential(\n",
       "          (0): GroupConv2d(\n",
       "            (conv): Conv2d(128, 256, kernel_size=(3, 3), stride=(1, 1), padding=(1, 1), groups=8)\n",
       "            (norm): GroupNorm(8, 256, eps=1e-05, affine=True)\n",
       "            (activate): LeakyReLU(negative_slope=0.2, inplace=True)\n",
       "          )\n",
       "          (1): GroupConv2d(\n",
       "            (conv): Conv2d(128, 256, kernel_size=(5, 5), stride=(1, 1), padding=(2, 2), groups=8)\n",
       "            (norm): GroupNorm(8, 256, eps=1e-05, affine=True)\n",
       "            (activate): LeakyReLU(negative_slope=0.2, inplace=True)\n",
       "          )\n",
       "          (2): GroupConv2d(\n",
       "            (conv): Conv2d(128, 256, kernel_size=(7, 7), stride=(1, 1), padding=(3, 3), groups=8)\n",
       "            (norm): GroupNorm(8, 256, eps=1e-05, affine=True)\n",
       "            (activate): LeakyReLU(negative_slope=0.2, inplace=True)\n",
       "          )\n",
       "          (3): GroupConv2d(\n",
       "            (conv): Conv2d(128, 256, kernel_size=(11, 11), stride=(1, 1), padding=(5, 5), groups=8)\n",
       "            (norm): GroupNorm(8, 256, eps=1e-05, affine=True)\n",
       "            (activate): LeakyReLU(negative_slope=0.2, inplace=True)\n",
       "          )\n",
       "        )\n",
       "      )\n",
       "      (6): Inception(\n",
       "        (conv1): Conv2d(256, 128, kernel_size=(1, 1), stride=(1, 1))\n",
       "        (layers): Sequential(\n",
       "          (0): GroupConv2d(\n",
       "            (conv): Conv2d(128, 256, kernel_size=(3, 3), stride=(1, 1), padding=(1, 1), groups=8)\n",
       "            (norm): GroupNorm(8, 256, eps=1e-05, affine=True)\n",
       "            (activate): LeakyReLU(negative_slope=0.2, inplace=True)\n",
       "          )\n",
       "          (1): GroupConv2d(\n",
       "            (conv): Conv2d(128, 256, kernel_size=(5, 5), stride=(1, 1), padding=(2, 2), groups=8)\n",
       "            (norm): GroupNorm(8, 256, eps=1e-05, affine=True)\n",
       "            (activate): LeakyReLU(negative_slope=0.2, inplace=True)\n",
       "          )\n",
       "          (2): GroupConv2d(\n",
       "            (conv): Conv2d(128, 256, kernel_size=(7, 7), stride=(1, 1), padding=(3, 3), groups=8)\n",
       "            (norm): GroupNorm(8, 256, eps=1e-05, affine=True)\n",
       "            (activate): LeakyReLU(negative_slope=0.2, inplace=True)\n",
       "          )\n",
       "          (3): GroupConv2d(\n",
       "            (conv): Conv2d(128, 256, kernel_size=(11, 11), stride=(1, 1), padding=(5, 5), groups=8)\n",
       "            (norm): GroupNorm(8, 256, eps=1e-05, affine=True)\n",
       "            (activate): LeakyReLU(negative_slope=0.2, inplace=True)\n",
       "          )\n",
       "        )\n",
       "      )\n",
       "      (7): Inception(\n",
       "        (conv1): Conv2d(256, 128, kernel_size=(1, 1), stride=(1, 1))\n",
       "        (layers): Sequential(\n",
       "          (0): GroupConv2d(\n",
       "            (conv): Conv2d(128, 256, kernel_size=(3, 3), stride=(1, 1), padding=(1, 1), groups=8)\n",
       "            (norm): GroupNorm(8, 256, eps=1e-05, affine=True)\n",
       "            (activate): LeakyReLU(negative_slope=0.2, inplace=True)\n",
       "          )\n",
       "          (1): GroupConv2d(\n",
       "            (conv): Conv2d(128, 256, kernel_size=(5, 5), stride=(1, 1), padding=(2, 2), groups=8)\n",
       "            (norm): GroupNorm(8, 256, eps=1e-05, affine=True)\n",
       "            (activate): LeakyReLU(negative_slope=0.2, inplace=True)\n",
       "          )\n",
       "          (2): GroupConv2d(\n",
       "            (conv): Conv2d(128, 256, kernel_size=(7, 7), stride=(1, 1), padding=(3, 3), groups=8)\n",
       "            (norm): GroupNorm(8, 256, eps=1e-05, affine=True)\n",
       "            (activate): LeakyReLU(negative_slope=0.2, inplace=True)\n",
       "          )\n",
       "          (3): GroupConv2d(\n",
       "            (conv): Conv2d(128, 256, kernel_size=(11, 11), stride=(1, 1), padding=(5, 5), groups=8)\n",
       "            (norm): GroupNorm(8, 256, eps=1e-05, affine=True)\n",
       "            (activate): LeakyReLU(negative_slope=0.2, inplace=True)\n",
       "          )\n",
       "        )\n",
       "      )\n",
       "    )\n",
       "    (dec): Sequential(\n",
       "      (0): Inception(\n",
       "        (conv1): Conv2d(256, 128, kernel_size=(1, 1), stride=(1, 1))\n",
       "        (layers): Sequential(\n",
       "          (0): GroupConv2d(\n",
       "            (conv): Conv2d(128, 256, kernel_size=(3, 3), stride=(1, 1), padding=(1, 1), groups=8)\n",
       "            (norm): GroupNorm(8, 256, eps=1e-05, affine=True)\n",
       "            (activate): LeakyReLU(negative_slope=0.2, inplace=True)\n",
       "          )\n",
       "          (1): GroupConv2d(\n",
       "            (conv): Conv2d(128, 256, kernel_size=(5, 5), stride=(1, 1), padding=(2, 2), groups=8)\n",
       "            (norm): GroupNorm(8, 256, eps=1e-05, affine=True)\n",
       "            (activate): LeakyReLU(negative_slope=0.2, inplace=True)\n",
       "          )\n",
       "          (2): GroupConv2d(\n",
       "            (conv): Conv2d(128, 256, kernel_size=(7, 7), stride=(1, 1), padding=(3, 3), groups=8)\n",
       "            (norm): GroupNorm(8, 256, eps=1e-05, affine=True)\n",
       "            (activate): LeakyReLU(negative_slope=0.2, inplace=True)\n",
       "          )\n",
       "          (3): GroupConv2d(\n",
       "            (conv): Conv2d(128, 256, kernel_size=(11, 11), stride=(1, 1), padding=(5, 5), groups=8)\n",
       "            (norm): GroupNorm(8, 256, eps=1e-05, affine=True)\n",
       "            (activate): LeakyReLU(negative_slope=0.2, inplace=True)\n",
       "          )\n",
       "        )\n",
       "      )\n",
       "      (1): Inception(\n",
       "        (conv1): Conv2d(512, 128, kernel_size=(1, 1), stride=(1, 1))\n",
       "        (layers): Sequential(\n",
       "          (0): GroupConv2d(\n",
       "            (conv): Conv2d(128, 256, kernel_size=(3, 3), stride=(1, 1), padding=(1, 1), groups=8)\n",
       "            (norm): GroupNorm(8, 256, eps=1e-05, affine=True)\n",
       "            (activate): LeakyReLU(negative_slope=0.2, inplace=True)\n",
       "          )\n",
       "          (1): GroupConv2d(\n",
       "            (conv): Conv2d(128, 256, kernel_size=(5, 5), stride=(1, 1), padding=(2, 2), groups=8)\n",
       "            (norm): GroupNorm(8, 256, eps=1e-05, affine=True)\n",
       "            (activate): LeakyReLU(negative_slope=0.2, inplace=True)\n",
       "          )\n",
       "          (2): GroupConv2d(\n",
       "            (conv): Conv2d(128, 256, kernel_size=(7, 7), stride=(1, 1), padding=(3, 3), groups=8)\n",
       "            (norm): GroupNorm(8, 256, eps=1e-05, affine=True)\n",
       "            (activate): LeakyReLU(negative_slope=0.2, inplace=True)\n",
       "          )\n",
       "          (3): GroupConv2d(\n",
       "            (conv): Conv2d(128, 256, kernel_size=(11, 11), stride=(1, 1), padding=(5, 5), groups=8)\n",
       "            (norm): GroupNorm(8, 256, eps=1e-05, affine=True)\n",
       "            (activate): LeakyReLU(negative_slope=0.2, inplace=True)\n",
       "          )\n",
       "        )\n",
       "      )\n",
       "      (2): Inception(\n",
       "        (conv1): Conv2d(512, 128, kernel_size=(1, 1), stride=(1, 1))\n",
       "        (layers): Sequential(\n",
       "          (0): GroupConv2d(\n",
       "            (conv): Conv2d(128, 256, kernel_size=(3, 3), stride=(1, 1), padding=(1, 1), groups=8)\n",
       "            (norm): GroupNorm(8, 256, eps=1e-05, affine=True)\n",
       "            (activate): LeakyReLU(negative_slope=0.2, inplace=True)\n",
       "          )\n",
       "          (1): GroupConv2d(\n",
       "            (conv): Conv2d(128, 256, kernel_size=(5, 5), stride=(1, 1), padding=(2, 2), groups=8)\n",
       "            (norm): GroupNorm(8, 256, eps=1e-05, affine=True)\n",
       "            (activate): LeakyReLU(negative_slope=0.2, inplace=True)\n",
       "          )\n",
       "          (2): GroupConv2d(\n",
       "            (conv): Conv2d(128, 256, kernel_size=(7, 7), stride=(1, 1), padding=(3, 3), groups=8)\n",
       "            (norm): GroupNorm(8, 256, eps=1e-05, affine=True)\n",
       "            (activate): LeakyReLU(negative_slope=0.2, inplace=True)\n",
       "          )\n",
       "          (3): GroupConv2d(\n",
       "            (conv): Conv2d(128, 256, kernel_size=(11, 11), stride=(1, 1), padding=(5, 5), groups=8)\n",
       "            (norm): GroupNorm(8, 256, eps=1e-05, affine=True)\n",
       "            (activate): LeakyReLU(negative_slope=0.2, inplace=True)\n",
       "          )\n",
       "        )\n",
       "      )\n",
       "      (3): Inception(\n",
       "        (conv1): Conv2d(512, 128, kernel_size=(1, 1), stride=(1, 1))\n",
       "        (layers): Sequential(\n",
       "          (0): GroupConv2d(\n",
       "            (conv): Conv2d(128, 256, kernel_size=(3, 3), stride=(1, 1), padding=(1, 1), groups=8)\n",
       "            (norm): GroupNorm(8, 256, eps=1e-05, affine=True)\n",
       "            (activate): LeakyReLU(negative_slope=0.2, inplace=True)\n",
       "          )\n",
       "          (1): GroupConv2d(\n",
       "            (conv): Conv2d(128, 256, kernel_size=(5, 5), stride=(1, 1), padding=(2, 2), groups=8)\n",
       "            (norm): GroupNorm(8, 256, eps=1e-05, affine=True)\n",
       "            (activate): LeakyReLU(negative_slope=0.2, inplace=True)\n",
       "          )\n",
       "          (2): GroupConv2d(\n",
       "            (conv): Conv2d(128, 256, kernel_size=(7, 7), stride=(1, 1), padding=(3, 3), groups=8)\n",
       "            (norm): GroupNorm(8, 256, eps=1e-05, affine=True)\n",
       "            (activate): LeakyReLU(negative_slope=0.2, inplace=True)\n",
       "          )\n",
       "          (3): GroupConv2d(\n",
       "            (conv): Conv2d(128, 256, kernel_size=(11, 11), stride=(1, 1), padding=(5, 5), groups=8)\n",
       "            (norm): GroupNorm(8, 256, eps=1e-05, affine=True)\n",
       "            (activate): LeakyReLU(negative_slope=0.2, inplace=True)\n",
       "          )\n",
       "        )\n",
       "      )\n",
       "      (4): Inception(\n",
       "        (conv1): Conv2d(512, 128, kernel_size=(1, 1), stride=(1, 1))\n",
       "        (layers): Sequential(\n",
       "          (0): GroupConv2d(\n",
       "            (conv): Conv2d(128, 256, kernel_size=(3, 3), stride=(1, 1), padding=(1, 1), groups=8)\n",
       "            (norm): GroupNorm(8, 256, eps=1e-05, affine=True)\n",
       "            (activate): LeakyReLU(negative_slope=0.2, inplace=True)\n",
       "          )\n",
       "          (1): GroupConv2d(\n",
       "            (conv): Conv2d(128, 256, kernel_size=(5, 5), stride=(1, 1), padding=(2, 2), groups=8)\n",
       "            (norm): GroupNorm(8, 256, eps=1e-05, affine=True)\n",
       "            (activate): LeakyReLU(negative_slope=0.2, inplace=True)\n",
       "          )\n",
       "          (2): GroupConv2d(\n",
       "            (conv): Conv2d(128, 256, kernel_size=(7, 7), stride=(1, 1), padding=(3, 3), groups=8)\n",
       "            (norm): GroupNorm(8, 256, eps=1e-05, affine=True)\n",
       "            (activate): LeakyReLU(negative_slope=0.2, inplace=True)\n",
       "          )\n",
       "          (3): GroupConv2d(\n",
       "            (conv): Conv2d(128, 256, kernel_size=(11, 11), stride=(1, 1), padding=(5, 5), groups=8)\n",
       "            (norm): GroupNorm(8, 256, eps=1e-05, affine=True)\n",
       "            (activate): LeakyReLU(negative_slope=0.2, inplace=True)\n",
       "          )\n",
       "        )\n",
       "      )\n",
       "      (5): Inception(\n",
       "        (conv1): Conv2d(512, 128, kernel_size=(1, 1), stride=(1, 1))\n",
       "        (layers): Sequential(\n",
       "          (0): GroupConv2d(\n",
       "            (conv): Conv2d(128, 256, kernel_size=(3, 3), stride=(1, 1), padding=(1, 1), groups=8)\n",
       "            (norm): GroupNorm(8, 256, eps=1e-05, affine=True)\n",
       "            (activate): LeakyReLU(negative_slope=0.2, inplace=True)\n",
       "          )\n",
       "          (1): GroupConv2d(\n",
       "            (conv): Conv2d(128, 256, kernel_size=(5, 5), stride=(1, 1), padding=(2, 2), groups=8)\n",
       "            (norm): GroupNorm(8, 256, eps=1e-05, affine=True)\n",
       "            (activate): LeakyReLU(negative_slope=0.2, inplace=True)\n",
       "          )\n",
       "          (2): GroupConv2d(\n",
       "            (conv): Conv2d(128, 256, kernel_size=(7, 7), stride=(1, 1), padding=(3, 3), groups=8)\n",
       "            (norm): GroupNorm(8, 256, eps=1e-05, affine=True)\n",
       "            (activate): LeakyReLU(negative_slope=0.2, inplace=True)\n",
       "          )\n",
       "          (3): GroupConv2d(\n",
       "            (conv): Conv2d(128, 256, kernel_size=(11, 11), stride=(1, 1), padding=(5, 5), groups=8)\n",
       "            (norm): GroupNorm(8, 256, eps=1e-05, affine=True)\n",
       "            (activate): LeakyReLU(negative_slope=0.2, inplace=True)\n",
       "          )\n",
       "        )\n",
       "      )\n",
       "      (6): Inception(\n",
       "        (conv1): Conv2d(512, 128, kernel_size=(1, 1), stride=(1, 1))\n",
       "        (layers): Sequential(\n",
       "          (0): GroupConv2d(\n",
       "            (conv): Conv2d(128, 256, kernel_size=(3, 3), stride=(1, 1), padding=(1, 1), groups=8)\n",
       "            (norm): GroupNorm(8, 256, eps=1e-05, affine=True)\n",
       "            (activate): LeakyReLU(negative_slope=0.2, inplace=True)\n",
       "          )\n",
       "          (1): GroupConv2d(\n",
       "            (conv): Conv2d(128, 256, kernel_size=(5, 5), stride=(1, 1), padding=(2, 2), groups=8)\n",
       "            (norm): GroupNorm(8, 256, eps=1e-05, affine=True)\n",
       "            (activate): LeakyReLU(negative_slope=0.2, inplace=True)\n",
       "          )\n",
       "          (2): GroupConv2d(\n",
       "            (conv): Conv2d(128, 256, kernel_size=(7, 7), stride=(1, 1), padding=(3, 3), groups=8)\n",
       "            (norm): GroupNorm(8, 256, eps=1e-05, affine=True)\n",
       "            (activate): LeakyReLU(negative_slope=0.2, inplace=True)\n",
       "          )\n",
       "          (3): GroupConv2d(\n",
       "            (conv): Conv2d(128, 256, kernel_size=(11, 11), stride=(1, 1), padding=(5, 5), groups=8)\n",
       "            (norm): GroupNorm(8, 256, eps=1e-05, affine=True)\n",
       "            (activate): LeakyReLU(negative_slope=0.2, inplace=True)\n",
       "          )\n",
       "        )\n",
       "      )\n",
       "      (7): Inception(\n",
       "        (conv1): Conv2d(512, 128, kernel_size=(1, 1), stride=(1, 1))\n",
       "        (layers): Sequential(\n",
       "          (0): GroupConv2d(\n",
       "            (conv): Conv2d(128, 176, kernel_size=(3, 3), stride=(1, 1), padding=(1, 1), groups=8)\n",
       "            (norm): GroupNorm(8, 176, eps=1e-05, affine=True)\n",
       "            (activate): LeakyReLU(negative_slope=0.2, inplace=True)\n",
       "          )\n",
       "          (1): GroupConv2d(\n",
       "            (conv): Conv2d(128, 176, kernel_size=(5, 5), stride=(1, 1), padding=(2, 2), groups=8)\n",
       "            (norm): GroupNorm(8, 176, eps=1e-05, affine=True)\n",
       "            (activate): LeakyReLU(negative_slope=0.2, inplace=True)\n",
       "          )\n",
       "          (2): GroupConv2d(\n",
       "            (conv): Conv2d(128, 176, kernel_size=(7, 7), stride=(1, 1), padding=(3, 3), groups=8)\n",
       "            (norm): GroupNorm(8, 176, eps=1e-05, affine=True)\n",
       "            (activate): LeakyReLU(negative_slope=0.2, inplace=True)\n",
       "          )\n",
       "          (3): GroupConv2d(\n",
       "            (conv): Conv2d(128, 176, kernel_size=(11, 11), stride=(1, 1), padding=(5, 5), groups=8)\n",
       "            (norm): GroupNorm(8, 176, eps=1e-05, affine=True)\n",
       "            (activate): LeakyReLU(negative_slope=0.2, inplace=True)\n",
       "          )\n",
       "        )\n",
       "      )\n",
       "    )\n",
       "  )\n",
       "  (dec): Decoder(\n",
       "    (dec): Sequential(\n",
       "      (0): ConvSC(\n",
       "        (conv): BasicConv2d(\n",
       "          (conv): ConvTranspose2d(16, 16, kernel_size=(3, 3), stride=(2, 2), padding=(1, 1), output_padding=(1, 1))\n",
       "          (norm): GroupNorm(2, 16, eps=1e-05, affine=True)\n",
       "          (act): LeakyReLU(negative_slope=0.2, inplace=True)\n",
       "        )\n",
       "      )\n",
       "      (1): ConvSC(\n",
       "        (conv): BasicConv2d(\n",
       "          (conv): Conv2d(16, 16, kernel_size=(3, 3), stride=(1, 1), padding=(1, 1))\n",
       "          (norm): GroupNorm(2, 16, eps=1e-05, affine=True)\n",
       "          (act): LeakyReLU(negative_slope=0.2, inplace=True)\n",
       "        )\n",
       "      )\n",
       "      (2): ConvSC(\n",
       "        (conv): BasicConv2d(\n",
       "          (conv): ConvTranspose2d(16, 16, kernel_size=(3, 3), stride=(2, 2), padding=(1, 1), output_padding=(1, 1))\n",
       "          (norm): GroupNorm(2, 16, eps=1e-05, affine=True)\n",
       "          (act): LeakyReLU(negative_slope=0.2, inplace=True)\n",
       "        )\n",
       "      )\n",
       "      (3): ConvSC(\n",
       "        (conv): BasicConv2d(\n",
       "          (conv): Conv2d(32, 16, kernel_size=(3, 3), stride=(1, 1), padding=(1, 1))\n",
       "          (norm): GroupNorm(2, 16, eps=1e-05, affine=True)\n",
       "          (act): LeakyReLU(negative_slope=0.2, inplace=True)\n",
       "        )\n",
       "      )\n",
       "    )\n",
       "    (readout): Conv2d(16, 49, kernel_size=(1, 1), stride=(1, 1))\n",
       "  )\n",
       ")"
      ]
     },
     "execution_count": 3,
     "metadata": {},
     "output_type": "execute_result"
    }
   ],
   "source": [
    "device = torch.device(\"cuda:2\" if torch.cuda.is_available() else \"cpu\")\n",
    "model = SimVP(shape_in=[11,1,160,240], out_channel=49)\n",
    "lr = 1e-4\n",
    "# criterion = nn.MSELoss()\n",
    "# criterion = nn.L1Loss()\n",
    "criterion = nn.CrossEntropyLoss()\n",
    "optimizer = optim.Adam(model.parameters(), lr=lr)\n",
    "num_epochs = 50\n",
    "model.to(device)"
   ]
  },
  {
   "cell_type": "code",
   "execution_count": 4,
   "metadata": {},
   "outputs": [
    {
     "data": {
      "application/vnd.jupyter.widget-view+json": {
       "model_id": "fe62b174149247619ca0439c34c817ac",
       "version_major": 2,
       "version_minor": 0
      },
      "text/plain": [
       "  0%|          | 0/50 [00:00<?, ?it/s]"
      ]
     },
     "metadata": {},
     "output_type": "display_data"
    },
    {
     "data": {
      "application/vnd.jupyter.widget-view+json": {
       "model_id": "2e4a1543449e4739a7b13ebd5c1833bd",
       "version_major": 2,
       "version_minor": 0
      },
      "text/plain": [
       "Training Labeled:   0%|          | 0/1000 [00:00<?, ?it/s]"
      ]
     },
     "metadata": {},
     "output_type": "display_data"
    },
    {
     "data": {
      "application/vnd.jupyter.widget-view+json": {
       "model_id": "c560035f03c54311940be6f314da0c73",
       "version_major": 2,
       "version_minor": 0
      },
      "text/plain": [
       "Training Unlabeled:   0%|          | 0/13000 [00:00<?, ?it/s]"
      ]
     },
     "metadata": {},
     "output_type": "display_data"
    },
    {
     "data": {
      "application/vnd.jupyter.widget-view+json": {
       "model_id": "bace00f57065420eaafb5acf291be396",
       "version_major": 2,
       "version_minor": 0
      },
      "text/plain": [
       "Validating:   0%|          | 0/1000 [00:00<?, ?it/s]"
      ]
     },
     "metadata": {},
     "output_type": "display_data"
    },
    {
     "name": "stdout",
     "output_type": "stream",
     "text": [
      "Epoch 1, Train Loss: 0.42428795104473827, Val Loss: 0.2984842160642147\n"
     ]
    },
    {
     "data": {
      "application/vnd.jupyter.widget-view+json": {
       "model_id": "df81a952216042a9a54e70c7d4234c0b",
       "version_major": 2,
       "version_minor": 0
      },
      "text/plain": [
       "Training Labeled:   0%|          | 0/1000 [00:00<?, ?it/s]"
      ]
     },
     "metadata": {},
     "output_type": "display_data"
    },
    {
     "data": {
      "application/vnd.jupyter.widget-view+json": {
       "model_id": "e14316edef394122b848868e9deac64c",
       "version_major": 2,
       "version_minor": 0
      },
      "text/plain": [
       "Training Unlabeled:   0%|          | 0/13000 [00:00<?, ?it/s]"
      ]
     },
     "metadata": {},
     "output_type": "display_data"
    },
    {
     "data": {
      "application/vnd.jupyter.widget-view+json": {
       "model_id": "1397041f29944dcba79d61bbbb476cf1",
       "version_major": 2,
       "version_minor": 0
      },
      "text/plain": [
       "Validating:   0%|          | 0/1000 [00:00<?, ?it/s]"
      ]
     },
     "metadata": {},
     "output_type": "display_data"
    },
    {
     "name": "stdout",
     "output_type": "stream",
     "text": [
      "Epoch 2, Train Loss: 0.279878516530352, Val Loss: 0.25669872789084913\n"
     ]
    },
    {
     "data": {
      "application/vnd.jupyter.widget-view+json": {
       "model_id": "016ce41140d244788544da510b675129",
       "version_major": 2,
       "version_minor": 0
      },
      "text/plain": [
       "Training Labeled:   0%|          | 0/1000 [00:00<?, ?it/s]"
      ]
     },
     "metadata": {},
     "output_type": "display_data"
    },
    {
     "data": {
      "application/vnd.jupyter.widget-view+json": {
       "model_id": "8081fabb412c48bd956d79e4eefcbee4",
       "version_major": 2,
       "version_minor": 0
      },
      "text/plain": [
       "Training Unlabeled:   0%|          | 0/13000 [00:00<?, ?it/s]"
      ]
     },
     "metadata": {},
     "output_type": "display_data"
    },
    {
     "data": {
      "application/vnd.jupyter.widget-view+json": {
       "model_id": "a7e7a35463874fee8bf4c743d8826598",
       "version_major": 2,
       "version_minor": 0
      },
      "text/plain": [
       "Validating:   0%|          | 0/1000 [00:00<?, ?it/s]"
      ]
     },
     "metadata": {},
     "output_type": "display_data"
    },
    {
     "name": "stdout",
     "output_type": "stream",
     "text": [
      "Epoch 3, Train Loss: 0.24673981448475804, Val Loss: 0.2315151472464204\n"
     ]
    },
    {
     "data": {
      "application/vnd.jupyter.widget-view+json": {
       "model_id": "2252b3e3094a417fa2fe39830ea289f8",
       "version_major": 2,
       "version_minor": 0
      },
      "text/plain": [
       "Training Labeled:   0%|          | 0/1000 [00:00<?, ?it/s]"
      ]
     },
     "metadata": {},
     "output_type": "display_data"
    },
    {
     "data": {
      "application/vnd.jupyter.widget-view+json": {
       "model_id": "1ccf6589ccea42aba73dad74f1cb9fa6",
       "version_major": 2,
       "version_minor": 0
      },
      "text/plain": [
       "Training Unlabeled:   0%|          | 0/13000 [00:00<?, ?it/s]"
      ]
     },
     "metadata": {},
     "output_type": "display_data"
    },
    {
     "data": {
      "application/vnd.jupyter.widget-view+json": {
       "model_id": "b137ec2660ec4570967614184cc8e350",
       "version_major": 2,
       "version_minor": 0
      },
      "text/plain": [
       "Validating:   0%|          | 0/1000 [00:00<?, ?it/s]"
      ]
     },
     "metadata": {},
     "output_type": "display_data"
    },
    {
     "name": "stdout",
     "output_type": "stream",
     "text": [
      "Epoch 4, Train Loss: 0.2273299254814961, Val Loss: 0.2177152201756835\n"
     ]
    },
    {
     "data": {
      "application/vnd.jupyter.widget-view+json": {
       "model_id": "ffbec2dc43d4444d9b7a8e363cca58b6",
       "version_major": 2,
       "version_minor": 0
      },
      "text/plain": [
       "Training Labeled:   0%|          | 0/1000 [00:00<?, ?it/s]"
      ]
     },
     "metadata": {},
     "output_type": "display_data"
    },
    {
     "data": {
      "application/vnd.jupyter.widget-view+json": {
       "model_id": "f0dccb8bf2ee455ba27b245b70ed741a",
       "version_major": 2,
       "version_minor": 0
      },
      "text/plain": [
       "Training Unlabeled:   0%|          | 0/13000 [00:00<?, ?it/s]"
      ]
     },
     "metadata": {},
     "output_type": "display_data"
    },
    {
     "data": {
      "application/vnd.jupyter.widget-view+json": {
       "model_id": "efc99c1525dd4c5b97b1971172f55b40",
       "version_major": 2,
       "version_minor": 0
      },
      "text/plain": [
       "Validating:   0%|          | 0/1000 [00:00<?, ?it/s]"
      ]
     },
     "metadata": {},
     "output_type": "display_data"
    },
    {
     "name": "stdout",
     "output_type": "stream",
     "text": [
      "Epoch 5, Train Loss: 0.2152886188985514, Val Loss: 0.20870828475430608\n"
     ]
    },
    {
     "data": {
      "application/vnd.jupyter.widget-view+json": {
       "model_id": "b6a0b8c698bc4215b6ea255c2548321f",
       "version_major": 2,
       "version_minor": 0
      },
      "text/plain": [
       "Training Labeled:   0%|          | 0/1000 [00:00<?, ?it/s]"
      ]
     },
     "metadata": {},
     "output_type": "display_data"
    },
    {
     "data": {
      "application/vnd.jupyter.widget-view+json": {
       "model_id": "68968838d8e44ec9b7a0dc54eb69bd35",
       "version_major": 2,
       "version_minor": 0
      },
      "text/plain": [
       "Training Unlabeled:   0%|          | 0/13000 [00:00<?, ?it/s]"
      ]
     },
     "metadata": {},
     "output_type": "display_data"
    },
    {
     "data": {
      "application/vnd.jupyter.widget-view+json": {
       "model_id": "44b7a28fcf4743e6b5e5bc4479355834",
       "version_major": 2,
       "version_minor": 0
      },
      "text/plain": [
       "Validating:   0%|          | 0/1000 [00:00<?, ?it/s]"
      ]
     },
     "metadata": {},
     "output_type": "display_data"
    },
    {
     "name": "stdout",
     "output_type": "stream",
     "text": [
      "Epoch 6, Train Loss: 0.2059576396082661, Val Loss: 0.19770173432677984\n"
     ]
    },
    {
     "data": {
      "application/vnd.jupyter.widget-view+json": {
       "model_id": "de59579bfaa24815bdd53fca621ba730",
       "version_major": 2,
       "version_minor": 0
      },
      "text/plain": [
       "Training Labeled:   0%|          | 0/1000 [00:00<?, ?it/s]"
      ]
     },
     "metadata": {},
     "output_type": "display_data"
    },
    {
     "data": {
      "application/vnd.jupyter.widget-view+json": {
       "model_id": "1cfc20fcd8ad4374a95e49f70446e766",
       "version_major": 2,
       "version_minor": 0
      },
      "text/plain": [
       "Training Unlabeled:   0%|          | 0/13000 [00:00<?, ?it/s]"
      ]
     },
     "metadata": {},
     "output_type": "display_data"
    },
    {
     "data": {
      "application/vnd.jupyter.widget-view+json": {
       "model_id": "597ec5c21bcc4c2ea90559c973380c8c",
       "version_major": 2,
       "version_minor": 0
      },
      "text/plain": [
       "Validating:   0%|          | 0/1000 [00:00<?, ?it/s]"
      ]
     },
     "metadata": {},
     "output_type": "display_data"
    },
    {
     "name": "stdout",
     "output_type": "stream",
     "text": [
      "Epoch 7, Train Loss: 0.19854005699791014, Val Loss: 0.19946241324022412\n"
     ]
    },
    {
     "data": {
      "application/vnd.jupyter.widget-view+json": {
       "model_id": "55421542090d47a0a528a8fb04637968",
       "version_major": 2,
       "version_minor": 0
      },
      "text/plain": [
       "Training Labeled:   0%|          | 0/1000 [00:00<?, ?it/s]"
      ]
     },
     "metadata": {},
     "output_type": "display_data"
    },
    {
     "data": {
      "application/vnd.jupyter.widget-view+json": {
       "model_id": "6afa7adfd6cd43b18f28f2c9600b8509",
       "version_major": 2,
       "version_minor": 0
      },
      "text/plain": [
       "Training Unlabeled:   0%|          | 0/13000 [00:00<?, ?it/s]"
      ]
     },
     "metadata": {},
     "output_type": "display_data"
    },
    {
     "data": {
      "application/vnd.jupyter.widget-view+json": {
       "model_id": "77ed066f8f8e4b168c54ea99638558a2",
       "version_major": 2,
       "version_minor": 0
      },
      "text/plain": [
       "Validating:   0%|          | 0/1000 [00:00<?, ?it/s]"
      ]
     },
     "metadata": {},
     "output_type": "display_data"
    },
    {
     "name": "stdout",
     "output_type": "stream",
     "text": [
      "Epoch 8, Train Loss: 0.1924244492250894, Val Loss: 0.19856216007471084\n"
     ]
    },
    {
     "data": {
      "application/vnd.jupyter.widget-view+json": {
       "model_id": "ea45c2bff0de4ab689b768f7509ce514",
       "version_major": 2,
       "version_minor": 0
      },
      "text/plain": [
       "Training Labeled:   0%|          | 0/1000 [00:00<?, ?it/s]"
      ]
     },
     "metadata": {},
     "output_type": "display_data"
    },
    {
     "data": {
      "application/vnd.jupyter.widget-view+json": {
       "model_id": "d5acf9c8a1154cc8a3b61ed3cec0da63",
       "version_major": 2,
       "version_minor": 0
      },
      "text/plain": [
       "Training Unlabeled:   0%|          | 0/13000 [00:00<?, ?it/s]"
      ]
     },
     "metadata": {},
     "output_type": "display_data"
    },
    {
     "data": {
      "application/vnd.jupyter.widget-view+json": {
       "model_id": "b1f4e378c37340beb9d143242155ce5b",
       "version_major": 2,
       "version_minor": 0
      },
      "text/plain": [
       "Validating:   0%|          | 0/1000 [00:00<?, ?it/s]"
      ]
     },
     "metadata": {},
     "output_type": "display_data"
    },
    {
     "name": "stdout",
     "output_type": "stream",
     "text": [
      "Epoch 9, Train Loss: 0.18709920705775065, Val Loss: 0.1832446765266359\n"
     ]
    },
    {
     "data": {
      "application/vnd.jupyter.widget-view+json": {
       "model_id": "9f90f9974df54f51a9679c95051a566b",
       "version_major": 2,
       "version_minor": 0
      },
      "text/plain": [
       "Training Labeled:   0%|          | 0/1000 [00:00<?, ?it/s]"
      ]
     },
     "metadata": {},
     "output_type": "display_data"
    },
    {
     "data": {
      "application/vnd.jupyter.widget-view+json": {
       "model_id": "50023348f87146eeb0cdbcd21734b1b6",
       "version_major": 2,
       "version_minor": 0
      },
      "text/plain": [
       "Training Unlabeled:   0%|          | 0/13000 [00:00<?, ?it/s]"
      ]
     },
     "metadata": {},
     "output_type": "display_data"
    },
    {
     "data": {
      "application/vnd.jupyter.widget-view+json": {
       "model_id": "abb7446ada534cc1834ee872e49a6bde",
       "version_major": 2,
       "version_minor": 0
      },
      "text/plain": [
       "Validating:   0%|          | 0/1000 [00:00<?, ?it/s]"
      ]
     },
     "metadata": {},
     "output_type": "display_data"
    },
    {
     "name": "stdout",
     "output_type": "stream",
     "text": [
      "Epoch 10, Train Loss: 0.18234233062395028, Val Loss: 0.18253040657564998\n"
     ]
    },
    {
     "data": {
      "application/vnd.jupyter.widget-view+json": {
       "model_id": "95df6c326eb9402090f5a9d9a6040457",
       "version_major": 2,
       "version_minor": 0
      },
      "text/plain": [
       "Training Labeled:   0%|          | 0/1000 [00:00<?, ?it/s]"
      ]
     },
     "metadata": {},
     "output_type": "display_data"
    },
    {
     "data": {
      "application/vnd.jupyter.widget-view+json": {
       "model_id": "2431311bc3034f288d49bec02f298894",
       "version_major": 2,
       "version_minor": 0
      },
      "text/plain": [
       "Training Unlabeled:   0%|          | 0/13000 [00:00<?, ?it/s]"
      ]
     },
     "metadata": {},
     "output_type": "display_data"
    },
    {
     "data": {
      "application/vnd.jupyter.widget-view+json": {
       "model_id": "4fcdd5a3d82a40d8b32cbafcfb0d1bf3",
       "version_major": 2,
       "version_minor": 0
      },
      "text/plain": [
       "Validating:   0%|          | 0/1000 [00:00<?, ?it/s]"
      ]
     },
     "metadata": {},
     "output_type": "display_data"
    },
    {
     "name": "stdout",
     "output_type": "stream",
     "text": [
      "Epoch 11, Train Loss: 0.17785413963028363, Val Loss: 0.17579960834234953\n"
     ]
    },
    {
     "data": {
      "application/vnd.jupyter.widget-view+json": {
       "model_id": "8cf78435b737428ebe929a4b6009cb1a",
       "version_major": 2,
       "version_minor": 0
      },
      "text/plain": [
       "Training Labeled:   0%|          | 0/1000 [00:00<?, ?it/s]"
      ]
     },
     "metadata": {},
     "output_type": "display_data"
    },
    {
     "data": {
      "application/vnd.jupyter.widget-view+json": {
       "model_id": "5720430edbe94ed7856e8d5240de7e9b",
       "version_major": 2,
       "version_minor": 0
      },
      "text/plain": [
       "Training Unlabeled:   0%|          | 0/13000 [00:00<?, ?it/s]"
      ]
     },
     "metadata": {},
     "output_type": "display_data"
    },
    {
     "data": {
      "application/vnd.jupyter.widget-view+json": {
       "model_id": "5b9097731bbd4ff49cbf8825fffc66df",
       "version_major": 2,
       "version_minor": 0
      },
      "text/plain": [
       "Validating:   0%|          | 0/1000 [00:00<?, ?it/s]"
      ]
     },
     "metadata": {},
     "output_type": "display_data"
    },
    {
     "name": "stdout",
     "output_type": "stream",
     "text": [
      "Epoch 12, Train Loss: 0.17373090082939183, Val Loss: 0.1767663720585406\n"
     ]
    },
    {
     "data": {
      "application/vnd.jupyter.widget-view+json": {
       "model_id": "1b5ce1fd579948d790a0bae876662f7f",
       "version_major": 2,
       "version_minor": 0
      },
      "text/plain": [
       "Training Labeled:   0%|          | 0/1000 [00:00<?, ?it/s]"
      ]
     },
     "metadata": {},
     "output_type": "display_data"
    },
    {
     "data": {
      "application/vnd.jupyter.widget-view+json": {
       "model_id": "845a880ab9a04a0085c61e1f4c0d083b",
       "version_major": 2,
       "version_minor": 0
      },
      "text/plain": [
       "Training Unlabeled:   0%|          | 0/13000 [00:00<?, ?it/s]"
      ]
     },
     "metadata": {},
     "output_type": "display_data"
    },
    {
     "data": {
      "application/vnd.jupyter.widget-view+json": {
       "model_id": "1a29cc762f2c49959dbe957d776dd949",
       "version_major": 2,
       "version_minor": 0
      },
      "text/plain": [
       "Validating:   0%|          | 0/1000 [00:00<?, ?it/s]"
      ]
     },
     "metadata": {},
     "output_type": "display_data"
    },
    {
     "name": "stdout",
     "output_type": "stream",
     "text": [
      "Epoch 13, Train Loss: 0.17000775750872812, Val Loss: 0.17531266050040722\n"
     ]
    },
    {
     "data": {
      "application/vnd.jupyter.widget-view+json": {
       "model_id": "7a9813f0074143248269d894f746da06",
       "version_major": 2,
       "version_minor": 0
      },
      "text/plain": [
       "Training Labeled:   0%|          | 0/1000 [00:00<?, ?it/s]"
      ]
     },
     "metadata": {},
     "output_type": "display_data"
    },
    {
     "data": {
      "application/vnd.jupyter.widget-view+json": {
       "model_id": "dbccd9a60f004c2194e8c76d4e882acb",
       "version_major": 2,
       "version_minor": 0
      },
      "text/plain": [
       "Training Unlabeled:   0%|          | 0/13000 [00:00<?, ?it/s]"
      ]
     },
     "metadata": {},
     "output_type": "display_data"
    },
    {
     "data": {
      "application/vnd.jupyter.widget-view+json": {
       "model_id": "7126e43398914cf4be3c31230fa3f3a3",
       "version_major": 2,
       "version_minor": 0
      },
      "text/plain": [
       "Validating:   0%|          | 0/1000 [00:00<?, ?it/s]"
      ]
     },
     "metadata": {},
     "output_type": "display_data"
    },
    {
     "name": "stdout",
     "output_type": "stream",
     "text": [
      "Epoch 14, Train Loss: 0.1668379214592278, Val Loss: 0.1794915367141366\n"
     ]
    },
    {
     "data": {
      "application/vnd.jupyter.widget-view+json": {
       "model_id": "eaefb80e7e7a44c4843175e419b2e84a",
       "version_major": 2,
       "version_minor": 0
      },
      "text/plain": [
       "Training Labeled:   0%|          | 0/1000 [00:00<?, ?it/s]"
      ]
     },
     "metadata": {},
     "output_type": "display_data"
    },
    {
     "data": {
      "application/vnd.jupyter.widget-view+json": {
       "model_id": "dc75246dfe564948872285520a99e4ae",
       "version_major": 2,
       "version_minor": 0
      },
      "text/plain": [
       "Training Unlabeled:   0%|          | 0/13000 [00:00<?, ?it/s]"
      ]
     },
     "metadata": {},
     "output_type": "display_data"
    },
    {
     "data": {
      "application/vnd.jupyter.widget-view+json": {
       "model_id": "f4f1f7ce01944c3cb7d86961b0148b5e",
       "version_major": 2,
       "version_minor": 0
      },
      "text/plain": [
       "Validating:   0%|          | 0/1000 [00:00<?, ?it/s]"
      ]
     },
     "metadata": {},
     "output_type": "display_data"
    },
    {
     "name": "stdout",
     "output_type": "stream",
     "text": [
      "Epoch 15, Train Loss: 0.1632589618667428, Val Loss: 0.16524967811629176\n"
     ]
    },
    {
     "data": {
      "application/vnd.jupyter.widget-view+json": {
       "model_id": "e3985d9b225b484185f78dde7f4f2ae3",
       "version_major": 2,
       "version_minor": 0
      },
      "text/plain": [
       "Training Labeled:   0%|          | 0/1000 [00:00<?, ?it/s]"
      ]
     },
     "metadata": {},
     "output_type": "display_data"
    },
    {
     "data": {
      "application/vnd.jupyter.widget-view+json": {
       "model_id": "b63a388550b44572baa5fc400d197927",
       "version_major": 2,
       "version_minor": 0
      },
      "text/plain": [
       "Training Unlabeled:   0%|          | 0/13000 [00:00<?, ?it/s]"
      ]
     },
     "metadata": {},
     "output_type": "display_data"
    },
    {
     "data": {
      "application/vnd.jupyter.widget-view+json": {
       "model_id": "1d0121ef66e44a05b940317acf09056b",
       "version_major": 2,
       "version_minor": 0
      },
      "text/plain": [
       "Validating:   0%|          | 0/1000 [00:00<?, ?it/s]"
      ]
     },
     "metadata": {},
     "output_type": "display_data"
    },
    {
     "name": "stdout",
     "output_type": "stream",
     "text": [
      "Epoch 16, Train Loss: 0.16013276301151408, Val Loss: 0.1814246205613017\n"
     ]
    },
    {
     "data": {
      "application/vnd.jupyter.widget-view+json": {
       "model_id": "47e9c89a05544c58a70ff15eed211f3e",
       "version_major": 2,
       "version_minor": 0
      },
      "text/plain": [
       "Training Labeled:   0%|          | 0/1000 [00:00<?, ?it/s]"
      ]
     },
     "metadata": {},
     "output_type": "display_data"
    },
    {
     "data": {
      "application/vnd.jupyter.widget-view+json": {
       "model_id": "eb64098ac47549dab9a724227e42fd31",
       "version_major": 2,
       "version_minor": 0
      },
      "text/plain": [
       "Training Unlabeled:   0%|          | 0/13000 [00:00<?, ?it/s]"
      ]
     },
     "metadata": {},
     "output_type": "display_data"
    },
    {
     "data": {
      "application/vnd.jupyter.widget-view+json": {
       "model_id": "d92b507482fe428bab01c41dbefde5f6",
       "version_major": 2,
       "version_minor": 0
      },
      "text/plain": [
       "Validating:   0%|          | 0/1000 [00:00<?, ?it/s]"
      ]
     },
     "metadata": {},
     "output_type": "display_data"
    },
    {
     "name": "stdout",
     "output_type": "stream",
     "text": [
      "Epoch 17, Train Loss: 0.15737276647798717, Val Loss: 0.16720410342141986\n"
     ]
    },
    {
     "data": {
      "application/vnd.jupyter.widget-view+json": {
       "model_id": "355af2685abb431da1c922ab9bfa52f9",
       "version_major": 2,
       "version_minor": 0
      },
      "text/plain": [
       "Training Labeled:   0%|          | 0/1000 [00:00<?, ?it/s]"
      ]
     },
     "metadata": {},
     "output_type": "display_data"
    },
    {
     "data": {
      "application/vnd.jupyter.widget-view+json": {
       "model_id": "9483456c9bf2481c987809cac8be4d00",
       "version_major": 2,
       "version_minor": 0
      },
      "text/plain": [
       "Training Unlabeled:   0%|          | 0/13000 [00:00<?, ?it/s]"
      ]
     },
     "metadata": {},
     "output_type": "display_data"
    },
    {
     "data": {
      "application/vnd.jupyter.widget-view+json": {
       "model_id": "225e7ff9bb6a4e679472366a29ff0125",
       "version_major": 2,
       "version_minor": 0
      },
      "text/plain": [
       "Validating:   0%|          | 0/1000 [00:00<?, ?it/s]"
      ]
     },
     "metadata": {},
     "output_type": "display_data"
    },
    {
     "name": "stdout",
     "output_type": "stream",
     "text": [
      "Epoch 18, Train Loss: 0.155116165161665, Val Loss: 0.16176651974767448\n"
     ]
    },
    {
     "data": {
      "application/vnd.jupyter.widget-view+json": {
       "model_id": "7dcf4ccdd0bb4f6c94a7d45232ee1af2",
       "version_major": 2,
       "version_minor": 0
      },
      "text/plain": [
       "Training Labeled:   0%|          | 0/1000 [00:00<?, ?it/s]"
      ]
     },
     "metadata": {},
     "output_type": "display_data"
    },
    {
     "data": {
      "application/vnd.jupyter.widget-view+json": {
       "model_id": "10718e88ad644bd4907b16cf2b975ba2",
       "version_major": 2,
       "version_minor": 0
      },
      "text/plain": [
       "Training Unlabeled:   0%|          | 0/13000 [00:00<?, ?it/s]"
      ]
     },
     "metadata": {},
     "output_type": "display_data"
    },
    {
     "data": {
      "application/vnd.jupyter.widget-view+json": {
       "model_id": "7772848a7f754a4ab2070b96b1ddb426",
       "version_major": 2,
       "version_minor": 0
      },
      "text/plain": [
       "Validating:   0%|          | 0/1000 [00:00<?, ?it/s]"
      ]
     },
     "metadata": {},
     "output_type": "display_data"
    },
    {
     "name": "stdout",
     "output_type": "stream",
     "text": [
      "Epoch 19, Train Loss: 0.15216874494523341, Val Loss: 0.15732786809280513\n"
     ]
    },
    {
     "data": {
      "application/vnd.jupyter.widget-view+json": {
       "model_id": "f8af46f856044d36aa911014434317bf",
       "version_major": 2,
       "version_minor": 0
      },
      "text/plain": [
       "Training Labeled:   0%|          | 0/1000 [00:00<?, ?it/s]"
      ]
     },
     "metadata": {},
     "output_type": "display_data"
    },
    {
     "data": {
      "application/vnd.jupyter.widget-view+json": {
       "model_id": "d0c87f387410413ea9425026290921ac",
       "version_major": 2,
       "version_minor": 0
      },
      "text/plain": [
       "Training Unlabeled:   0%|          | 0/13000 [00:00<?, ?it/s]"
      ]
     },
     "metadata": {},
     "output_type": "display_data"
    },
    {
     "data": {
      "application/vnd.jupyter.widget-view+json": {
       "model_id": "44a133e846274e21854571ee8e71c6c7",
       "version_major": 2,
       "version_minor": 0
      },
      "text/plain": [
       "Validating:   0%|          | 0/1000 [00:00<?, ?it/s]"
      ]
     },
     "metadata": {},
     "output_type": "display_data"
    },
    {
     "name": "stdout",
     "output_type": "stream",
     "text": [
      "Epoch 20, Train Loss: 0.1499818119301594, Val Loss: 0.1563749583698809\n"
     ]
    },
    {
     "data": {
      "application/vnd.jupyter.widget-view+json": {
       "model_id": "1608c01f4c02463988356ae7b664cbc0",
       "version_major": 2,
       "version_minor": 0
      },
      "text/plain": [
       "Training Labeled:   0%|          | 0/1000 [00:00<?, ?it/s]"
      ]
     },
     "metadata": {},
     "output_type": "display_data"
    },
    {
     "data": {
      "application/vnd.jupyter.widget-view+json": {
       "model_id": "c0ec0ba706e3449aac4ef3680d4ad941",
       "version_major": 2,
       "version_minor": 0
      },
      "text/plain": [
       "Training Unlabeled:   0%|          | 0/13000 [00:00<?, ?it/s]"
      ]
     },
     "metadata": {},
     "output_type": "display_data"
    },
    {
     "data": {
      "application/vnd.jupyter.widget-view+json": {
       "model_id": "dab988bae1f04abbac547a81ed1bb49e",
       "version_major": 2,
       "version_minor": 0
      },
      "text/plain": [
       "Validating:   0%|          | 0/1000 [00:00<?, ?it/s]"
      ]
     },
     "metadata": {},
     "output_type": "display_data"
    },
    {
     "name": "stdout",
     "output_type": "stream",
     "text": [
      "Epoch 21, Train Loss: 0.14763544838250214, Val Loss: 0.15910693287849426\n"
     ]
    },
    {
     "data": {
      "application/vnd.jupyter.widget-view+json": {
       "model_id": "2d9c12f8991b4330b7a5532bec5158e8",
       "version_major": 2,
       "version_minor": 0
      },
      "text/plain": [
       "Training Labeled:   0%|          | 0/1000 [00:00<?, ?it/s]"
      ]
     },
     "metadata": {},
     "output_type": "display_data"
    },
    {
     "data": {
      "application/vnd.jupyter.widget-view+json": {
       "model_id": "61cdb8e9cd2748128dfdb1813855f24e",
       "version_major": 2,
       "version_minor": 0
      },
      "text/plain": [
       "Training Unlabeled:   0%|          | 0/13000 [00:00<?, ?it/s]"
      ]
     },
     "metadata": {},
     "output_type": "display_data"
    },
    {
     "data": {
      "application/vnd.jupyter.widget-view+json": {
       "model_id": "e0c6014aed004f128541aed9a4b9f0f5",
       "version_major": 2,
       "version_minor": 0
      },
      "text/plain": [
       "Validating:   0%|          | 0/1000 [00:00<?, ?it/s]"
      ]
     },
     "metadata": {},
     "output_type": "display_data"
    },
    {
     "name": "stdout",
     "output_type": "stream",
     "text": [
      "Epoch 22, Train Loss: 0.14511299249689494, Val Loss: 0.15474402288720013\n"
     ]
    },
    {
     "data": {
      "application/vnd.jupyter.widget-view+json": {
       "model_id": "6fbfd95eeaa64975bf970f007bc44279",
       "version_major": 2,
       "version_minor": 0
      },
      "text/plain": [
       "Training Labeled:   0%|          | 0/1000 [00:00<?, ?it/s]"
      ]
     },
     "metadata": {},
     "output_type": "display_data"
    },
    {
     "data": {
      "application/vnd.jupyter.widget-view+json": {
       "model_id": "c29064db7a93487babb33cf576fc5ff8",
       "version_major": 2,
       "version_minor": 0
      },
      "text/plain": [
       "Training Unlabeled:   0%|          | 0/13000 [00:00<?, ?it/s]"
      ]
     },
     "metadata": {},
     "output_type": "display_data"
    },
    {
     "data": {
      "application/vnd.jupyter.widget-view+json": {
       "model_id": "737abf07083e4f56a96522bc6d86038b",
       "version_major": 2,
       "version_minor": 0
      },
      "text/plain": [
       "Validating:   0%|          | 0/1000 [00:00<?, ?it/s]"
      ]
     },
     "metadata": {},
     "output_type": "display_data"
    },
    {
     "name": "stdout",
     "output_type": "stream",
     "text": [
      "Epoch 23, Train Loss: 0.1430326414852004, Val Loss: 0.1571231710985303\n"
     ]
    },
    {
     "data": {
      "application/vnd.jupyter.widget-view+json": {
       "model_id": "f1e31acfc0e449da8e37fe54ff0cb8b4",
       "version_major": 2,
       "version_minor": 0
      },
      "text/plain": [
       "Training Labeled:   0%|          | 0/1000 [00:00<?, ?it/s]"
      ]
     },
     "metadata": {},
     "output_type": "display_data"
    },
    {
     "data": {
      "application/vnd.jupyter.widget-view+json": {
       "model_id": "7e1b9cb68c4f41cdaee469827eb1713d",
       "version_major": 2,
       "version_minor": 0
      },
      "text/plain": [
       "Training Unlabeled:   0%|          | 0/13000 [00:00<?, ?it/s]"
      ]
     },
     "metadata": {},
     "output_type": "display_data"
    },
    {
     "data": {
      "application/vnd.jupyter.widget-view+json": {
       "model_id": "22e2bab8263542aea5c58a9c5c7ba8a9",
       "version_major": 2,
       "version_minor": 0
      },
      "text/plain": [
       "Validating:   0%|          | 0/1000 [00:00<?, ?it/s]"
      ]
     },
     "metadata": {},
     "output_type": "display_data"
    },
    {
     "name": "stdout",
     "output_type": "stream",
     "text": [
      "Epoch 24, Train Loss: 0.14168165183572898, Val Loss: 0.15072223317995667\n"
     ]
    },
    {
     "data": {
      "application/vnd.jupyter.widget-view+json": {
       "model_id": "58984bbf6f134198acaf9cb845222d7e",
       "version_major": 2,
       "version_minor": 0
      },
      "text/plain": [
       "Training Labeled:   0%|          | 0/1000 [00:00<?, ?it/s]"
      ]
     },
     "metadata": {},
     "output_type": "display_data"
    },
    {
     "data": {
      "application/vnd.jupyter.widget-view+json": {
       "model_id": "1b4e7f49b5944794afdf34a40570aba0",
       "version_major": 2,
       "version_minor": 0
      },
      "text/plain": [
       "Training Unlabeled:   0%|          | 0/13000 [00:00<?, ?it/s]"
      ]
     },
     "metadata": {},
     "output_type": "display_data"
    },
    {
     "data": {
      "application/vnd.jupyter.widget-view+json": {
       "model_id": "13c0e785cac84b37b30a4dc6cef83a96",
       "version_major": 2,
       "version_minor": 0
      },
      "text/plain": [
       "Validating:   0%|          | 0/1000 [00:00<?, ?it/s]"
      ]
     },
     "metadata": {},
     "output_type": "display_data"
    },
    {
     "name": "stdout",
     "output_type": "stream",
     "text": [
      "Epoch 25, Train Loss: 0.13890138374721364, Val Loss: 0.18965472880005838\n"
     ]
    },
    {
     "data": {
      "application/vnd.jupyter.widget-view+json": {
       "model_id": "5caf8602cafb472184b6bf1b84a255be",
       "version_major": 2,
       "version_minor": 0
      },
      "text/plain": [
       "Training Labeled:   0%|          | 0/1000 [00:00<?, ?it/s]"
      ]
     },
     "metadata": {},
     "output_type": "display_data"
    },
    {
     "data": {
      "application/vnd.jupyter.widget-view+json": {
       "model_id": "69212eab7ed848769508ced63e2b87fc",
       "version_major": 2,
       "version_minor": 0
      },
      "text/plain": [
       "Training Unlabeled:   0%|          | 0/13000 [00:00<?, ?it/s]"
      ]
     },
     "metadata": {},
     "output_type": "display_data"
    },
    {
     "data": {
      "application/vnd.jupyter.widget-view+json": {
       "model_id": "33e1f20ed79e4ad391158075dddf31a3",
       "version_major": 2,
       "version_minor": 0
      },
      "text/plain": [
       "Validating:   0%|          | 0/1000 [00:00<?, ?it/s]"
      ]
     },
     "metadata": {},
     "output_type": "display_data"
    },
    {
     "name": "stdout",
     "output_type": "stream",
     "text": [
      "Epoch 26, Train Loss: 0.13740726203311768, Val Loss: 0.1507711727358401\n"
     ]
    },
    {
     "data": {
      "application/vnd.jupyter.widget-view+json": {
       "model_id": "2540089bb11c410689515f87d4766c58",
       "version_major": 2,
       "version_minor": 0
      },
      "text/plain": [
       "Training Labeled:   0%|          | 0/1000 [00:00<?, ?it/s]"
      ]
     },
     "metadata": {},
     "output_type": "display_data"
    },
    {
     "data": {
      "application/vnd.jupyter.widget-view+json": {
       "model_id": "5daeb4831be7425d981fb05761ed2509",
       "version_major": 2,
       "version_minor": 0
      },
      "text/plain": [
       "Training Unlabeled:   0%|          | 0/13000 [00:00<?, ?it/s]"
      ]
     },
     "metadata": {},
     "output_type": "display_data"
    },
    {
     "data": {
      "application/vnd.jupyter.widget-view+json": {
       "model_id": "e031aa80061841dcbd6bac7c8aea8456",
       "version_major": 2,
       "version_minor": 0
      },
      "text/plain": [
       "Validating:   0%|          | 0/1000 [00:00<?, ?it/s]"
      ]
     },
     "metadata": {},
     "output_type": "display_data"
    },
    {
     "name": "stdout",
     "output_type": "stream",
     "text": [
      "Epoch 27, Train Loss: 0.13527464146805662, Val Loss: 0.1472838205099106\n"
     ]
    },
    {
     "data": {
      "application/vnd.jupyter.widget-view+json": {
       "model_id": "6ebb56ac6df843129c02660443bb4df1",
       "version_major": 2,
       "version_minor": 0
      },
      "text/plain": [
       "Training Labeled:   0%|          | 0/1000 [00:00<?, ?it/s]"
      ]
     },
     "metadata": {},
     "output_type": "display_data"
    },
    {
     "data": {
      "application/vnd.jupyter.widget-view+json": {
       "model_id": "ebb9b08d4df442608cf0bfd55d655b10",
       "version_major": 2,
       "version_minor": 0
      },
      "text/plain": [
       "Training Unlabeled:   0%|          | 0/13000 [00:00<?, ?it/s]"
      ]
     },
     "metadata": {},
     "output_type": "display_data"
    },
    {
     "data": {
      "application/vnd.jupyter.widget-view+json": {
       "model_id": "b4a203e589334f79a0f33bf958a8b3c7",
       "version_major": 2,
       "version_minor": 0
      },
      "text/plain": [
       "Validating:   0%|          | 0/1000 [00:00<?, ?it/s]"
      ]
     },
     "metadata": {},
     "output_type": "display_data"
    },
    {
     "name": "stdout",
     "output_type": "stream",
     "text": [
      "Epoch 28, Train Loss: 0.13324847037305257, Val Loss: 0.1492648040689528\n"
     ]
    },
    {
     "data": {
      "application/vnd.jupyter.widget-view+json": {
       "model_id": "29f85ce359454fed944561a5a4a9989e",
       "version_major": 2,
       "version_minor": 0
      },
      "text/plain": [
       "Training Labeled:   0%|          | 0/1000 [00:00<?, ?it/s]"
      ]
     },
     "metadata": {},
     "output_type": "display_data"
    },
    {
     "data": {
      "application/vnd.jupyter.widget-view+json": {
       "model_id": "fea827d796f64577acc403db231b8889",
       "version_major": 2,
       "version_minor": 0
      },
      "text/plain": [
       "Training Unlabeled:   0%|          | 0/13000 [00:00<?, ?it/s]"
      ]
     },
     "metadata": {},
     "output_type": "display_data"
    },
    {
     "data": {
      "application/vnd.jupyter.widget-view+json": {
       "model_id": "4aece7ce26ae48fdac5d9eb0186988ed",
       "version_major": 2,
       "version_minor": 0
      },
      "text/plain": [
       "Validating:   0%|          | 0/1000 [00:00<?, ?it/s]"
      ]
     },
     "metadata": {},
     "output_type": "display_data"
    },
    {
     "name": "stdout",
     "output_type": "stream",
     "text": [
      "Epoch 29, Train Loss: 0.13166740321115192, Val Loss: 0.14973528973013162\n"
     ]
    },
    {
     "data": {
      "application/vnd.jupyter.widget-view+json": {
       "model_id": "7a993393727749a791fd68f8e748e44f",
       "version_major": 2,
       "version_minor": 0
      },
      "text/plain": [
       "Training Labeled:   0%|          | 0/1000 [00:00<?, ?it/s]"
      ]
     },
     "metadata": {},
     "output_type": "display_data"
    },
    {
     "data": {
      "application/vnd.jupyter.widget-view+json": {
       "model_id": "58ec6aee7b4a421bb06f2ed0d3180143",
       "version_major": 2,
       "version_minor": 0
      },
      "text/plain": [
       "Training Unlabeled:   0%|          | 0/13000 [00:00<?, ?it/s]"
      ]
     },
     "metadata": {},
     "output_type": "display_data"
    },
    {
     "data": {
      "application/vnd.jupyter.widget-view+json": {
       "model_id": "5b486f208f7c46a59493a3de4809d86d",
       "version_major": 2,
       "version_minor": 0
      },
      "text/plain": [
       "Validating:   0%|          | 0/1000 [00:00<?, ?it/s]"
      ]
     },
     "metadata": {},
     "output_type": "display_data"
    },
    {
     "name": "stdout",
     "output_type": "stream",
     "text": [
      "Epoch 30, Train Loss: 0.12983844824215132, Val Loss: 0.14871103785932063\n"
     ]
    },
    {
     "data": {
      "application/vnd.jupyter.widget-view+json": {
       "model_id": "8862ae5f53af4165b9aefbf0255b2303",
       "version_major": 2,
       "version_minor": 0
      },
      "text/plain": [
       "Training Labeled:   0%|          | 0/1000 [00:00<?, ?it/s]"
      ]
     },
     "metadata": {},
     "output_type": "display_data"
    },
    {
     "data": {
      "application/vnd.jupyter.widget-view+json": {
       "model_id": "9f4884bbff3d407e956dbbed0db543ca",
       "version_major": 2,
       "version_minor": 0
      },
      "text/plain": [
       "Training Unlabeled:   0%|          | 0/13000 [00:00<?, ?it/s]"
      ]
     },
     "metadata": {},
     "output_type": "display_data"
    },
    {
     "data": {
      "application/vnd.jupyter.widget-view+json": {
       "model_id": "975a6be366b648d8928d41a2f91b45d6",
       "version_major": 2,
       "version_minor": 0
      },
      "text/plain": [
       "Validating:   0%|          | 0/1000 [00:00<?, ?it/s]"
      ]
     },
     "metadata": {},
     "output_type": "display_data"
    },
    {
     "name": "stdout",
     "output_type": "stream",
     "text": [
      "Epoch 31, Train Loss: 0.12814368872198142, Val Loss: 0.14860822505876423\n"
     ]
    },
    {
     "data": {
      "application/vnd.jupyter.widget-view+json": {
       "model_id": "3a4f83d877464101bafc80180585b060",
       "version_major": 2,
       "version_minor": 0
      },
      "text/plain": [
       "Training Labeled:   0%|          | 0/1000 [00:00<?, ?it/s]"
      ]
     },
     "metadata": {},
     "output_type": "display_data"
    },
    {
     "data": {
      "application/vnd.jupyter.widget-view+json": {
       "model_id": "f45f1d54df3b4727b1881aec9643f5a2",
       "version_major": 2,
       "version_minor": 0
      },
      "text/plain": [
       "Training Unlabeled:   0%|          | 0/13000 [00:00<?, ?it/s]"
      ]
     },
     "metadata": {},
     "output_type": "display_data"
    },
    {
     "data": {
      "application/vnd.jupyter.widget-view+json": {
       "model_id": "0cd38b4f913649c2a95f61dcdab70e00",
       "version_major": 2,
       "version_minor": 0
      },
      "text/plain": [
       "Validating:   0%|          | 0/1000 [00:00<?, ?it/s]"
      ]
     },
     "metadata": {},
     "output_type": "display_data"
    },
    {
     "name": "stdout",
     "output_type": "stream",
     "text": [
      "Epoch 32, Train Loss: 0.12658010965293007, Val Loss: 0.14360741259157658\n"
     ]
    },
    {
     "data": {
      "application/vnd.jupyter.widget-view+json": {
       "model_id": "25b0fa0598c949c3beb0fde8f37ecd5c",
       "version_major": 2,
       "version_minor": 0
      },
      "text/plain": [
       "Training Labeled:   0%|          | 0/1000 [00:00<?, ?it/s]"
      ]
     },
     "metadata": {},
     "output_type": "display_data"
    },
    {
     "data": {
      "application/vnd.jupyter.widget-view+json": {
       "model_id": "ca39f32552304dc191fc32433a95ccbe",
       "version_major": 2,
       "version_minor": 0
      },
      "text/plain": [
       "Training Unlabeled:   0%|          | 0/13000 [00:00<?, ?it/s]"
      ]
     },
     "metadata": {},
     "output_type": "display_data"
    },
    {
     "data": {
      "application/vnd.jupyter.widget-view+json": {
       "model_id": "93ede616aeb74a7b87d6f9175b49fea9",
       "version_major": 2,
       "version_minor": 0
      },
      "text/plain": [
       "Validating:   0%|          | 0/1000 [00:00<?, ?it/s]"
      ]
     },
     "metadata": {},
     "output_type": "display_data"
    },
    {
     "name": "stdout",
     "output_type": "stream",
     "text": [
      "Epoch 33, Train Loss: 0.12487613789378, Val Loss: 0.14535567517206072\n"
     ]
    },
    {
     "data": {
      "application/vnd.jupyter.widget-view+json": {
       "model_id": "ce9c419ae01b447ebcffa44276e01246",
       "version_major": 2,
       "version_minor": 0
      },
      "text/plain": [
       "Training Labeled:   0%|          | 0/1000 [00:00<?, ?it/s]"
      ]
     },
     "metadata": {},
     "output_type": "display_data"
    },
    {
     "data": {
      "application/vnd.jupyter.widget-view+json": {
       "model_id": "459f6df040094ea0bca251dcb78e3cb4",
       "version_major": 2,
       "version_minor": 0
      },
      "text/plain": [
       "Training Unlabeled:   0%|          | 0/13000 [00:00<?, ?it/s]"
      ]
     },
     "metadata": {},
     "output_type": "display_data"
    },
    {
     "data": {
      "application/vnd.jupyter.widget-view+json": {
       "model_id": "2601bed6680a4042bb7c41d75314c324",
       "version_major": 2,
       "version_minor": 0
      },
      "text/plain": [
       "Validating:   0%|          | 0/1000 [00:00<?, ?it/s]"
      ]
     },
     "metadata": {},
     "output_type": "display_data"
    },
    {
     "name": "stdout",
     "output_type": "stream",
     "text": [
      "Epoch 34, Train Loss: 0.12366534790762568, Val Loss: 0.14745229588262737\n"
     ]
    },
    {
     "data": {
      "application/vnd.jupyter.widget-view+json": {
       "model_id": "9f2727dbd0d14c2eb24b555b1d78c7dd",
       "version_major": 2,
       "version_minor": 0
      },
      "text/plain": [
       "Training Labeled:   0%|          | 0/1000 [00:00<?, ?it/s]"
      ]
     },
     "metadata": {},
     "output_type": "display_data"
    },
    {
     "data": {
      "application/vnd.jupyter.widget-view+json": {
       "model_id": "0ed0d4ed36754b88afdee2b10663e60b",
       "version_major": 2,
       "version_minor": 0
      },
      "text/plain": [
       "Training Unlabeled:   0%|          | 0/13000 [00:00<?, ?it/s]"
      ]
     },
     "metadata": {},
     "output_type": "display_data"
    },
    {
     "data": {
      "application/vnd.jupyter.widget-view+json": {
       "model_id": "c64cc3624e8c4d4999fd8d4871434e3e",
       "version_major": 2,
       "version_minor": 0
      },
      "text/plain": [
       "Validating:   0%|          | 0/1000 [00:00<?, ?it/s]"
      ]
     },
     "metadata": {},
     "output_type": "display_data"
    },
    {
     "name": "stdout",
     "output_type": "stream",
     "text": [
      "Epoch 35, Train Loss: 0.12209002860748608, Val Loss: 0.14707470785453916\n"
     ]
    },
    {
     "data": {
      "application/vnd.jupyter.widget-view+json": {
       "model_id": "c075af7c96f842379c080bf54bff34df",
       "version_major": 2,
       "version_minor": 0
      },
      "text/plain": [
       "Training Labeled:   0%|          | 0/1000 [00:00<?, ?it/s]"
      ]
     },
     "metadata": {},
     "output_type": "display_data"
    },
    {
     "data": {
      "application/vnd.jupyter.widget-view+json": {
       "model_id": "156b75e8ff49412b9523484ad57cb6fb",
       "version_major": 2,
       "version_minor": 0
      },
      "text/plain": [
       "Training Unlabeled:   0%|          | 0/13000 [00:00<?, ?it/s]"
      ]
     },
     "metadata": {},
     "output_type": "display_data"
    },
    {
     "data": {
      "application/vnd.jupyter.widget-view+json": {
       "model_id": "91dbfc773e4c4389818aa0d15fd5d7fe",
       "version_major": 2,
       "version_minor": 0
      },
      "text/plain": [
       "Validating:   0%|          | 0/1000 [00:00<?, ?it/s]"
      ]
     },
     "metadata": {},
     "output_type": "display_data"
    },
    {
     "name": "stdout",
     "output_type": "stream",
     "text": [
      "Epoch 36, Train Loss: 0.12038257090760661, Val Loss: 0.15741878567263484\n"
     ]
    },
    {
     "data": {
      "application/vnd.jupyter.widget-view+json": {
       "model_id": "a655df2cdd474bfda3933d5919776b9a",
       "version_major": 2,
       "version_minor": 0
      },
      "text/plain": [
       "Training Labeled:   0%|          | 0/1000 [00:00<?, ?it/s]"
      ]
     },
     "metadata": {},
     "output_type": "display_data"
    },
    {
     "data": {
      "application/vnd.jupyter.widget-view+json": {
       "model_id": "68ffa0a8feee4c66ac192d395c9dce3f",
       "version_major": 2,
       "version_minor": 0
      },
      "text/plain": [
       "Training Unlabeled:   0%|          | 0/13000 [00:00<?, ?it/s]"
      ]
     },
     "metadata": {},
     "output_type": "display_data"
    },
    {
     "data": {
      "application/vnd.jupyter.widget-view+json": {
       "model_id": "24d158b0772f445a893295baabdf1be7",
       "version_major": 2,
       "version_minor": 0
      },
      "text/plain": [
       "Validating:   0%|          | 0/1000 [00:00<?, ?it/s]"
      ]
     },
     "metadata": {},
     "output_type": "display_data"
    },
    {
     "name": "stdout",
     "output_type": "stream",
     "text": [
      "Epoch 37, Train Loss: 0.11952667488171054, Val Loss: 0.14326301236078143\n"
     ]
    },
    {
     "data": {
      "application/vnd.jupyter.widget-view+json": {
       "model_id": "39a9bb6124d64c38b05bc118652d3caf",
       "version_major": 2,
       "version_minor": 0
      },
      "text/plain": [
       "Training Labeled:   0%|          | 0/1000 [00:00<?, ?it/s]"
      ]
     },
     "metadata": {},
     "output_type": "display_data"
    },
    {
     "data": {
      "application/vnd.jupyter.widget-view+json": {
       "model_id": "5de65337b4c04e50b74099659daa68e5",
       "version_major": 2,
       "version_minor": 0
      },
      "text/plain": [
       "Training Unlabeled:   0%|          | 0/13000 [00:00<?, ?it/s]"
      ]
     },
     "metadata": {},
     "output_type": "display_data"
    },
    {
     "data": {
      "application/vnd.jupyter.widget-view+json": {
       "model_id": "c71b1e186e284ed0a9878ddc90122c34",
       "version_major": 2,
       "version_minor": 0
      },
      "text/plain": [
       "Validating:   0%|          | 0/1000 [00:00<?, ?it/s]"
      ]
     },
     "metadata": {},
     "output_type": "display_data"
    },
    {
     "name": "stdout",
     "output_type": "stream",
     "text": [
      "Epoch 38, Train Loss: 0.11774979359111083, Val Loss: 0.14520302815362812\n"
     ]
    },
    {
     "data": {
      "application/vnd.jupyter.widget-view+json": {
       "model_id": "78e9703d8d6644d4813c31d394a8fb53",
       "version_major": 2,
       "version_minor": 0
      },
      "text/plain": [
       "Training Labeled:   0%|          | 0/1000 [00:00<?, ?it/s]"
      ]
     },
     "metadata": {},
     "output_type": "display_data"
    },
    {
     "data": {
      "application/vnd.jupyter.widget-view+json": {
       "model_id": "90816ea80d98459199876e6a845ad23e",
       "version_major": 2,
       "version_minor": 0
      },
      "text/plain": [
       "Training Unlabeled:   0%|          | 0/13000 [00:00<?, ?it/s]"
      ]
     },
     "metadata": {},
     "output_type": "display_data"
    },
    {
     "data": {
      "application/vnd.jupyter.widget-view+json": {
       "model_id": "4f5005930f684edd9cc42ad3e246bfe3",
       "version_major": 2,
       "version_minor": 0
      },
      "text/plain": [
       "Validating:   0%|          | 0/1000 [00:00<?, ?it/s]"
      ]
     },
     "metadata": {},
     "output_type": "display_data"
    },
    {
     "name": "stdout",
     "output_type": "stream",
     "text": [
      "Epoch 39, Train Loss: 0.11638769873950099, Val Loss: 0.14534838226810098\n"
     ]
    },
    {
     "data": {
      "application/vnd.jupyter.widget-view+json": {
       "model_id": "0d647a50e0424f1ba4c6ec9ae6332f55",
       "version_major": 2,
       "version_minor": 0
      },
      "text/plain": [
       "Training Labeled:   0%|          | 0/1000 [00:00<?, ?it/s]"
      ]
     },
     "metadata": {},
     "output_type": "display_data"
    },
    {
     "data": {
      "application/vnd.jupyter.widget-view+json": {
       "model_id": "184eb5816b764a6a861b2c769a69a30b",
       "version_major": 2,
       "version_minor": 0
      },
      "text/plain": [
       "Training Unlabeled:   0%|          | 0/13000 [00:00<?, ?it/s]"
      ]
     },
     "metadata": {},
     "output_type": "display_data"
    },
    {
     "data": {
      "application/vnd.jupyter.widget-view+json": {
       "model_id": "81aa17d25fa24e9da43f0450bf6a1557",
       "version_major": 2,
       "version_minor": 0
      },
      "text/plain": [
       "Validating:   0%|          | 0/1000 [00:00<?, ?it/s]"
      ]
     },
     "metadata": {},
     "output_type": "display_data"
    },
    {
     "name": "stdout",
     "output_type": "stream",
     "text": [
      "Epoch 40, Train Loss: 0.11498159125114658, Val Loss: 0.14371257639862597\n"
     ]
    },
    {
     "data": {
      "application/vnd.jupyter.widget-view+json": {
       "model_id": "918c449f4ac5420887037f3a0b945ccb",
       "version_major": 2,
       "version_minor": 0
      },
      "text/plain": [
       "Training Labeled:   0%|          | 0/1000 [00:00<?, ?it/s]"
      ]
     },
     "metadata": {},
     "output_type": "display_data"
    },
    {
     "data": {
      "application/vnd.jupyter.widget-view+json": {
       "model_id": "79dda1e4ec13495f88b40d678cf47f56",
       "version_major": 2,
       "version_minor": 0
      },
      "text/plain": [
       "Training Unlabeled:   0%|          | 0/13000 [00:00<?, ?it/s]"
      ]
     },
     "metadata": {},
     "output_type": "display_data"
    },
    {
     "data": {
      "application/vnd.jupyter.widget-view+json": {
       "model_id": "3717fb0d51bb4ea4a8e575c2d275416f",
       "version_major": 2,
       "version_minor": 0
      },
      "text/plain": [
       "Validating:   0%|          | 0/1000 [00:00<?, ?it/s]"
      ]
     },
     "metadata": {},
     "output_type": "display_data"
    },
    {
     "name": "stdout",
     "output_type": "stream",
     "text": [
      "Epoch 41, Train Loss: 0.11474881128993418, Val Loss: 0.14278611995466053\n"
     ]
    },
    {
     "data": {
      "application/vnd.jupyter.widget-view+json": {
       "model_id": "8e8d1c5861a546f99d3168f15be54e5f",
       "version_major": 2,
       "version_minor": 0
      },
      "text/plain": [
       "Training Labeled:   0%|          | 0/1000 [00:00<?, ?it/s]"
      ]
     },
     "metadata": {},
     "output_type": "display_data"
    },
    {
     "data": {
      "application/vnd.jupyter.widget-view+json": {
       "model_id": "76f3d26af3c54c588fd2e6bf4a678c12",
       "version_major": 2,
       "version_minor": 0
      },
      "text/plain": [
       "Training Unlabeled:   0%|          | 0/13000 [00:00<?, ?it/s]"
      ]
     },
     "metadata": {},
     "output_type": "display_data"
    },
    {
     "data": {
      "application/vnd.jupyter.widget-view+json": {
       "model_id": "a581dcb0b2f346c480bbaaac5db27b61",
       "version_major": 2,
       "version_minor": 0
      },
      "text/plain": [
       "Validating:   0%|          | 0/1000 [00:00<?, ?it/s]"
      ]
     },
     "metadata": {},
     "output_type": "display_data"
    },
    {
     "name": "stdout",
     "output_type": "stream",
     "text": [
      "Epoch 42, Train Loss: 0.11240765031061269, Val Loss: 0.14195776404440402\n"
     ]
    },
    {
     "data": {
      "application/vnd.jupyter.widget-view+json": {
       "model_id": "e04df3241bb74b73829f4582c38fbf67",
       "version_major": 2,
       "version_minor": 0
      },
      "text/plain": [
       "Training Labeled:   0%|          | 0/1000 [00:00<?, ?it/s]"
      ]
     },
     "metadata": {},
     "output_type": "display_data"
    },
    {
     "data": {
      "application/vnd.jupyter.widget-view+json": {
       "model_id": "6572bf33dbdb46bbb3a7035b345eafaf",
       "version_major": 2,
       "version_minor": 0
      },
      "text/plain": [
       "Training Unlabeled:   0%|          | 0/13000 [00:00<?, ?it/s]"
      ]
     },
     "metadata": {},
     "output_type": "display_data"
    },
    {
     "data": {
      "application/vnd.jupyter.widget-view+json": {
       "model_id": "287427e685e9476e9ded457555b26480",
       "version_major": 2,
       "version_minor": 0
      },
      "text/plain": [
       "Validating:   0%|          | 0/1000 [00:00<?, ?it/s]"
      ]
     },
     "metadata": {},
     "output_type": "display_data"
    },
    {
     "name": "stdout",
     "output_type": "stream",
     "text": [
      "Epoch 43, Train Loss: 0.11196787134624485, Val Loss: 0.14363635699264704\n"
     ]
    },
    {
     "data": {
      "application/vnd.jupyter.widget-view+json": {
       "model_id": "b66f183504234e0db05b6bd800c8c800",
       "version_major": 2,
       "version_minor": 0
      },
      "text/plain": [
       "Training Labeled:   0%|          | 0/1000 [00:00<?, ?it/s]"
      ]
     },
     "metadata": {},
     "output_type": "display_data"
    },
    {
     "data": {
      "application/vnd.jupyter.widget-view+json": {
       "model_id": "5ca7a681dff94c46a50daa5bf23ecc5c",
       "version_major": 2,
       "version_minor": 0
      },
      "text/plain": [
       "Training Unlabeled:   0%|          | 0/13000 [00:00<?, ?it/s]"
      ]
     },
     "metadata": {},
     "output_type": "display_data"
    },
    {
     "data": {
      "application/vnd.jupyter.widget-view+json": {
       "model_id": "172bcaf85caa4d36816f564054d86f4a",
       "version_major": 2,
       "version_minor": 0
      },
      "text/plain": [
       "Validating:   0%|          | 0/1000 [00:00<?, ?it/s]"
      ]
     },
     "metadata": {},
     "output_type": "display_data"
    },
    {
     "name": "stdout",
     "output_type": "stream",
     "text": [
      "Epoch 44, Train Loss: 0.11026249225105025, Val Loss: 0.1503053616322577\n"
     ]
    },
    {
     "data": {
      "application/vnd.jupyter.widget-view+json": {
       "model_id": "e8d3b25d45e6440fbcbdb669a7c1349d",
       "version_major": 2,
       "version_minor": 0
      },
      "text/plain": [
       "Training Labeled:   0%|          | 0/1000 [00:00<?, ?it/s]"
      ]
     },
     "metadata": {},
     "output_type": "display_data"
    },
    {
     "data": {
      "application/vnd.jupyter.widget-view+json": {
       "model_id": "a8d398fd7f4b41bda4f491fbfbb194b5",
       "version_major": 2,
       "version_minor": 0
      },
      "text/plain": [
       "Training Unlabeled:   0%|          | 0/13000 [00:00<?, ?it/s]"
      ]
     },
     "metadata": {},
     "output_type": "display_data"
    },
    {
     "data": {
      "application/vnd.jupyter.widget-view+json": {
       "model_id": "17f5c6446ce244e8b3a1312075927ea2",
       "version_major": 2,
       "version_minor": 0
      },
      "text/plain": [
       "Validating:   0%|          | 0/1000 [00:00<?, ?it/s]"
      ]
     },
     "metadata": {},
     "output_type": "display_data"
    },
    {
     "name": "stdout",
     "output_type": "stream",
     "text": [
      "Epoch 45, Train Loss: 0.10932937689271889, Val Loss: 0.146712068406865\n"
     ]
    },
    {
     "data": {
      "application/vnd.jupyter.widget-view+json": {
       "model_id": "4bda7e0e42ea4328816e2ba72946ff58",
       "version_major": 2,
       "version_minor": 0
      },
      "text/plain": [
       "Training Labeled:   0%|          | 0/1000 [00:00<?, ?it/s]"
      ]
     },
     "metadata": {},
     "output_type": "display_data"
    },
    {
     "data": {
      "application/vnd.jupyter.widget-view+json": {
       "model_id": "4855826403fd4f7a897d6244ac647a2a",
       "version_major": 2,
       "version_minor": 0
      },
      "text/plain": [
       "Training Unlabeled:   0%|          | 0/13000 [00:00<?, ?it/s]"
      ]
     },
     "metadata": {},
     "output_type": "display_data"
    },
    {
     "data": {
      "application/vnd.jupyter.widget-view+json": {
       "model_id": "f186965726104532b0ce38d240b446a2",
       "version_major": 2,
       "version_minor": 0
      },
      "text/plain": [
       "Validating:   0%|          | 0/1000 [00:00<?, ?it/s]"
      ]
     },
     "metadata": {},
     "output_type": "display_data"
    },
    {
     "name": "stdout",
     "output_type": "stream",
     "text": [
      "Epoch 46, Train Loss: 0.1075668479132333, Val Loss: 0.14367004917934537\n"
     ]
    },
    {
     "data": {
      "application/vnd.jupyter.widget-view+json": {
       "model_id": "59e110f83ee04cdea20662d85608449f",
       "version_major": 2,
       "version_minor": 0
      },
      "text/plain": [
       "Training Labeled:   0%|          | 0/1000 [00:00<?, ?it/s]"
      ]
     },
     "metadata": {},
     "output_type": "display_data"
    },
    {
     "data": {
      "application/vnd.jupyter.widget-view+json": {
       "model_id": "f2631fab68fd4c85b4b0d9f3db5aa2fa",
       "version_major": 2,
       "version_minor": 0
      },
      "text/plain": [
       "Training Unlabeled:   0%|          | 0/13000 [00:00<?, ?it/s]"
      ]
     },
     "metadata": {},
     "output_type": "display_data"
    },
    {
     "data": {
      "application/vnd.jupyter.widget-view+json": {
       "model_id": "6ca2f0b0c51a48f8ac9b3a572dd6b0f1",
       "version_major": 2,
       "version_minor": 0
      },
      "text/plain": [
       "Validating:   0%|          | 0/1000 [00:00<?, ?it/s]"
      ]
     },
     "metadata": {},
     "output_type": "display_data"
    },
    {
     "name": "stdout",
     "output_type": "stream",
     "text": [
      "Epoch 47, Train Loss: 0.10676655706197821, Val Loss: 0.15075046702474357\n"
     ]
    },
    {
     "data": {
      "application/vnd.jupyter.widget-view+json": {
       "model_id": "8ec98daaa17c42478fb1d8bde9e46fa3",
       "version_major": 2,
       "version_minor": 0
      },
      "text/plain": [
       "Training Labeled:   0%|          | 0/1000 [00:00<?, ?it/s]"
      ]
     },
     "metadata": {},
     "output_type": "display_data"
    },
    {
     "data": {
      "application/vnd.jupyter.widget-view+json": {
       "model_id": "c6d08706129644e18fef34f2fc6b750e",
       "version_major": 2,
       "version_minor": 0
      },
      "text/plain": [
       "Training Unlabeled:   0%|          | 0/13000 [00:00<?, ?it/s]"
      ]
     },
     "metadata": {},
     "output_type": "display_data"
    },
    {
     "data": {
      "application/vnd.jupyter.widget-view+json": {
       "model_id": "aa39dde9f97241b2b95e2f71c60f9bd9",
       "version_major": 2,
       "version_minor": 0
      },
      "text/plain": [
       "Validating:   0%|          | 0/1000 [00:00<?, ?it/s]"
      ]
     },
     "metadata": {},
     "output_type": "display_data"
    },
    {
     "name": "stdout",
     "output_type": "stream",
     "text": [
      "Epoch 48, Train Loss: 0.10556395204957308, Val Loss: 0.14099181163497268\n"
     ]
    },
    {
     "data": {
      "application/vnd.jupyter.widget-view+json": {
       "model_id": "71911f47673946fb936ba30c8de288b2",
       "version_major": 2,
       "version_minor": 0
      },
      "text/plain": [
       "Training Labeled:   0%|          | 0/1000 [00:00<?, ?it/s]"
      ]
     },
     "metadata": {},
     "output_type": "display_data"
    },
    {
     "data": {
      "application/vnd.jupyter.widget-view+json": {
       "model_id": "aae805ac3f7f4a97ad684e82462ed6ff",
       "version_major": 2,
       "version_minor": 0
      },
      "text/plain": [
       "Training Unlabeled:   0%|          | 0/13000 [00:00<?, ?it/s]"
      ]
     },
     "metadata": {},
     "output_type": "display_data"
    },
    {
     "data": {
      "application/vnd.jupyter.widget-view+json": {
       "model_id": "ddd84c5634b744b89d49fbd2ed41c26f",
       "version_major": 2,
       "version_minor": 0
      },
      "text/plain": [
       "Validating:   0%|          | 0/1000 [00:00<?, ?it/s]"
      ]
     },
     "metadata": {},
     "output_type": "display_data"
    },
    {
     "name": "stdout",
     "output_type": "stream",
     "text": [
      "Epoch 49, Train Loss: 0.10456701670547149, Val Loss: 0.14638579446077346\n"
     ]
    },
    {
     "data": {
      "application/vnd.jupyter.widget-view+json": {
       "model_id": "724b311a492a4308a804b3033252b9f0",
       "version_major": 2,
       "version_minor": 0
      },
      "text/plain": [
       "Training Labeled:   0%|          | 0/1000 [00:00<?, ?it/s]"
      ]
     },
     "metadata": {},
     "output_type": "display_data"
    },
    {
     "data": {
      "application/vnd.jupyter.widget-view+json": {
       "model_id": "83e70bd00b494fa0927743e288709f74",
       "version_major": 2,
       "version_minor": 0
      },
      "text/plain": [
       "Training Unlabeled:   0%|          | 0/13000 [00:00<?, ?it/s]"
      ]
     },
     "metadata": {},
     "output_type": "display_data"
    },
    {
     "data": {
      "application/vnd.jupyter.widget-view+json": {
       "model_id": "6a971eb9133446658ca4f04c587ac2d8",
       "version_major": 2,
       "version_minor": 0
      },
      "text/plain": [
       "Validating:   0%|          | 0/1000 [00:00<?, ?it/s]"
      ]
     },
     "metadata": {},
     "output_type": "display_data"
    },
    {
     "name": "stdout",
     "output_type": "stream",
     "text": [
      "Epoch 50, Train Loss: 0.10373463748149307, Val Loss: 0.14766927248984577\n"
     ]
    }
   ],
   "source": [
    "now = datetime.now()\n",
    "formatted_time = now.strftime(\"%m_%d_%Y_%H%M%S\")\n",
    "dir_name = f'simvp-mask-seq-frame_pre-model-{formatted_time}'\n",
    "os.makedirs(dir_name, exist_ok=True)\n",
    "train_loss, valid_loss = [], []\n",
    "for epoch in tqdm(range(num_epochs)):\n",
    "    model.train()\n",
    "    running_loss = 0.0\n",
    "    # train with labeled data\n",
    "    # print(\"Labeled\")\n",
    "    train_labeled_loop = tqdm(train_loader, desc='Training Labeled', leave=True)\n",
    "    for _, first_eleven_frames, last_frame, masks, last_mask, _ in train_labeled_loop:\n",
    "        # first_eleven_frames = first_eleven_frames.to(device)\n",
    "        # last_frame = last_frame.to(device)\n",
    "        first_eleven_masks = masks[:, :11].unsqueeze(2).to(device)\n",
    "        # last_mask = last_mask.to(torch.long).to(device)\n",
    "        last_eleven_masks = masks.squeeze(0)[11:].to(torch.long).to(device)\n",
    "        # Zero the parameter gradients\n",
    "        optimizer.zero_grad()\n",
    "\n",
    "        # Forward pass\n",
    "        # outputs = model(first_eleven_frames)\n",
    "        # loss = criterion(outputs, last_frame)\n",
    "        outputs = model(first_eleven_masks)\n",
    "        loss = criterion(outputs, last_eleven_masks)\n",
    "        # Backward and optimize\n",
    "        loss.backward()\n",
    "        optimizer.step()\n",
    "        # print(loss.item())\n",
    "        running_loss += loss.item()\n",
    "    # train with unlabeled data\n",
    "    train_unlabeled_loop = tqdm(unlabeled_loader, desc='Training Unlabeled', leave=True)\n",
    "    for  _, first_eleven_frames, last_frame, masks, last_mask, _ in train_unlabeled_loop:\n",
    "        # first_eleven_frames = first_eleven_frames.to(device)\n",
    "        # last_frame = last_frame.to(device)\n",
    "        first_eleven_masks = masks[:, :11].unsqueeze(2).to(device)\n",
    "        # last_mask = last_mask.to(torch.long).to(device)\n",
    "        last_eleven_masks = masks.squeeze(0)[11:].to(torch.long).to(device)\n",
    "        # Zero the parameter gradients\n",
    "        optimizer.zero_grad()\n",
    "        # Forward pass\n",
    "        # outputs = model(first_eleven_frames)\n",
    "        # loss = criterion(outputs, last_frame)\n",
    "        outputs = model(first_eleven_masks)\n",
    "        loss = criterion(outputs, last_eleven_masks)\n",
    "        # Backward and optimize\n",
    "        loss.backward()\n",
    "        optimizer.step()\n",
    "        # print(loss.item())\n",
    "        running_loss += loss.item()\n",
    "    train_epoch_loss = running_loss / (len(train_loader) + len(unlabeled_loader))\n",
    "    train_loss.append(train_epoch_loss)\n",
    "    model.eval()\n",
    "    with torch.no_grad():\n",
    "        val_loss = 0.0\n",
    "        val_loop = tqdm(val_loader, desc='Validating', leave=True)\n",
    "        for  _, first_eleven_frames, last_frame, masks, last_mask, _  in val_loop:\n",
    "            # first_eleven_frames = first_eleven_frames.to(device)\n",
    "            # last_frame = last_frame.to(device)\n",
    "            # outputs = model(first_eleven_frames)\n",
    "            # loss = criterion(outputs, last_frame)\n",
    "            first_eleven_masks = masks[:, :11].unsqueeze(2).to(device)\n",
    "            # last_mask = last_mask.to(torch.long).to(device)\n",
    "            last_eleven_masks = masks.squeeze(0)[11:].to(torch.long).to(device)\n",
    "            outputs = model(first_eleven_masks)\n",
    "            loss = criterion(outputs, last_eleven_masks)\n",
    "            val_loss += loss.item()\n",
    "    val_epoch_loss = val_loss / len(val_loader)\n",
    "    valid_loss.append(val_epoch_loss)\n",
    "\n",
    "    if epoch % 5 == 0:\n",
    "        path = dir_name + f'/checkpoint_{epoch+1}.pt'\n",
    "        torch.save(model, path)\n",
    "    print(f'Epoch {epoch+1}, Train Loss: {train_epoch_loss}, Val Loss: {val_epoch_loss}')"
   ]
  },
  {
   "cell_type": "code",
   "execution_count": 5,
   "metadata": {},
   "outputs": [
    {
     "data": {
      "image/png": "[encoded data removed]",
      "text/plain": [
       "<Figure size 1000x800 with 1 Axes>"
      ]
     },
     "metadata": {},
     "output_type": "display_data"
    }
   ],
   "source": [
    "plt.figure(figsize=(10,8))\n",
    "plt.plot(train_loss, label='Train loss')\n",
    "plt.legend()\n",
    "plt.show()"
   ]
  },
  {
   "cell_type": "code",
   "execution_count": 6,
   "metadata": {},
   "outputs": [
    {
     "data": {
      "image/png": "[encoded data removed]",
      "text/plain": [
       "<Figure size 1000x800 with 1 Axes>"
      ]
     },
     "metadata": {},
     "output_type": "display_data"
    }
   ],
   "source": [
    "plt.figure(figsize=(10,8))\n",
    "plt.plot(valid_loss, label='Validation loss')\n",
    "plt.legend()\n",
    "plt.show()"
   ]
  },
  {
   "cell_type": "markdown",
   "metadata": {},
   "source": [
    "### Save Model"
   ]
  },
  {
   "cell_type": "code",
   "execution_count": 7,
   "metadata": {},
   "outputs": [],
   "source": [
    "path = dir_name + f'/checkpoint.pt'\n",
    "torch.save(model, path)"
   ]
  }
 ],
 "metadata": {
  "kernelspec": {
   "display_name": "dl-final",
   "language": "python",
   "name": "python3"
  },
  "language_info": {
   "codemirror_mode": {
    "name": "ipython",
    "version": 3
   },
   "file_extension": ".py",
   "mimetype": "text/x-python",
   "name": "python",
   "nbconvert_exporter": "python",
   "pygments_lexer": "ipython3",
   "version": "3.12.2"
  }
 },
 "nbformat": 4,
 "nbformat_minor": 2
}
