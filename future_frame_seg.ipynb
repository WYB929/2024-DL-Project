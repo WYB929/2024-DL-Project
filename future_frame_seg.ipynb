{
 "cells": [
  {
   "cell_type": "code",
   "execution_count": 1,
   "metadata": {},
   "outputs": [],
   "source": [
    "import os\n",
    "import torch\n",
    "import torch.nn as nn\n",
    "import torch.nn.functional as F\n",
    "import torch.optim as optim\n",
    "from pixel_level_contrastive_learning import PixelCL\n",
    "from tqdm.notebook import tqdm\n",
    "import numpy as np\n",
    "from PIL import Image\n",
    "from torch.utils.data import Dataset, DataLoader\n",
    "from torchvision import models\n",
    "from torchvision import transforms\n",
    "import matplotlib.pyplot as plt\n",
    "from datetime import datetime\n",
    "from video_dataset import VideoFrameDataset\n",
    "from rrunet import RR_UNET\n",
    "from simvp import SimVP"
   ]
  },
  {
   "cell_type": "markdown",
   "metadata": {},
   "source": [
    "### Load Dataset"
   ]
  },
  {
   "cell_type": "code",
   "execution_count": 2,
   "metadata": {},
   "outputs": [],
   "source": [
    "transform = transforms.Compose([\n",
    "    transforms.Pad(padding=(0, 40), padding_mode='edge'),  # Only pad width\n",
    "    transforms.ToTensor(),\n",
    "    transforms.Normalize(mean=[0.5002, 0.4976, 0.4945], std=[0.0555, 0.0547, 0.0566])  # Standard normalization\n",
    "])\n",
    "\n",
    "root_dir = '/home/yibin/workspace/dl/final_completion/dataset_student/dataset' # Change this to the path of the dataset\n",
    "train_set = VideoFrameDataset(root_dir, 'train', transform)\n",
    "val_set = VideoFrameDataset(root_dir, 'val', transform)\n",
    "unlabeled_set = VideoFrameDataset(root_dir, 'unlabeled', transform)\n",
    "hidden_set = VideoFrameDataset(root_dir, 'hidden', transform)\n",
    "batch_size = 1\n",
    "train_loader = DataLoader(train_set, batch_size=batch_size, shuffle=True)\n",
    "val_loader = DataLoader(val_set, batch_size=batch_size, shuffle=True)\n",
    "demo_test_loader = DataLoader(val_set, batch_size=batch_size, shuffle=False)\n",
    "test_loader = DataLoader(hidden_set, batch_size=batch_size, shuffle=False)"
   ]
  },
  {
   "cell_type": "code",
   "execution_count": 3,
   "metadata": {},
   "outputs": [],
   "source": [
    "device = torch.device(\"cuda\" if torch.cuda.is_available() else \"cpu\")"
   ]
  },
  {
   "cell_type": "code",
   "execution_count": 8,
   "metadata": {},
   "outputs": [],
   "source": [
    "videos, first_frames, last_frame, masks, last_mask, _ = next(iter(demo_test_loader))\n",
    "videos = videos.to(device)\n",
    "first_frames = first_frames.to(device)\n",
    "last_frame = last_frame.to(device)\n",
    "masks = masks.to(device)\n",
    "last_mask = last_mask.to(device)"
   ]
  },
  {
   "cell_type": "code",
   "execution_count": 9,
   "metadata": {},
   "outputs": [
    {
     "data": {
      "text/plain": [
       "(torch.Size([1, 22, 3, 240, 240]),\n",
       " torch.Size([1, 11, 3, 240, 240]),\n",
       " torch.Size([1, 3, 240, 240]),\n",
       " torch.Size([1, 22, 160, 240]),\n",
       " torch.Size([1, 160, 240]))"
      ]
     },
     "execution_count": 9,
     "metadata": {},
     "output_type": "execute_result"
    }
   ],
   "source": [
    "videos.shape, first_frames.shape, last_frame.shape, masks.shape, last_mask.shape"
   ]
  },
  {
   "cell_type": "code",
   "execution_count": 12,
   "metadata": {},
   "outputs": [],
   "source": [
    "def imshow(tensor):\n",
    "    # Assuming tensor is normalized in the typical range for pretrained models\n",
    "    mean = torch.tensor([0.5002, 0.4976, 0.4945])\n",
    "    std = torch.tensor([0.0555, 0.0547, 0.0566])\n",
    "\n",
    "    # Denormalize the image\n",
    "    tensor = tensor.clone()  # Clone the tensor so not to do changes on the original\n",
    "    for t, m, s in zip(tensor, mean, std):\n",
    "        t.mul_(s).add_(m)  # Multiply by std and then add the mean\n",
    "\n",
    "    # Convert tensor to image\n",
    "    image = tensor.permute(1, 2, 0)  # Change from CxHxW to HxWxC format\n",
    "    image = image.numpy()  # Convert to numpy array\n",
    "\n",
    "    # Display the image\n",
    "    plt.imshow(image)\n",
    "    plt.axis('off')  # No axis to show\n",
    "    plt.show()"
   ]
  },
  {
   "cell_type": "markdown",
   "metadata": {},
   "source": [
    "### Load SimVP for Mask Generation"
   ]
  },
  {
   "cell_type": "code",
   "execution_count": 14,
   "metadata": {},
   "outputs": [
    {
     "data": {
      "text/plain": [
       "SimVP(\n",
       "  (enc): Encoder(\n",
       "    (enc): Sequential(\n",
       "      (0): ConvSC(\n",
       "        (conv): BasicConv2d(\n",
       "          (conv): Conv2d(1, 16, kernel_size=(3, 3), stride=(1, 1), padding=(1, 1))\n",
       "          (norm): GroupNorm(2, 16, eps=1e-05, affine=True)\n",
       "          (act): LeakyReLU(negative_slope=0.2, inplace=True)\n",
       "        )\n",
       "      )\n",
       "      (1): ConvSC(\n",
       "        (conv): BasicConv2d(\n",
       "          (conv): Conv2d(16, 16, kernel_size=(3, 3), stride=(2, 2), padding=(1, 1))\n",
       "          (norm): GroupNorm(2, 16, eps=1e-05, affine=True)\n",
       "          (act): LeakyReLU(negative_slope=0.2, inplace=True)\n",
       "        )\n",
       "      )\n",
       "      (2): ConvSC(\n",
       "        (conv): BasicConv2d(\n",
       "          (conv): Conv2d(16, 16, kernel_size=(3, 3), stride=(1, 1), padding=(1, 1))\n",
       "          (norm): GroupNorm(2, 16, eps=1e-05, affine=True)\n",
       "          (act): LeakyReLU(negative_slope=0.2, inplace=True)\n",
       "        )\n",
       "      )\n",
       "      (3): ConvSC(\n",
       "        (conv): BasicConv2d(\n",
       "          (conv): Conv2d(16, 16, kernel_size=(3, 3), stride=(2, 2), padding=(1, 1))\n",
       "          (norm): GroupNorm(2, 16, eps=1e-05, affine=True)\n",
       "          (act): LeakyReLU(negative_slope=0.2, inplace=True)\n",
       "        )\n",
       "      )\n",
       "    )\n",
       "  )\n",
       "  (hid): Mid_Xnet(\n",
       "    (enc): Sequential(\n",
       "      (0): Inception(\n",
       "        (conv1): Conv2d(176, 128, kernel_size=(1, 1), stride=(1, 1))\n",
       "        (layers): Sequential(\n",
       "          (0): GroupConv2d(\n",
       "            (conv): Conv2d(128, 256, kernel_size=(3, 3), stride=(1, 1), padding=(1, 1), groups=8)\n",
       "            (norm): GroupNorm(8, 256, eps=1e-05, affine=True)\n",
       "            (activate): LeakyReLU(negative_slope=0.2, inplace=True)\n",
       "          )\n",
       "          (1): GroupConv2d(\n",
       "            (conv): Conv2d(128, 256, kernel_size=(5, 5), stride=(1, 1), padding=(2, 2), groups=8)\n",
       "            (norm): GroupNorm(8, 256, eps=1e-05, affine=True)\n",
       "            (activate): LeakyReLU(negative_slope=0.2, inplace=True)\n",
       "          )\n",
       "          (2): GroupConv2d(\n",
       "            (conv): Conv2d(128, 256, kernel_size=(7, 7), stride=(1, 1), padding=(3, 3), groups=8)\n",
       "            (norm): GroupNorm(8, 256, eps=1e-05, affine=True)\n",
       "            (activate): LeakyReLU(negative_slope=0.2, inplace=True)\n",
       "          )\n",
       "          (3): GroupConv2d(\n",
       "            (conv): Conv2d(128, 256, kernel_size=(11, 11), stride=(1, 1), padding=(5, 5), groups=8)\n",
       "            (norm): GroupNorm(8, 256, eps=1e-05, affine=True)\n",
       "            (activate): LeakyReLU(negative_slope=0.2, inplace=True)\n",
       "          )\n",
       "        )\n",
       "      )\n",
       "      (1): Inception(\n",
       "        (conv1): Conv2d(256, 128, kernel_size=(1, 1), stride=(1, 1))\n",
       "        (layers): Sequential(\n",
       "          (0): GroupConv2d(\n",
       "            (conv): Conv2d(128, 256, kernel_size=(3, 3), stride=(1, 1), padding=(1, 1), groups=8)\n",
       "            (norm): GroupNorm(8, 256, eps=1e-05, affine=True)\n",
       "            (activate): LeakyReLU(negative_slope=0.2, inplace=True)\n",
       "          )\n",
       "          (1): GroupConv2d(\n",
       "            (conv): Conv2d(128, 256, kernel_size=(5, 5), stride=(1, 1), padding=(2, 2), groups=8)\n",
       "            (norm): GroupNorm(8, 256, eps=1e-05, affine=True)\n",
       "            (activate): LeakyReLU(negative_slope=0.2, inplace=True)\n",
       "          )\n",
       "          (2): GroupConv2d(\n",
       "            (conv): Conv2d(128, 256, kernel_size=(7, 7), stride=(1, 1), padding=(3, 3), groups=8)\n",
       "            (norm): GroupNorm(8, 256, eps=1e-05, affine=True)\n",
       "            (activate): LeakyReLU(negative_slope=0.2, inplace=True)\n",
       "          )\n",
       "          (3): GroupConv2d(\n",
       "            (conv): Conv2d(128, 256, kernel_size=(11, 11), stride=(1, 1), padding=(5, 5), groups=8)\n",
       "            (norm): GroupNorm(8, 256, eps=1e-05, affine=True)\n",
       "            (activate): LeakyReLU(negative_slope=0.2, inplace=True)\n",
       "          )\n",
       "        )\n",
       "      )\n",
       "      (2): Inception(\n",
       "        (conv1): Conv2d(256, 128, kernel_size=(1, 1), stride=(1, 1))\n",
       "        (layers): Sequential(\n",
       "          (0): GroupConv2d(\n",
       "            (conv): Conv2d(128, 256, kernel_size=(3, 3), stride=(1, 1), padding=(1, 1), groups=8)\n",
       "            (norm): GroupNorm(8, 256, eps=1e-05, affine=True)\n",
       "            (activate): LeakyReLU(negative_slope=0.2, inplace=True)\n",
       "          )\n",
       "          (1): GroupConv2d(\n",
       "            (conv): Conv2d(128, 256, kernel_size=(5, 5), stride=(1, 1), padding=(2, 2), groups=8)\n",
       "            (norm): GroupNorm(8, 256, eps=1e-05, affine=True)\n",
       "            (activate): LeakyReLU(negative_slope=0.2, inplace=True)\n",
       "          )\n",
       "          (2): GroupConv2d(\n",
       "            (conv): Conv2d(128, 256, kernel_size=(7, 7), stride=(1, 1), padding=(3, 3), groups=8)\n",
       "            (norm): GroupNorm(8, 256, eps=1e-05, affine=True)\n",
       "            (activate): LeakyReLU(negative_slope=0.2, inplace=True)\n",
       "          )\n",
       "          (3): GroupConv2d(\n",
       "            (conv): Conv2d(128, 256, kernel_size=(11, 11), stride=(1, 1), padding=(5, 5), groups=8)\n",
       "            (norm): GroupNorm(8, 256, eps=1e-05, affine=True)\n",
       "            (activate): LeakyReLU(negative_slope=0.2, inplace=True)\n",
       "          )\n",
       "        )\n",
       "      )\n",
       "      (3): Inception(\n",
       "        (conv1): Conv2d(256, 128, kernel_size=(1, 1), stride=(1, 1))\n",
       "        (layers): Sequential(\n",
       "          (0): GroupConv2d(\n",
       "            (conv): Conv2d(128, 256, kernel_size=(3, 3), stride=(1, 1), padding=(1, 1), groups=8)\n",
       "            (norm): GroupNorm(8, 256, eps=1e-05, affine=True)\n",
       "            (activate): LeakyReLU(negative_slope=0.2, inplace=True)\n",
       "          )\n",
       "          (1): GroupConv2d(\n",
       "            (conv): Conv2d(128, 256, kernel_size=(5, 5), stride=(1, 1), padding=(2, 2), groups=8)\n",
       "            (norm): GroupNorm(8, 256, eps=1e-05, affine=True)\n",
       "            (activate): LeakyReLU(negative_slope=0.2, inplace=True)\n",
       "          )\n",
       "          (2): GroupConv2d(\n",
       "            (conv): Conv2d(128, 256, kernel_size=(7, 7), stride=(1, 1), padding=(3, 3), groups=8)\n",
       "            (norm): GroupNorm(8, 256, eps=1e-05, affine=True)\n",
       "            (activate): LeakyReLU(negative_slope=0.2, inplace=True)\n",
       "          )\n",
       "          (3): GroupConv2d(\n",
       "            (conv): Conv2d(128, 256, kernel_size=(11, 11), stride=(1, 1), padding=(5, 5), groups=8)\n",
       "            (norm): GroupNorm(8, 256, eps=1e-05, affine=True)\n",
       "            (activate): LeakyReLU(negative_slope=0.2, inplace=True)\n",
       "          )\n",
       "        )\n",
       "      )\n",
       "      (4): Inception(\n",
       "        (conv1): Conv2d(256, 128, kernel_size=(1, 1), stride=(1, 1))\n",
       "        (layers): Sequential(\n",
       "          (0): GroupConv2d(\n",
       "            (conv): Conv2d(128, 256, kernel_size=(3, 3), stride=(1, 1), padding=(1, 1), groups=8)\n",
       "            (norm): GroupNorm(8, 256, eps=1e-05, affine=True)\n",
       "            (activate): LeakyReLU(negative_slope=0.2, inplace=True)\n",
       "          )\n",
       "          (1): GroupConv2d(\n",
       "            (conv): Conv2d(128, 256, kernel_size=(5, 5), stride=(1, 1), padding=(2, 2), groups=8)\n",
       "            (norm): GroupNorm(8, 256, eps=1e-05, affine=True)\n",
       "            (activate): LeakyReLU(negative_slope=0.2, inplace=True)\n",
       "          )\n",
       "          (2): GroupConv2d(\n",
       "            (conv): Conv2d(128, 256, kernel_size=(7, 7), stride=(1, 1), padding=(3, 3), groups=8)\n",
       "            (norm): GroupNorm(8, 256, eps=1e-05, affine=True)\n",
       "            (activate): LeakyReLU(negative_slope=0.2, inplace=True)\n",
       "          )\n",
       "          (3): GroupConv2d(\n",
       "            (conv): Conv2d(128, 256, kernel_size=(11, 11), stride=(1, 1), padding=(5, 5), groups=8)\n",
       "            (norm): GroupNorm(8, 256, eps=1e-05, affine=True)\n",
       "            (activate): LeakyReLU(negative_slope=0.2, inplace=True)\n",
       "          )\n",
       "        )\n",
       "      )\n",
       "      (5): Inception(\n",
       "        (conv1): Conv2d(256, 128, kernel_size=(1, 1), stride=(1, 1))\n",
       "        (layers): Sequential(\n",
       "          (0): GroupConv2d(\n",
       "            (conv): Conv2d(128, 256, kernel_size=(3, 3), stride=(1, 1), padding=(1, 1), groups=8)\n",
       "            (norm): GroupNorm(8, 256, eps=1e-05, affine=True)\n",
       "            (activate): LeakyReLU(negative_slope=0.2, inplace=True)\n",
       "          )\n",
       "          (1): GroupConv2d(\n",
       "            (conv): Conv2d(128, 256, kernel_size=(5, 5), stride=(1, 1), padding=(2, 2), groups=8)\n",
       "            (norm): GroupNorm(8, 256, eps=1e-05, affine=True)\n",
       "            (activate): LeakyReLU(negative_slope=0.2, inplace=True)\n",
       "          )\n",
       "          (2): GroupConv2d(\n",
       "            (conv): Conv2d(128, 256, kernel_size=(7, 7), stride=(1, 1), padding=(3, 3), groups=8)\n",
       "            (norm): GroupNorm(8, 256, eps=1e-05, affine=True)\n",
       "            (activate): LeakyReLU(negative_slope=0.2, inplace=True)\n",
       "          )\n",
       "          (3): GroupConv2d(\n",
       "            (conv): Conv2d(128, 256, kernel_size=(11, 11), stride=(1, 1), padding=(5, 5), groups=8)\n",
       "            (norm): GroupNorm(8, 256, eps=1e-05, affine=True)\n",
       "            (activate): LeakyReLU(negative_slope=0.2, inplace=True)\n",
       "          )\n",
       "        )\n",
       "      )\n",
       "      (6): Inception(\n",
       "        (conv1): Conv2d(256, 128, kernel_size=(1, 1), stride=(1, 1))\n",
       "        (layers): Sequential(\n",
       "          (0): GroupConv2d(\n",
       "            (conv): Conv2d(128, 256, kernel_size=(3, 3), stride=(1, 1), padding=(1, 1), groups=8)\n",
       "            (norm): GroupNorm(8, 256, eps=1e-05, affine=True)\n",
       "            (activate): LeakyReLU(negative_slope=0.2, inplace=True)\n",
       "          )\n",
       "          (1): GroupConv2d(\n",
       "            (conv): Conv2d(128, 256, kernel_size=(5, 5), stride=(1, 1), padding=(2, 2), groups=8)\n",
       "            (norm): GroupNorm(8, 256, eps=1e-05, affine=True)\n",
       "            (activate): LeakyReLU(negative_slope=0.2, inplace=True)\n",
       "          )\n",
       "          (2): GroupConv2d(\n",
       "            (conv): Conv2d(128, 256, kernel_size=(7, 7), stride=(1, 1), padding=(3, 3), groups=8)\n",
       "            (norm): GroupNorm(8, 256, eps=1e-05, affine=True)\n",
       "            (activate): LeakyReLU(negative_slope=0.2, inplace=True)\n",
       "          )\n",
       "          (3): GroupConv2d(\n",
       "            (conv): Conv2d(128, 256, kernel_size=(11, 11), stride=(1, 1), padding=(5, 5), groups=8)\n",
       "            (norm): GroupNorm(8, 256, eps=1e-05, affine=True)\n",
       "            (activate): LeakyReLU(negative_slope=0.2, inplace=True)\n",
       "          )\n",
       "        )\n",
       "      )\n",
       "      (7): Inception(\n",
       "        (conv1): Conv2d(256, 128, kernel_size=(1, 1), stride=(1, 1))\n",
       "        (layers): Sequential(\n",
       "          (0): GroupConv2d(\n",
       "            (conv): Conv2d(128, 256, kernel_size=(3, 3), stride=(1, 1), padding=(1, 1), groups=8)\n",
       "            (norm): GroupNorm(8, 256, eps=1e-05, affine=True)\n",
       "            (activate): LeakyReLU(negative_slope=0.2, inplace=True)\n",
       "          )\n",
       "          (1): GroupConv2d(\n",
       "            (conv): Conv2d(128, 256, kernel_size=(5, 5), stride=(1, 1), padding=(2, 2), groups=8)\n",
       "            (norm): GroupNorm(8, 256, eps=1e-05, affine=True)\n",
       "            (activate): LeakyReLU(negative_slope=0.2, inplace=True)\n",
       "          )\n",
       "          (2): GroupConv2d(\n",
       "            (conv): Conv2d(128, 256, kernel_size=(7, 7), stride=(1, 1), padding=(3, 3), groups=8)\n",
       "            (norm): GroupNorm(8, 256, eps=1e-05, affine=True)\n",
       "            (activate): LeakyReLU(negative_slope=0.2, inplace=True)\n",
       "          )\n",
       "          (3): GroupConv2d(\n",
       "            (conv): Conv2d(128, 256, kernel_size=(11, 11), stride=(1, 1), padding=(5, 5), groups=8)\n",
       "            (norm): GroupNorm(8, 256, eps=1e-05, affine=True)\n",
       "            (activate): LeakyReLU(negative_slope=0.2, inplace=True)\n",
       "          )\n",
       "        )\n",
       "      )\n",
       "    )\n",
       "    (dec): Sequential(\n",
       "      (0): Inception(\n",
       "        (conv1): Conv2d(256, 128, kernel_size=(1, 1), stride=(1, 1))\n",
       "        (layers): Sequential(\n",
       "          (0): GroupConv2d(\n",
       "            (conv): Conv2d(128, 256, kernel_size=(3, 3), stride=(1, 1), padding=(1, 1), groups=8)\n",
       "            (norm): GroupNorm(8, 256, eps=1e-05, affine=True)\n",
       "            (activate): LeakyReLU(negative_slope=0.2, inplace=True)\n",
       "          )\n",
       "          (1): GroupConv2d(\n",
       "            (conv): Conv2d(128, 256, kernel_size=(5, 5), stride=(1, 1), padding=(2, 2), groups=8)\n",
       "            (norm): GroupNorm(8, 256, eps=1e-05, affine=True)\n",
       "            (activate): LeakyReLU(negative_slope=0.2, inplace=True)\n",
       "          )\n",
       "          (2): GroupConv2d(\n",
       "            (conv): Conv2d(128, 256, kernel_size=(7, 7), stride=(1, 1), padding=(3, 3), groups=8)\n",
       "            (norm): GroupNorm(8, 256, eps=1e-05, affine=True)\n",
       "            (activate): LeakyReLU(negative_slope=0.2, inplace=True)\n",
       "          )\n",
       "          (3): GroupConv2d(\n",
       "            (conv): Conv2d(128, 256, kernel_size=(11, 11), stride=(1, 1), padding=(5, 5), groups=8)\n",
       "            (norm): GroupNorm(8, 256, eps=1e-05, affine=True)\n",
       "            (activate): LeakyReLU(negative_slope=0.2, inplace=True)\n",
       "          )\n",
       "        )\n",
       "      )\n",
       "      (1): Inception(\n",
       "        (conv1): Conv2d(512, 128, kernel_size=(1, 1), stride=(1, 1))\n",
       "        (layers): Sequential(\n",
       "          (0): GroupConv2d(\n",
       "            (conv): Conv2d(128, 256, kernel_size=(3, 3), stride=(1, 1), padding=(1, 1), groups=8)\n",
       "            (norm): GroupNorm(8, 256, eps=1e-05, affine=True)\n",
       "            (activate): LeakyReLU(negative_slope=0.2, inplace=True)\n",
       "          )\n",
       "          (1): GroupConv2d(\n",
       "            (conv): Conv2d(128, 256, kernel_size=(5, 5), stride=(1, 1), padding=(2, 2), groups=8)\n",
       "            (norm): GroupNorm(8, 256, eps=1e-05, affine=True)\n",
       "            (activate): LeakyReLU(negative_slope=0.2, inplace=True)\n",
       "          )\n",
       "          (2): GroupConv2d(\n",
       "            (conv): Conv2d(128, 256, kernel_size=(7, 7), stride=(1, 1), padding=(3, 3), groups=8)\n",
       "            (norm): GroupNorm(8, 256, eps=1e-05, affine=True)\n",
       "            (activate): LeakyReLU(negative_slope=0.2, inplace=True)\n",
       "          )\n",
       "          (3): GroupConv2d(\n",
       "            (conv): Conv2d(128, 256, kernel_size=(11, 11), stride=(1, 1), padding=(5, 5), groups=8)\n",
       "            (norm): GroupNorm(8, 256, eps=1e-05, affine=True)\n",
       "            (activate): LeakyReLU(negative_slope=0.2, inplace=True)\n",
       "          )\n",
       "        )\n",
       "      )\n",
       "      (2): Inception(\n",
       "        (conv1): Conv2d(512, 128, kernel_size=(1, 1), stride=(1, 1))\n",
       "        (layers): Sequential(\n",
       "          (0): GroupConv2d(\n",
       "            (conv): Conv2d(128, 256, kernel_size=(3, 3), stride=(1, 1), padding=(1, 1), groups=8)\n",
       "            (norm): GroupNorm(8, 256, eps=1e-05, affine=True)\n",
       "            (activate): LeakyReLU(negative_slope=0.2, inplace=True)\n",
       "          )\n",
       "          (1): GroupConv2d(\n",
       "            (conv): Conv2d(128, 256, kernel_size=(5, 5), stride=(1, 1), padding=(2, 2), groups=8)\n",
       "            (norm): GroupNorm(8, 256, eps=1e-05, affine=True)\n",
       "            (activate): LeakyReLU(negative_slope=0.2, inplace=True)\n",
       "          )\n",
       "          (2): GroupConv2d(\n",
       "            (conv): Conv2d(128, 256, kernel_size=(7, 7), stride=(1, 1), padding=(3, 3), groups=8)\n",
       "            (norm): GroupNorm(8, 256, eps=1e-05, affine=True)\n",
       "            (activate): LeakyReLU(negative_slope=0.2, inplace=True)\n",
       "          )\n",
       "          (3): GroupConv2d(\n",
       "            (conv): Conv2d(128, 256, kernel_size=(11, 11), stride=(1, 1), padding=(5, 5), groups=8)\n",
       "            (norm): GroupNorm(8, 256, eps=1e-05, affine=True)\n",
       "            (activate): LeakyReLU(negative_slope=0.2, inplace=True)\n",
       "          )\n",
       "        )\n",
       "      )\n",
       "      (3): Inception(\n",
       "        (conv1): Conv2d(512, 128, kernel_size=(1, 1), stride=(1, 1))\n",
       "        (layers): Sequential(\n",
       "          (0): GroupConv2d(\n",
       "            (conv): Conv2d(128, 256, kernel_size=(3, 3), stride=(1, 1), padding=(1, 1), groups=8)\n",
       "            (norm): GroupNorm(8, 256, eps=1e-05, affine=True)\n",
       "            (activate): LeakyReLU(negative_slope=0.2, inplace=True)\n",
       "          )\n",
       "          (1): GroupConv2d(\n",
       "            (conv): Conv2d(128, 256, kernel_size=(5, 5), stride=(1, 1), padding=(2, 2), groups=8)\n",
       "            (norm): GroupNorm(8, 256, eps=1e-05, affine=True)\n",
       "            (activate): LeakyReLU(negative_slope=0.2, inplace=True)\n",
       "          )\n",
       "          (2): GroupConv2d(\n",
       "            (conv): Conv2d(128, 256, kernel_size=(7, 7), stride=(1, 1), padding=(3, 3), groups=8)\n",
       "            (norm): GroupNorm(8, 256, eps=1e-05, affine=True)\n",
       "            (activate): LeakyReLU(negative_slope=0.2, inplace=True)\n",
       "          )\n",
       "          (3): GroupConv2d(\n",
       "            (conv): Conv2d(128, 256, kernel_size=(11, 11), stride=(1, 1), padding=(5, 5), groups=8)\n",
       "            (norm): GroupNorm(8, 256, eps=1e-05, affine=True)\n",
       "            (activate): LeakyReLU(negative_slope=0.2, inplace=True)\n",
       "          )\n",
       "        )\n",
       "      )\n",
       "      (4): Inception(\n",
       "        (conv1): Conv2d(512, 128, kernel_size=(1, 1), stride=(1, 1))\n",
       "        (layers): Sequential(\n",
       "          (0): GroupConv2d(\n",
       "            (conv): Conv2d(128, 256, kernel_size=(3, 3), stride=(1, 1), padding=(1, 1), groups=8)\n",
       "            (norm): GroupNorm(8, 256, eps=1e-05, affine=True)\n",
       "            (activate): LeakyReLU(negative_slope=0.2, inplace=True)\n",
       "          )\n",
       "          (1): GroupConv2d(\n",
       "            (conv): Conv2d(128, 256, kernel_size=(5, 5), stride=(1, 1), padding=(2, 2), groups=8)\n",
       "            (norm): GroupNorm(8, 256, eps=1e-05, affine=True)\n",
       "            (activate): LeakyReLU(negative_slope=0.2, inplace=True)\n",
       "          )\n",
       "          (2): GroupConv2d(\n",
       "            (conv): Conv2d(128, 256, kernel_size=(7, 7), stride=(1, 1), padding=(3, 3), groups=8)\n",
       "            (norm): GroupNorm(8, 256, eps=1e-05, affine=True)\n",
       "            (activate): LeakyReLU(negative_slope=0.2, inplace=True)\n",
       "          )\n",
       "          (3): GroupConv2d(\n",
       "            (conv): Conv2d(128, 256, kernel_size=(11, 11), stride=(1, 1), padding=(5, 5), groups=8)\n",
       "            (norm): GroupNorm(8, 256, eps=1e-05, affine=True)\n",
       "            (activate): LeakyReLU(negative_slope=0.2, inplace=True)\n",
       "          )\n",
       "        )\n",
       "      )\n",
       "      (5): Inception(\n",
       "        (conv1): Conv2d(512, 128, kernel_size=(1, 1), stride=(1, 1))\n",
       "        (layers): Sequential(\n",
       "          (0): GroupConv2d(\n",
       "            (conv): Conv2d(128, 256, kernel_size=(3, 3), stride=(1, 1), padding=(1, 1), groups=8)\n",
       "            (norm): GroupNorm(8, 256, eps=1e-05, affine=True)\n",
       "            (activate): LeakyReLU(negative_slope=0.2, inplace=True)\n",
       "          )\n",
       "          (1): GroupConv2d(\n",
       "            (conv): Conv2d(128, 256, kernel_size=(5, 5), stride=(1, 1), padding=(2, 2), groups=8)\n",
       "            (norm): GroupNorm(8, 256, eps=1e-05, affine=True)\n",
       "            (activate): LeakyReLU(negative_slope=0.2, inplace=True)\n",
       "          )\n",
       "          (2): GroupConv2d(\n",
       "            (conv): Conv2d(128, 256, kernel_size=(7, 7), stride=(1, 1), padding=(3, 3), groups=8)\n",
       "            (norm): GroupNorm(8, 256, eps=1e-05, affine=True)\n",
       "            (activate): LeakyReLU(negative_slope=0.2, inplace=True)\n",
       "          )\n",
       "          (3): GroupConv2d(\n",
       "            (conv): Conv2d(128, 256, kernel_size=(11, 11), stride=(1, 1), padding=(5, 5), groups=8)\n",
       "            (norm): GroupNorm(8, 256, eps=1e-05, affine=True)\n",
       "            (activate): LeakyReLU(negative_slope=0.2, inplace=True)\n",
       "          )\n",
       "        )\n",
       "      )\n",
       "      (6): Inception(\n",
       "        (conv1): Conv2d(512, 128, kernel_size=(1, 1), stride=(1, 1))\n",
       "        (layers): Sequential(\n",
       "          (0): GroupConv2d(\n",
       "            (conv): Conv2d(128, 256, kernel_size=(3, 3), stride=(1, 1), padding=(1, 1), groups=8)\n",
       "            (norm): GroupNorm(8, 256, eps=1e-05, affine=True)\n",
       "            (activate): LeakyReLU(negative_slope=0.2, inplace=True)\n",
       "          )\n",
       "          (1): GroupConv2d(\n",
       "            (conv): Conv2d(128, 256, kernel_size=(5, 5), stride=(1, 1), padding=(2, 2), groups=8)\n",
       "            (norm): GroupNorm(8, 256, eps=1e-05, affine=True)\n",
       "            (activate): LeakyReLU(negative_slope=0.2, inplace=True)\n",
       "          )\n",
       "          (2): GroupConv2d(\n",
       "            (conv): Conv2d(128, 256, kernel_size=(7, 7), stride=(1, 1), padding=(3, 3), groups=8)\n",
       "            (norm): GroupNorm(8, 256, eps=1e-05, affine=True)\n",
       "            (activate): LeakyReLU(negative_slope=0.2, inplace=True)\n",
       "          )\n",
       "          (3): GroupConv2d(\n",
       "            (conv): Conv2d(128, 256, kernel_size=(11, 11), stride=(1, 1), padding=(5, 5), groups=8)\n",
       "            (norm): GroupNorm(8, 256, eps=1e-05, affine=True)\n",
       "            (activate): LeakyReLU(negative_slope=0.2, inplace=True)\n",
       "          )\n",
       "        )\n",
       "      )\n",
       "      (7): Inception(\n",
       "        (conv1): Conv2d(512, 128, kernel_size=(1, 1), stride=(1, 1))\n",
       "        (layers): Sequential(\n",
       "          (0): GroupConv2d(\n",
       "            (conv): Conv2d(128, 176, kernel_size=(3, 3), stride=(1, 1), padding=(1, 1), groups=8)\n",
       "            (norm): GroupNorm(8, 176, eps=1e-05, affine=True)\n",
       "            (activate): LeakyReLU(negative_slope=0.2, inplace=True)\n",
       "          )\n",
       "          (1): GroupConv2d(\n",
       "            (conv): Conv2d(128, 176, kernel_size=(5, 5), stride=(1, 1), padding=(2, 2), groups=8)\n",
       "            (norm): GroupNorm(8, 176, eps=1e-05, affine=True)\n",
       "            (activate): LeakyReLU(negative_slope=0.2, inplace=True)\n",
       "          )\n",
       "          (2): GroupConv2d(\n",
       "            (conv): Conv2d(128, 176, kernel_size=(7, 7), stride=(1, 1), padding=(3, 3), groups=8)\n",
       "            (norm): GroupNorm(8, 176, eps=1e-05, affine=True)\n",
       "            (activate): LeakyReLU(negative_slope=0.2, inplace=True)\n",
       "          )\n",
       "          (3): GroupConv2d(\n",
       "            (conv): Conv2d(128, 176, kernel_size=(11, 11), stride=(1, 1), padding=(5, 5), groups=8)\n",
       "            (norm): GroupNorm(8, 176, eps=1e-05, affine=True)\n",
       "            (activate): LeakyReLU(negative_slope=0.2, inplace=True)\n",
       "          )\n",
       "        )\n",
       "      )\n",
       "    )\n",
       "  )\n",
       "  (dec): Decoder(\n",
       "    (dec): Sequential(\n",
       "      (0): ConvSC(\n",
       "        (conv): BasicConv2d(\n",
       "          (conv): ConvTranspose2d(16, 16, kernel_size=(3, 3), stride=(2, 2), padding=(1, 1), output_padding=(1, 1))\n",
       "          (norm): GroupNorm(2, 16, eps=1e-05, affine=True)\n",
       "          (act): LeakyReLU(negative_slope=0.2, inplace=True)\n",
       "        )\n",
       "      )\n",
       "      (1): ConvSC(\n",
       "        (conv): BasicConv2d(\n",
       "          (conv): Conv2d(16, 16, kernel_size=(3, 3), stride=(1, 1), padding=(1, 1))\n",
       "          (norm): GroupNorm(2, 16, eps=1e-05, affine=True)\n",
       "          (act): LeakyReLU(negative_slope=0.2, inplace=True)\n",
       "        )\n",
       "      )\n",
       "      (2): ConvSC(\n",
       "        (conv): BasicConv2d(\n",
       "          (conv): ConvTranspose2d(16, 16, kernel_size=(3, 3), stride=(2, 2), padding=(1, 1), output_padding=(1, 1))\n",
       "          (norm): GroupNorm(2, 16, eps=1e-05, affine=True)\n",
       "          (act): LeakyReLU(negative_slope=0.2, inplace=True)\n",
       "        )\n",
       "      )\n",
       "      (3): ConvSC(\n",
       "        (conv): BasicConv2d(\n",
       "          (conv): Conv2d(32, 16, kernel_size=(3, 3), stride=(1, 1), padding=(1, 1))\n",
       "          (norm): GroupNorm(2, 16, eps=1e-05, affine=True)\n",
       "          (act): LeakyReLU(negative_slope=0.2, inplace=True)\n",
       "        )\n",
       "      )\n",
       "    )\n",
       "    (readout): Conv2d(16, 49, kernel_size=(1, 1), stride=(1, 1))\n",
       "  )\n",
       ")"
      ]
     },
     "execution_count": 14,
     "metadata": {},
     "output_type": "execute_result"
    }
   ],
   "source": [
    "frame_pred_model = SimVP(shape_in=[11,1,160,240], out_channel=49)\n",
    "frame_pred_model = torch.load('/home/yibin/workspace/dl/final_completion/finetune-simvp-mask-seq-frame_pre-model-04_29_2024_210630/checkpoint.pt') # path to your model\n",
    "frame_pred_model.to(device)"
   ]
  },
  {
   "cell_type": "markdown",
   "metadata": {},
   "source": [
    "### Test on Validation Set"
   ]
  },
  {
   "cell_type": "code",
   "execution_count": 29,
   "metadata": {},
   "outputs": [],
   "source": [
    "sample_outputs_list = []\n",
    "truth_list = []\n",
    "frame_pred_model.eval()\n",
    "with torch.no_grad():\n",
    "    for _, _, _, masks, last_mask, _ in demo_test_loader:\n",
    "        first_eleven_masks = masks[:, :11].unsqueeze(2).to(device)\n",
    "        pred = frame_pred_model(first_eleven_masks)\n",
    "        pred = torch.argmax(pred, dim=1)\n",
    "        pred = pred[-1].cpu().detach()\n",
    "        sample_outputs_list.append(pred)\n",
    "        truth_list.append(last_mask[0])"
   ]
  },
  {
   "cell_type": "code",
   "execution_count": 30,
   "metadata": {},
   "outputs": [],
   "source": [
    "sample_all_outputs = torch.stack(sample_outputs_list, dim=0)\n",
    "sample_all_truth = torch.stack(truth_list, dim=0)"
   ]
  },
  {
   "cell_type": "code",
   "execution_count": 31,
   "metadata": {},
   "outputs": [
    {
     "data": {
      "text/plain": [
       "(torch.Size([1000, 160, 240]), torch.Size([1000, 160, 240]))"
      ]
     },
     "execution_count": 31,
     "metadata": {},
     "output_type": "execute_result"
    }
   ],
   "source": [
    "sample_all_outputs.shape, sample_all_truth.shape"
   ]
  },
  {
   "cell_type": "code",
   "execution_count": 32,
   "metadata": {},
   "outputs": [
    {
     "data": {
      "text/plain": [
       "tensor(0.3337)"
      ]
     },
     "execution_count": 32,
     "metadata": {},
     "output_type": "execute_result"
    }
   ],
   "source": [
    "from torchmetrics import JaccardIndex\n",
    "jaccard = JaccardIndex(task=\"multiclass\", num_classes=49)\n",
    "jaccard(sample_all_outputs, sample_all_truth)"
   ]
  },
  {
   "cell_type": "markdown",
   "metadata": {},
   "source": [
    "### Verify Predicted Output"
   ]
  },
  {
   "cell_type": "code",
   "execution_count": 53,
   "metadata": {},
   "outputs": [],
   "source": [
    "num = 18"
   ]
  },
  {
   "cell_type": "markdown",
   "metadata": {},
   "source": [
    "#### Ground Truth Mask"
   ]
  },
  {
   "cell_type": "code",
   "execution_count": 54,
   "metadata": {},
   "outputs": [
    {
     "data": {
      "text/plain": [
       "<matplotlib.image.AxesImage at 0x7f6eb632b500>"
      ]
     },
     "execution_count": 54,
     "metadata": {},
     "output_type": "execute_result"
    },
    {
     "data": {
      "image/png": "[encoded data removed]",
      "text/plain": [
       "<Figure size 640x480 with 1 Axes>"
      ]
     },
     "metadata": {},
     "output_type": "display_data"
    }
   ],
   "source": [
    "plt.imshow(sample_all_truth[num])"
   ]
  },
  {
   "cell_type": "markdown",
   "metadata": {},
   "source": [
    "#### Predicted Mask"
   ]
  },
  {
   "cell_type": "code",
   "execution_count": 55,
   "metadata": {},
   "outputs": [
    {
     "data": {
      "text/plain": [
       "<matplotlib.image.AxesImage at 0x7f6eb6389c40>"
      ]
     },
     "execution_count": 55,
     "metadata": {},
     "output_type": "execute_result"
    },
    {
     "data": {
      "image/png": "[encoded data removed]",
      "text/plain": [
       "<Figure size 640x480 with 1 Axes>"
      ]
     },
     "metadata": {},
     "output_type": "display_data"
    }
   ],
   "source": [
    "plt.imshow(sample_all_outputs[num])"
   ]
  },
  {
   "cell_type": "markdown",
   "metadata": {},
   "source": [
    "### Generate Final Result"
   ]
  },
  {
   "cell_type": "code",
   "execution_count": 33,
   "metadata": {},
   "outputs": [],
   "source": [
    "outputs_list = []\n",
    "frame_pred_model.eval()\n",
    "path_list = []\n",
    "with torch.no_grad():\n",
    "    for _, _, _, masks, last_mask, path in test_loader:\n",
    "        first_eleven_masks = masks[:, :11].unsqueeze(2).to(device)\n",
    "        pred = frame_pred_model(first_eleven_masks)\n",
    "        pred = torch.argmax(pred, dim=1)\n",
    "        pred = pred[-1].cpu()\n",
    "        pred = pred.squeeze(0)\n",
    "        outputs_list.append(pred)\n",
    "        path_list.append(path)\n",
    "all_outputs = torch.stack(outputs_list, dim=0)"
   ]
  },
  {
   "cell_type": "code",
   "execution_count": 34,
   "metadata": {},
   "outputs": [
    {
     "data": {
      "text/plain": [
       "torch.Size([5000, 160, 240])"
      ]
     },
     "execution_count": 34,
     "metadata": {},
     "output_type": "execute_result"
    }
   ],
   "source": [
    "all_outputs.shape"
   ]
  },
  {
   "cell_type": "code",
   "execution_count": 36,
   "metadata": {},
   "outputs": [
    {
     "data": {
      "text/plain": [
       "<matplotlib.image.AxesImage at 0x7f6f28181a30>"
      ]
     },
     "execution_count": 36,
     "metadata": {},
     "output_type": "execute_result"
    },
    {
     "data": {
      "image/png": "[encoded data removed]",
      "text/plain": [
       "<Figure size 640x480 with 1 Axes>"
      ]
     },
     "metadata": {},
     "output_type": "display_data"
    }
   ],
   "source": [
    "plt.imshow(all_outputs[num].cpu().numpy())"
   ]
  },
  {
   "cell_type": "markdown",
   "metadata": {},
   "source": [
    "### Save Model"
   ]
  },
  {
   "cell_type": "code",
   "execution_count": 37,
   "metadata": {},
   "outputs": [],
   "source": [
    "torch.save(all_outputs.to(torch.uint8), 'team_11.pt')"
   ]
  }
 ],
 "metadata": {
  "kernelspec": {
   "display_name": "dl-final",
   "language": "python",
   "name": "python3"
  },
  "language_info": {
   "codemirror_mode": {
    "name": "ipython",
    "version": 3
   },
   "file_extension": ".py",
   "mimetype": "text/x-python",
   "name": "python",
   "nbconvert_exporter": "python",
   "pygments_lexer": "ipython3",
   "version": "3.12.2"
  }
 },
 "nbformat": 4,
 "nbformat_minor": 2
}
